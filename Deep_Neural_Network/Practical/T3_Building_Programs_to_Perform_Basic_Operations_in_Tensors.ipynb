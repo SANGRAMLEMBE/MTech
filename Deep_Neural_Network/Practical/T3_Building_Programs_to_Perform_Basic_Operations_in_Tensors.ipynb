{
  "nbformat": 4,
  "nbformat_minor": 0,
  "metadata": {
    "colab": {
      "provenance": [],
      "gpuType": "T4",
      "authorship_tag": "ABX9TyM0xBqOhFIwVL8hSwb5Cdaw",
      "include_colab_link": true
    },
    "kernelspec": {
      "name": "python3",
      "display_name": "Python 3"
    },
    "language_info": {
      "name": "python"
    },
    "accelerator": "GPU"
  },
  "cells": [
    {
      "cell_type": "markdown",
      "metadata": {
        "id": "view-in-github",
        "colab_type": "text"
      },
      "source": [
        "<a href=\"https://colab.research.google.com/github/SANGRAMLEMBE/MTech/blob/main/Deep_Neural_Network/Practical/T3_Building_Programs_to_Perform_Basic_Operations_in_Tensors.ipynb\" target=\"_parent\"><img src=\"https://colab.research.google.com/assets/colab-badge.svg\" alt=\"Open In Colab\"/></a>"
      ]
    },
    {
      "cell_type": "markdown",
      "source": [
        "# Tutorial T3: Building Programs to Perform Basic Operations in Tensors"
      ],
      "metadata": {
        "id": "XUz03dNlFGvU"
      }
    },
    {
      "cell_type": "code",
      "execution_count": null,
      "metadata": {
        "id": "pbKJGEDyDcbn"
      },
      "outputs": [],
      "source": [
        "import numpy as np\n",
        "import tensorflow as tf\n",
        "import matplotlib.pyplot as plt\n",
        "import warnings\n",
        "warnings.filterwarnings('ignore')\n",
        "\n"
      ]
    },
    {
      "cell_type": "code",
      "source": [
        "# Set random seeds for reproducibility\n",
        "np.random.seed(42)\n",
        "tf.random.set_seed(42)\n",
        "\n",
        "print(f\"TensorFlow version: {tf.__version__}\")\n",
        "print(f\"NumPy version: {np.__version__}\")\n",
        "print(\"Environment ready!\")"
      ],
      "metadata": {
        "colab": {
          "base_uri": "https://localhost:8080/"
        },
        "id": "VbseOFi5H2Ek",
        "outputId": "7629659b-747b-4c3b-a26c-bdb27ae414d9"
      },
      "execution_count": null,
      "outputs": [
        {
          "output_type": "stream",
          "name": "stdout",
          "text": [
            "TensorFlow version: 2.19.0\n",
            "NumPy version: 2.0.2\n",
            "Environment ready!\n"
          ]
        }
      ]
    },
    {
      "cell_type": "markdown",
      "source": [
        "## Part 1: Custom Activation Functions\n",
        "\n",
        "### Task 1A: Implement Basic Activation Functions"
      ],
      "metadata": {
        "id": "FW2oX88GF9xD"
      }
    },
    {
      "cell_type": "code",
      "source": [
        "def sigmoid(x):\n",
        "    \"\"\"Sigmoid activation: σ(x) = 1/(1+e^(-x))\n",
        "\n",
        "    Key points:\n",
        "    - Output range: (0, 1)\n",
        "    - Used for binary classification\n",
        "    - Suffers from vanishing gradient problem\n",
        "    \"\"\"\n",
        "    # Clip x to prevent overflow in exp(-x)\n",
        "    x = np.clip(x, -500, 500)\n",
        "    return 1 / (1 + np.exp(-x))\n",
        "\n",
        "\n",
        "print(\"Sigmoid activation functions implemented successfully!\")\n"
      ],
      "metadata": {
        "colab": {
          "base_uri": "https://localhost:8080/"
        },
        "id": "w871BT2-F6XL",
        "outputId": "59d39ab4-ce0f-49d9-efbe-701cc1cc2497"
      },
      "execution_count": null,
      "outputs": [
        {
          "output_type": "stream",
          "name": "stdout",
          "text": [
            "Sigmoid activation functions implemented successfully!\n"
          ]
        }
      ]
    },
    {
      "cell_type": "code",
      "source": [
        "def tanh_custom(x):\n",
        "    \"\"\"Hyperbolic tangent: tanh(x) = (e^x - e^(-x))/(e^x + e^(-x))\n",
        "\n",
        "    Key points:\n",
        "    - Output range: (-1, 1)\n",
        "    - Zero-centered (better than sigmoid)\n",
        "    - Still suffers from vanishing gradients\n",
        "    \"\"\"\n",
        "    # Use numpy's built-in tanh for numerical stability\n",
        "    # But showing manual implementation for understanding:\n",
        "    x = np.clip(x, -500, 500)\n",
        "    exp_x = np.exp(x)\n",
        "    exp_neg_x = np.exp(-x)\n",
        "    return (exp_x - exp_neg_x) / (exp_x + exp_neg_x)\n",
        "\n",
        "print(\"tanh activation functions implemented successfully!\")\n"
      ],
      "metadata": {
        "colab": {
          "base_uri": "https://localhost:8080/"
        },
        "id": "qjRhY4CzIXaC",
        "outputId": "0cc5905c-378f-433b-e02a-f3ff5bf560b5"
      },
      "execution_count": null,
      "outputs": [
        {
          "output_type": "stream",
          "name": "stdout",
          "text": [
            "tanh activation functions implemented successfully!\n"
          ]
        }
      ]
    },
    {
      "cell_type": "code",
      "source": [
        "def relu_custom(x):\n",
        "    \"\"\"ReLU activation: max(0,x)\n",
        "\n",
        "    Key points:\n",
        "    - Output range: [0, ∞)\n",
        "    - No vanishing gradient for positive values\n",
        "    - Can suffer from \"dying ReLU\" problem\n",
        "    - Most popular activation for hidden layers\n",
        "    \"\"\"\n",
        "    return np.maximum(0, x)\n",
        "print(\"ReLU activation functions implemented successfully!\")\n",
        "\n"
      ],
      "metadata": {
        "colab": {
          "base_uri": "https://localhost:8080/"
        },
        "id": "I3_svMdVIcf4",
        "outputId": "ad786c20-53a4-4e61-a5e5-76cbd86b76dd"
      },
      "execution_count": null,
      "outputs": [
        {
          "output_type": "stream",
          "name": "stdout",
          "text": [
            "ReLU activation functions implemented successfully!\n"
          ]
        }
      ]
    },
    {
      "cell_type": "code",
      "source": [
        "def leaky_relu_custom(x, alpha=0.01):\n",
        "    \"\"\"Leaky ReLU: x if x>0, alpha*x otherwise\n",
        "\n",
        "    Key points:\n",
        "    - Fixes dying ReLU problem\n",
        "    - Small gradient for negative values\n",
        "    - alpha typically 0.01 to 0.3\n",
        "    \"\"\"\n",
        "    return np.where(x > 0, x, alpha * x)\n",
        "\n",
        "print(\"Leaky ReLU activation functions implemented successfully!\")\n",
        "\n"
      ],
      "metadata": {
        "colab": {
          "base_uri": "https://localhost:8080/"
        },
        "id": "lJpJ_vJOJphU",
        "outputId": "bdb09e40-8d06-4acc-8f52-e61aa6cff016"
      },
      "execution_count": null,
      "outputs": [
        {
          "output_type": "stream",
          "name": "stdout",
          "text": [
            "Leaky ReLU activation functions implemented successfully!\n"
          ]
        }
      ]
    },
    {
      "cell_type": "code",
      "source": [
        "# Bonus: Advanced activations\n",
        "def elu_custom(x, alpha=1.0):\n",
        "    \"\"\"ELU activation: x if x>0, alpha*(e^x - 1) otherwise\n",
        "\n",
        "    Key points:\n",
        "    - Smooth negative part\n",
        "    - Faster convergence than ReLU\n",
        "    - Computationally more expensive\n",
        "    \"\"\"\n",
        "    return np.where(x > 0, x, alpha * (np.exp(np.clip(x, -500, 500)) - 1))\n",
        "\n",
        "print(\"ELU activation functions implemented successfully!\")\n",
        "\n"
      ],
      "metadata": {
        "colab": {
          "base_uri": "https://localhost:8080/"
        },
        "id": "gRmvI4NkJv9Z",
        "outputId": "f6adf2ed-fd57-4bfc-a855-a5bd9d8bc4be"
      },
      "execution_count": null,
      "outputs": [
        {
          "output_type": "stream",
          "name": "stdout",
          "text": [
            "ELU activation functions implemented successfully!\n"
          ]
        }
      ]
    },
    {
      "cell_type": "code",
      "source": [
        "def swish_custom(x, beta=1.0):\n",
        "    \"\"\"Swish activation: x * sigmoid(beta*x)\n",
        "\n",
        "    Key points:\n",
        "    - Self-gated activation\n",
        "    - Smooth and non-monotonic\n",
        "    - Good performance in deep networks\n",
        "    \"\"\"\n",
        "    return x * sigmoid(beta * x)\n",
        "\n",
        "print(\"Swish activation functions implemented successfully!\")"
      ],
      "metadata": {
        "colab": {
          "base_uri": "https://localhost:8080/"
        },
        "id": "frELf0xGJzx1",
        "outputId": "290793bd-0aa5-4228-c6d0-2d77b356f974"
      },
      "execution_count": null,
      "outputs": [
        {
          "output_type": "stream",
          "name": "stdout",
          "text": [
            "Swish activation functions implemented successfully!\n"
          ]
        }
      ]
    },
    {
      "cell_type": "markdown",
      "source": [
        "## Test Activation Functions"
      ],
      "metadata": {
        "id": "GzFagH4pGm_G"
      }
    },
    {
      "cell_type": "code",
      "source": [
        "# Test values covering edge cases\n",
        "test_values = np.array([-5, -2, -1, 0, 1, 2, 5])\n",
        "\n",
        "print(\"Testing activation functions with various inputs:\")\n",
        "print(f\"Input: {test_values}\")\n",
        "print(f\"Sigmoid:    {sigmoid(test_values).round(2)}\")\n",
        "print(f\"Tanh:       {tanh_custom(test_values).round(2)}\")\n",
        "print(f\"ReLU:       {relu_custom(test_values).round(2)}\")\n",
        "print(f\"Leaky ReLU: {leaky_relu_custom(test_values).round(2)}\")\n",
        "print(f\"ELU:        {elu_custom(test_values).round(2)}\")\n",
        "print(f\"Swish:      {swish_custom(test_values).round(2)}\")\n",
        "\n"
      ],
      "metadata": {
        "colab": {
          "base_uri": "https://localhost:8080/"
        },
        "id": "kVNqUhNvGCUq",
        "outputId": "5d3e81fc-e242-443d-c1f2-061c472c4d7e"
      },
      "execution_count": null,
      "outputs": [
        {
          "output_type": "stream",
          "name": "stdout",
          "text": [
            "Testing activation functions with various inputs:\n",
            "Input: [-5 -2 -1  0  1  2  5]\n",
            "Sigmoid:    [0.01 0.12 0.27 0.5  0.73 0.88 0.99]\n",
            "Tanh:       [-1.   -0.96 -0.76  0.    0.76  0.96  1.  ]\n",
            "ReLU:       [0 0 0 0 1 2 5]\n",
            "Leaky ReLU: [-0.05 -0.02 -0.01  0.    1.    2.    5.  ]\n",
            "ELU:        [-0.99 -0.86 -0.63  0.    1.    2.    5.  ]\n",
            "Swish:      [-0.03 -0.24 -0.27  0.    0.73  1.76  4.97]\n"
          ]
        }
      ]
    },
    {
      "cell_type": "code",
      "source": [
        "# Test edge cases\n",
        "print(\"\\n🧪 Testing edge cases:\")\n",
        "print(f\"Sigmoid(0) = {sigmoid(0)} (should be 0.5)\")\n",
        "print(f\"Sigmoid(100) = {sigmoid(100)} (should approach 1)\")\n",
        "print(f\"ReLU(-10) = {relu_custom(-10)} (should be 0)\")\n",
        "print(f\"Leaky ReLU(-1, 0.1) = {leaky_relu_custom(-1, 0.1)} (should be -0.1)\")"
      ],
      "metadata": {
        "colab": {
          "base_uri": "https://localhost:8080/"
        },
        "id": "F0sQ6nIBJ8A1",
        "outputId": "c486493c-0d31-4535-f6a6-949289903796"
      },
      "execution_count": null,
      "outputs": [
        {
          "output_type": "stream",
          "name": "stdout",
          "text": [
            "\n",
            "🧪 Testing edge cases:\n",
            "Sigmoid(0) = 0.5 (should be 0.5)\n",
            "Sigmoid(100) = 1.0 (should approach 1)\n",
            "ReLU(-10) = 0 (should be 0)\n",
            "Leaky ReLU(-1, 0.1) = -0.1 (should be -0.1)\n"
          ]
        }
      ]
    },
    {
      "cell_type": "markdown",
      "source": [
        "### Task 1B: Gradient Computation"
      ],
      "metadata": {
        "id": "i-fh2tSSG9Ob"
      }
    },
    {
      "cell_type": "code",
      "source": [
        "def sigmoid_gradient(x):\n",
        "    \"\"\"Sigmoid derivative: σ(x) * (1 - σ(x))\n",
        "\n",
        "    Mathematical derivation:\n",
        "    d/dx[1/(1+e^(-x))] = e^(-x)/(1+e^(-x))^2 = σ(x)(1-σ(x))\n",
        "\n",
        "    Key insight: Maximum gradient is 0.25 at x=0\n",
        "    \"\"\"\n",
        "    s = sigmoid(x)\n",
        "    return s * (1 - s)\n",
        "\n",
        "print(\"Sigmoid gradient functions implemented successfully!\")\n"
      ],
      "metadata": {
        "colab": {
          "base_uri": "https://localhost:8080/"
        },
        "id": "I_cZZ3iwGp_R",
        "outputId": "8134a79a-75ca-4fae-dd54-563002abf31d"
      },
      "execution_count": null,
      "outputs": [
        {
          "output_type": "stream",
          "name": "stdout",
          "text": [
            "Sigmoid gradient functions implemented successfully!\n"
          ]
        }
      ]
    },
    {
      "cell_type": "code",
      "source": [
        "\n",
        "def tanh_gradient(x):\n",
        "    \"\"\"Tanh derivative: 1 - tanh²(x)\n",
        "\n",
        "    Mathematical derivation:\n",
        "    d/dx[tanh(x)] = sech²(x) = 1 - tanh²(x)\n",
        "\n",
        "    Key insight: Maximum gradient is 1 at x=0\n",
        "    \"\"\"\n",
        "    t = tanh_custom(x)\n",
        "    return 1 - t**2\n",
        "\n",
        "print(\"Tanh gradient functions implemented successfully!\")\n",
        "\n"
      ],
      "metadata": {
        "colab": {
          "base_uri": "https://localhost:8080/"
        },
        "id": "eFqbfhJ8K1Gj",
        "outputId": "c0dee652-0b35-4440-8287-e13f93c2e49a"
      },
      "execution_count": null,
      "outputs": [
        {
          "output_type": "stream",
          "name": "stdout",
          "text": [
            "Tanh gradient functions implemented successfully!\n"
          ]
        }
      ]
    },
    {
      "cell_type": "code",
      "source": [
        "def relu_gradient(x):\n",
        "    \"\"\"ReLU derivative: 1 if x>0, 0 otherwise\n",
        "\n",
        "    Key insight:\n",
        "    - Gradient is constant (1) for positive inputs\n",
        "    - No vanishing gradient problem for x>0\n",
        "    - Undefined at x=0 (we use 0 by convention)\n",
        "    \"\"\"\n",
        "    return np.where(x > 0, 1.0, 0.0)\n",
        "\n",
        "print(\"ReLU gradient functions implemented successfully!\")\n",
        "\n",
        "\n"
      ],
      "metadata": {
        "colab": {
          "base_uri": "https://localhost:8080/"
        },
        "id": "PfA0BydVK9Mu",
        "outputId": "68d890f4-e8cc-4251-e790-587ce3de8312"
      },
      "execution_count": null,
      "outputs": [
        {
          "output_type": "stream",
          "name": "stdout",
          "text": [
            "ReLU gradient functions implemented successfully!\n"
          ]
        }
      ]
    },
    {
      "cell_type": "code",
      "source": [
        "def leaky_relu_gradient(x, alpha=0.01):\n",
        "    \"\"\"Leaky ReLU derivative: 1 if x>0, alpha otherwise\n",
        "\n",
        "    Key insight: Always has some gradient (prevents dead neurons)\n",
        "    \"\"\"\n",
        "    return np.where(x > 0, 1.0, alpha)\n",
        "\n",
        "print(\"Leaky ReLU gradient functions implemented successfully!\")\n",
        "\n"
      ],
      "metadata": {
        "colab": {
          "base_uri": "https://localhost:8080/"
        },
        "id": "EtTqwNyCLA0C",
        "outputId": "61fd9877-9c4d-4302-c03a-838739051e2f"
      },
      "execution_count": null,
      "outputs": [
        {
          "output_type": "stream",
          "name": "stdout",
          "text": [
            "Leaky ReLU gradient functions implemented successfully!\n"
          ]
        }
      ]
    },
    {
      "cell_type": "code",
      "source": [
        "def elu_gradient(x, alpha=1.0):\n",
        "    \"\"\"ELU derivative: 1 if x>0, alpha*e^x otherwise\n",
        "\n",
        "    Key insight: Smooth gradient transition\n",
        "    \"\"\"\n",
        "    return np.where(x > 0, 1.0, alpha * np.exp(np.clip(x, -500, 500)))\n",
        "\n",
        "print(\"ELU gradient functions implemented successfully!\")\n",
        "\n"
      ],
      "metadata": {
        "colab": {
          "base_uri": "https://localhost:8080/"
        },
        "id": "RMutg5LOLDnC",
        "outputId": "2027a9f8-a6b6-4da1-b562-cd411594861d"
      },
      "execution_count": null,
      "outputs": [
        {
          "output_type": "stream",
          "name": "stdout",
          "text": [
            "ELU gradient functions implemented successfully!\n"
          ]
        }
      ]
    },
    {
      "cell_type": "code",
      "source": [
        "\n",
        "def swish_gradient(x, beta=1.0):\n",
        "    \"\"\"Swish derivative: sigmoid(βx) + x*β*sigmoid(βx)*(1-sigmoid(βx))\n",
        "\n",
        "    More complex but provides smooth gradients\n",
        "    \"\"\"\n",
        "    sig = sigmoid(beta * x)\n",
        "    return sig + x * beta * sig * (1 - sig)\n",
        "\n",
        "print(\"Swish gradient functions implemented successfully!\")"
      ],
      "metadata": {
        "colab": {
          "base_uri": "https://localhost:8080/"
        },
        "id": "CAZw4DEbLFw7",
        "outputId": "9bd92738-f2b4-439a-e5ed-8772d72e7b02"
      },
      "execution_count": null,
      "outputs": [
        {
          "output_type": "stream",
          "name": "stdout",
          "text": [
            "Swish gradient functions implemented successfully!\n"
          ]
        }
      ]
    },
    {
      "cell_type": "markdown",
      "source": [
        "### Test Gradient Functions"
      ],
      "metadata": {
        "id": "ZshzpW_fHKbl"
      }
    },
    {
      "cell_type": "code",
      "source": [
        "# Test gradient functions\n",
        "test_vals = np.array([-2, -1, 0, 1, 2])\n",
        "\n",
        "print(\"Testing gradient functions:\")\n",
        "print(f\"Input:              {test_vals}\")\n",
        "print(f\"Sigmoid gradient:   {sigmoid_gradient(test_vals).round(2)}\")\n",
        "print(f\"Tanh gradient:      {tanh_gradient(test_vals).round(2)}\")\n",
        "print(f\"ReLU gradient:      {relu_gradient(test_vals).round(2)}\")\n",
        "print(f\"Leaky ReLU grad:    {leaky_relu_gradient(test_vals).round(2)}\")\n",
        "\n",
        "# Verify key properties\n",
        "print(\"\\n🧪 Verifying gradient properties:\")\n",
        "print(f\"Max sigmoid gradient: {sigmoid_gradient(0):.2f} (should be 0.25)\")\n",
        "print(f\"Max tanh gradient: {tanh_gradient(0):.2f} (should be 1.0)\")\n",
        "print(f\"ReLU gradient consistency: positive={relu_gradient(1)}, negative={relu_gradient(-1)}\")"
      ],
      "metadata": {
        "colab": {
          "base_uri": "https://localhost:8080/"
        },
        "id": "lmCSagNYHDsw",
        "outputId": "3057db99-baeb-4e02-e303-aacc87cf9f61"
      },
      "execution_count": null,
      "outputs": [
        {
          "output_type": "stream",
          "name": "stdout",
          "text": [
            "Testing gradient functions:\n",
            "Input:              [-2 -1  0  1  2]\n",
            "Sigmoid gradient:   [0.1  0.2  0.25 0.2  0.1 ]\n",
            "Tanh gradient:      [0.07 0.42 1.   0.42 0.07]\n",
            "ReLU gradient:      [0. 0. 0. 1. 1.]\n",
            "Leaky ReLU grad:    [0.01 0.01 0.01 1.   1.  ]\n",
            "\n",
            "🧪 Verifying gradient properties:\n",
            "Max sigmoid gradient: 0.25 (should be 0.25)\n",
            "Max tanh gradient: 1.00 (should be 1.0)\n",
            "ReLU gradient consistency: positive=1.0, negative=0.0\n"
          ]
        }
      ]
    },
    {
      "cell_type": "markdown",
      "source": [
        "### Visualize Activations and Gradients"
      ],
      "metadata": {
        "id": "Re6x6tQgHPAF"
      }
    },
    {
      "cell_type": "code",
      "source": [
        "def plot_activation_and_gradient(func, grad_func, name, color='blue'):\n",
        "    \"\"\"Plot activation function and its gradient side by side\"\"\"\n",
        "    x = np.linspace(-5, 5, 200)\n",
        "    y = func(x)\n",
        "    dy = grad_func(x)\n",
        "\n",
        "    fig, (ax1, ax2) = plt.subplots(1, 2, figsize=(12, 4))\n",
        "\n",
        "    # Plot activation function\n",
        "    ax1.plot(x, y, color=color, linewidth=2.5, label=f'{name}')\n",
        "    ax1.set_title(f'{name} Activation Function', fontsize=14, fontweight='bold')\n",
        "    ax1.set_xlabel('x', fontsize=12)\n",
        "    ax1.set_ylabel('f(x)', fontsize=12)\n",
        "    ax1.grid(True, alpha=0.3)\n",
        "    ax1.axhline(y=0, color='black', linewidth=0.5)\n",
        "    ax1.axvline(x=0, color='black', linewidth=0.5)\n",
        "    ax1.legend()\n",
        "\n",
        "    # Plot gradient\n",
        "    ax2.plot(x, dy, color='red', linewidth=2.5, label=f\"{name} derivative\")\n",
        "    ax2.set_title(f'{name} Gradient', fontsize=14, fontweight='bold')\n",
        "    ax2.set_xlabel('x', fontsize=12)\n",
        "    ax2.set_ylabel(\"f'(x)\", fontsize=12)\n",
        "    ax2.grid(True, alpha=0.3)\n",
        "    ax2.axhline(y=0, color='black', linewidth=0.5)\n",
        "    ax2.axvline(x=0, color='black', linewidth=0.5)\n",
        "    ax2.legend()\n",
        "\n",
        "    plt.tight_layout()\n",
        "    plt.show()\n",
        "\n",
        "# Plot all activation functions and their gradients\n",
        "plot_activation_and_gradient(sigmoid, sigmoid_gradient, 'Sigmoid', 'blue')\n",
        "plot_activation_and_gradient(tanh_custom, tanh_gradient, 'Tanh', 'green')\n",
        "plot_activation_and_gradient(relu_custom, relu_gradient, 'ReLU', 'red')\n",
        "plot_activation_and_gradient(lambda x: leaky_relu_custom(x),\n",
        "                            lambda x: leaky_relu_gradient(x), 'Leaky ReLU', 'purple')"
      ],
      "metadata": {
        "colab": {
          "base_uri": "https://localhost:8080/",
          "height": 1000
        },
        "id": "0rEsQudCHM_U",
        "outputId": "e4160f6f-f51e-4d45-bcf4-c7f331f308b7"
      },
      "execution_count": null,
      "outputs": [
        {
          "output_type": "display_data",
          "data": {
            "text/plain": [
              "<Figure size 1200x400 with 2 Axes>"
            ],
            "image/png": "[encoded data removed]"
          },
          "metadata": {}
        },
        {
          "output_type": "display_data",
          "data": {
            "text/plain": [
              "<Figure size 1200x400 with 2 Axes>"
            ],
            "image/png": "[encoded data removed]"
          },
          "metadata": {}
        },
        {
          "output_type": "display_data",
          "data": {
            "text/plain": [
              "<Figure size 1200x400 with 2 Axes>"
            ],
            "image/png": "[encoded data removed]"
          },
          "metadata": {}
        },
        {
          "output_type": "display_data",
          "data": {
            "text/plain": [
              "<Figure size 1200x400 with 2 Axes>"
            ],
            "image/png": "[encoded data removed]"
          },
          "metadata": {}
        }
      ]
    },
    {
      "cell_type": "markdown",
      "source": [
        "### Comparative Analysis of Activations"
      ],
      "metadata": {
        "id": "OUyKv8YgHkvp"
      }
    },
    {
      "cell_type": "code",
      "source": [
        "# Compare all activations on same plot\n",
        "x = np.linspace(-5, 5, 200)\n",
        "\n",
        "plt.figure(figsize=(15, 5))\n",
        "\n",
        "# Plot activations\n",
        "plt.subplot(1, 2, 1)\n",
        "plt.plot(x, sigmoid(x), 'b-', linewidth=2, label='Sigmoid')\n",
        "plt.plot(x, tanh_custom(x), 'g-', linewidth=2, label='Tanh')\n",
        "plt.plot(x, relu_custom(x), 'r-', linewidth=2, label='ReLU')\n",
        "plt.plot(x, leaky_relu_custom(x), 'purple', linewidth=2, label='Leaky ReLU')\n",
        "plt.title('Activation Functions Comparison', fontsize=14, fontweight='bold')\n",
        "plt.xlabel('x')\n",
        "plt.ylabel('f(x)')\n",
        "plt.grid(True, alpha=0.3)\n",
        "plt.legend()\n",
        "plt.axhline(y=0, color='black', linewidth=0.5)\n",
        "plt.axvline(x=0, color='black', linewidth=0.5)\n",
        "\n",
        "# Plot gradients\n",
        "plt.subplot(1, 2, 2)\n",
        "plt.plot(x, sigmoid_gradient(x), 'b-', linewidth=2, label='Sigmoid')\n",
        "plt.plot(x, tanh_gradient(x), 'g-', linewidth=2, label='Tanh')\n",
        "plt.plot(x, relu_gradient(x), 'r-', linewidth=2, label='ReLU')\n",
        "plt.plot(x, leaky_relu_gradient(x), 'purple', linewidth=2, label='Leaky ReLU')\n",
        "plt.title('Gradient Functions Comparison', fontsize=14, fontweight='bold')\n",
        "plt.xlabel('x')\n",
        "plt.ylabel(\"f'(x)\")\n",
        "plt.grid(True, alpha=0.3)\n",
        "plt.legend()\n",
        "plt.axhline(y=0, color='black', linewidth=0.5)\n",
        "plt.axvline(x=0, color='black', linewidth=0.5)\n",
        "\n",
        "plt.tight_layout()\n",
        "plt.show()\n",
        "\n",
        "print(\"\\n📊 Key Observations:\")\n",
        "print(\"1. Sigmoid & Tanh suffer from vanishing gradients (gradients → 0 for large |x|)\")\n",
        "print(\"2. ReLU has constant gradient (1) for positive inputs, 0 for negative\")\n",
        "print(\"3. Leaky ReLU prevents dead neurons with small negative gradient\")\n",
        "print(\"4. Sigmoid is not zero-centered, Tanh is zero-centered\")"
      ],
      "metadata": {
        "colab": {
          "base_uri": "https://localhost:8080/",
          "height": 574
        },
        "id": "IZ7EPQS5HSN9",
        "outputId": "7f2fd15f-e8a6-483e-c963-5fee665ab5cd"
      },
      "execution_count": null,
      "outputs": [
        {
          "output_type": "display_data",
          "data": {
            "text/plain": [
              "<Figure size 1500x500 with 2 Axes>"
            ],
            "image/png": "[encoded data removed]"
          },
          "metadata": {}
        },
        {
          "output_type": "stream",
          "name": "stdout",
          "text": [
            "\n",
            "📊 Key Observations:\n",
            "1. Sigmoid & Tanh suffer from vanishing gradients (gradients → 0 for large |x|)\n",
            "2. ReLU has constant gradient (1) for positive inputs, 0 for negative\n",
            "3. Leaky ReLU prevents dead neurons with small negative gradient\n",
            "4. Sigmoid is not zero-centered, Tanh is zero-centered\n"
          ]
        }
      ]
    },
    {
      "cell_type": "markdown",
      "source": [
        "## Part 2: Tensor Operations & Layer Construction (25 minutes)\n",
        "\n",
        "### Task 2A: Basic Tensor Operations ✅ COMPLETE SOLUTIONS\n"
      ],
      "metadata": {
        "id": "438iWUtNHrcC"
      }
    },
    {
      "cell_type": "code",
      "source": [
        "# 1. Create tensors of different dimensions\n",
        "scalar = tf.constant(5.0)\n",
        "vector = tf.constant([1, 2, 3], dtype=tf.float32)\n",
        "matrix = tf.constant([[1, 2], [3, 4]], dtype=tf.float32)\n",
        "tensor_3d = tf.constant([[[1, 2], [3, 4]], [[5, 6], [7, 8]]], dtype=tf.float32)\n",
        "\n",
        "print(\"📐 Tensor Shapes and Properties:\")\n",
        "print(f\"Scalar: shape={scalar.shape}, ndim={scalar.ndim}, value={scalar.numpy()}\")\n",
        "print(f\"Vector: shape={vector.shape}, ndim={vector.ndim}\")\n",
        "print(f\"Matrix: shape={matrix.shape}, ndim={matrix.ndim}\")\n",
        "print(f\"3D Tensor: shape={tensor_3d.shape}, ndim={tensor_3d.ndim}\")\n",
        "\n",
        "print(f\"\\n🔍 Detailed tensor information:\")\n",
        "print(f\"Vector: {vector.numpy()}\")\n",
        "print(f\"Matrix:\\n{matrix.numpy()}\")\n",
        "print(f\"3D Tensor shape explanation: {tensor_3d.shape} = (batch_size=2, height=2, width=2)\")"
      ],
      "metadata": {
        "colab": {
          "base_uri": "https://localhost:8080/"
        },
        "id": "GKctAyO1HrQI",
        "outputId": "2ccd63e7-45ae-4a69-af6f-001d7b77edfe"
      },
      "execution_count": null,
      "outputs": [
        {
          "output_type": "stream",
          "name": "stdout",
          "text": [
            "📐 Tensor Shapes and Properties:\n",
            "Scalar: shape=(), ndim=0, value=5.0\n",
            "Vector: shape=(3,), ndim=1\n",
            "Matrix: shape=(2, 2), ndim=2\n",
            "3D Tensor: shape=(2, 2, 2), ndim=3\n",
            "\n",
            "🔍 Detailed tensor information:\n",
            "Vector: [1. 2. 3.]\n",
            "Matrix:\n",
            "[[1. 2.]\n",
            " [3. 4.]]\n",
            "3D Tensor shape explanation: (2, 2, 2) = (batch_size=2, height=2, width=2)\n"
          ]
        }
      ]
    },
    {
      "cell_type": "code",
      "source": [
        "# 2. Matrix multiplication exercises - COMPLETE SOLUTIONS\n",
        "A = tf.constant([[1, 2], [3, 4]], dtype=tf.float32)\n",
        "B = tf.constant([[5, 6], [7, 8]], dtype=tf.float32)\n",
        "\n",
        "print(\"🔢 Matrix Operations:\")\n",
        "print(f\"Matrix A:\\n{A.numpy()}\")\n",
        "print(f\"Matrix B:\\n{B.numpy()}\")\n",
        "\n",
        "# Element-wise multiplication (Hadamard product)\n",
        "element_wise = tf.multiply(A, B)  # or A * B\n",
        "print(f\"\\nElement-wise multiplication (A ⊙ B):\\n{element_wise.numpy()}\")\n",
        "\n",
        "# Matrix multiplication (dot product)\n",
        "matrix_mult = tf.matmul(A, B)  # or A @ B\n",
        "print(f\"\\nMatrix multiplication (A @ B):\\n{matrix_mult.numpy()}\")\n",
        "\n",
        "# Manual verification of matrix multiplication\n",
        "print(f\"\\n🧮 Manual verification:\")\n",
        "print(f\"A[0,0]*B[0,0] + A[0,1]*B[1,0] = {A[0,0]*B[0,0] + A[0,1]*B[1,0]} = {matrix_mult[0,0]}\")\n",
        "print(f\"A[0,0]*B[0,1] + A[0,1]*B[1,1] = {A[0,0]*B[0,1] + A[0,1]*B[1,1]} = {matrix_mult[0,1]}\")\n",
        "\n",
        "# Other useful operations\n",
        "dot_product = tf.tensordot(A, B, axes=1)  # Tensor contraction\n",
        "print(f\"\\nTensor dot product:\\n{dot_product.numpy()}\")"
      ],
      "metadata": {
        "colab": {
          "base_uri": "https://localhost:8080/"
        },
        "id": "usbqgxd2HnZr",
        "outputId": "6d02b19e-c6e4-48c7-8d31-0fbdb0e75f4e"
      },
      "execution_count": null,
      "outputs": [
        {
          "output_type": "stream",
          "name": "stdout",
          "text": [
            "🔢 Matrix Operations:\n",
            "Matrix A:\n",
            "[[1. 2.]\n",
            " [3. 4.]]\n",
            "Matrix B:\n",
            "[[5. 6.]\n",
            " [7. 8.]]\n",
            "\n",
            "Element-wise multiplication (A ⊙ B):\n",
            "[[ 5. 12.]\n",
            " [21. 32.]]\n",
            "\n",
            "Matrix multiplication (A @ B):\n",
            "[[19. 22.]\n",
            " [43. 50.]]\n",
            "\n",
            "🧮 Manual verification:\n",
            "A[0,0]*B[0,0] + A[0,1]*B[1,0] = 19.0 = 19.0\n",
            "A[0,0]*B[0,1] + A[0,1]*B[1,1] = 22.0 = 22.0\n",
            "\n",
            "Tensor dot product:\n",
            "[[19. 22.]\n",
            " [43. 50.]]\n"
          ]
        }
      ]
    },
    {
      "cell_type": "code",
      "source": [
        "# 3. Broadcasting operations - COMPLETE SOLUTIONS\n",
        "vec = tf.constant([1, 2], dtype=tf.float32)  # Shape: (2,)\n",
        "mat = tf.constant([[1, 2], [3, 4], [5, 6]], dtype=tf.float32)  # Shape: (3, 2)\n",
        "\n",
        "print(\"📡 Broadcasting Examples:\")\n",
        "print(f\"Vector shape: {vec.shape}\")\n",
        "print(f\"Matrix shape: {mat.shape}\")\n",
        "print(f\"\\nOriginal matrix:\\n{mat.numpy()}\")\n",
        "print(f\"Vector to broadcast: {vec.numpy()}\")\n",
        "\n",
        "# Broadcasting addition - adds vector to each row\n",
        "broadcasted_add = mat + vec  # Shape: (3,2) + (2,) -> (3,2)\n",
        "print(f\"\\nBroadcasted addition (mat + vec):\\n{broadcasted_add.numpy()}\")\n",
        "\n",
        "# Broadcasting multiplication\n",
        "broadcasted_mult = mat * vec\n",
        "print(f\"\\nBroadcasted multiplication (mat * vec):\\n{broadcasted_mult.numpy()}\")\n",
        "\n",
        "# Explicit reshape for clarity\n",
        "vec_reshaped = tf.reshape(vec, [1, 2])  # Shape: (1, 2)\n",
        "explicit_broadcast = mat + vec_reshaped\n",
        "print(f\"\\nExplicit reshape and broadcast:\\n{explicit_broadcast.numpy()}\")\n",
        "\n",
        "# Broadcasting with different dimensions\n",
        "col_vec = tf.constant([[1], [2], [3]], dtype=tf.float32)  # Shape: (3, 1)\n",
        "broadcast_2d = mat + col_vec  # Shape: (3,2) + (3,1) -> (3,2)\n",
        "print(f\"\\n2D Broadcasting (adding column vector):\\n{broadcast_2d.numpy()}\")"
      ],
      "metadata": {
        "colab": {
          "base_uri": "https://localhost:8080/"
        },
        "id": "Fi0kUn0CHvno",
        "outputId": "f9f1517f-ffbb-4ab0-e7fa-a91c87821564"
      },
      "execution_count": null,
      "outputs": [
        {
          "output_type": "stream",
          "name": "stdout",
          "text": [
            "📡 Broadcasting Examples:\n",
            "Vector shape: (2,)\n",
            "Matrix shape: (3, 2)\n",
            "\n",
            "Original matrix:\n",
            "[[1. 2.]\n",
            " [3. 4.]\n",
            " [5. 6.]]\n",
            "Vector to broadcast: [1. 2.]\n",
            "\n",
            "Broadcasted addition (mat + vec):\n",
            "[[2. 4.]\n",
            " [4. 6.]\n",
            " [6. 8.]]\n",
            "\n",
            "Broadcasted multiplication (mat * vec):\n",
            "[[ 1.  4.]\n",
            " [ 3.  8.]\n",
            " [ 5. 12.]]\n",
            "\n",
            "Explicit reshape and broadcast:\n",
            "[[2. 4.]\n",
            " [4. 6.]\n",
            " [6. 8.]]\n",
            "\n",
            "2D Broadcasting (adding column vector):\n",
            "[[2. 3.]\n",
            " [5. 6.]\n",
            " [8. 9.]]\n"
          ]
        }
      ]
    },
    {
      "cell_type": "code",
      "source": [
        "# 4. Shape manipulation - COMPLETE SOLUTIONS\n",
        "original = tf.constant([[1, 2, 3], [4, 5, 6]])\n",
        "print(f\"📏 Shape Manipulation:\")\n",
        "print(f\"Original tensor:\\n{original.numpy()}\")\n",
        "print(f\"Original shape: {original.shape}\")\n",
        "\n",
        "# Reshape to 3x2\n",
        "reshaped = tf.reshape(original, [3, 2])\n",
        "print(f\"\\nReshaped to 3x2:\\n{reshaped.numpy()}\")\n",
        "print(f\"New shape: {reshaped.shape}\")\n",
        "\n",
        "# Flatten to 1D\n",
        "flattened = tf.reshape(original, [-1])  # -1 means \"infer this dimension\"\n",
        "print(f\"\\nFlattened to 1D: {flattened.numpy()}\")\n",
        "print(f\"Flattened shape: {flattened.shape}\")\n",
        "\n",
        "# Transpose the matrix\n",
        "transposed = tf.transpose(original)\n",
        "print(f\"\\nTransposed:\\n{transposed.numpy()}\")\n",
        "print(f\"Transposed shape: {transposed.shape}\")\n",
        "\n",
        "# Advanced reshaping\n",
        "expanded = tf.expand_dims(flattened, axis=0)  # Add batch dimension\n",
        "print(f\"\\nExpanded dims (add batch): {expanded.numpy()}\")\n",
        "print(f\"Expanded shape: {expanded.shape}\")\n",
        "\n",
        "# Squeeze (remove dimensions of size 1)\n",
        "squeezed = tf.squeeze(expanded)\n",
        "print(f\"\\nSqueezed back: {squeezed.numpy()}\")\n",
        "print(f\"Squeezed shape: {squeezed.shape}\")"
      ],
      "metadata": {
        "colab": {
          "base_uri": "https://localhost:8080/"
        },
        "id": "5-SZSjpLHxia",
        "outputId": "f480814e-cd27-4f49-9c6d-30f11238d3eb"
      },
      "execution_count": null,
      "outputs": [
        {
          "output_type": "stream",
          "name": "stdout",
          "text": [
            "📏 Shape Manipulation:\n",
            "Original tensor:\n",
            "[[1 2 3]\n",
            " [4 5 6]]\n",
            "Original shape: (2, 3)\n",
            "\n",
            "Reshaped to 3x2:\n",
            "[[1 2]\n",
            " [3 4]\n",
            " [5 6]]\n",
            "New shape: (3, 2)\n",
            "\n",
            "Flattened to 1D: [1 2 3 4 5 6]\n",
            "Flattened shape: (6,)\n",
            "\n",
            "Transposed:\n",
            "[[1 4]\n",
            " [2 5]\n",
            " [3 6]]\n",
            "Transposed shape: (3, 2)\n",
            "\n",
            "Expanded dims (add batch): [[1 2 3 4 5 6]]\n",
            "Expanded shape: (1, 6)\n",
            "\n",
            "Squeezed back: [1 2 3 4 5 6]\n",
            "Squeezed shape: (6,)\n"
          ]
        }
      ]
    },
    {
      "cell_type": "code",
      "source": [
        "# Advanced tensor operations\n",
        "mat_3d = tf.random.normal([2, 3, 4])  # Random 3D tensor\n",
        "\n",
        "print(\"🔬 Advanced Tensor Operations:\")\n",
        "print(f\"3D tensor shape: {mat_3d.shape}\")\n",
        "\n",
        "# Reduction operations\n",
        "sum_all = tf.reduce_sum(mat_3d)  # Sum all elements\n",
        "sum_axis0 = tf.reduce_sum(mat_3d, axis=0)  # Sum along first axis\n",
        "sum_axis1 = tf.reduce_sum(mat_3d, axis=1)  # Sum along second axis\n",
        "mean_all = tf.reduce_mean(mat_3d)\n",
        "\n",
        "print(f\"Sum of all elements: {sum_all.numpy():.2f}\")\n",
        "print(f\"Sum along axis 0 shape: {sum_axis0.shape}\")\n",
        "print(f\"Sum along axis 1 shape: {sum_axis1.shape}\")\n",
        "print(f\"Mean of all elements: {mean_all.numpy():.2f}\")\n",
        "\n",
        "# Useful for neural networks\n",
        "batch_data = tf.random.normal([32, 784])  # Simulated batch of flattened images\n",
        "batch_mean = tf.reduce_mean(batch_data, axis=0)  # Mean across batch\n",
        "batch_std = tf.math.reduce_std(batch_data, axis=0)  # Std across batch\n",
        "\n",
        "print(f\"\\n👥 Batch operations:\")\n",
        "print(f\"Batch data shape: {batch_data.shape}\")\n",
        "print(f\"Mean across batch shape: {batch_mean.shape}\")\n",
        "print(f\"Std across batch shape: {batch_std.shape}\")"
      ],
      "metadata": {
        "colab": {
          "base_uri": "https://localhost:8080/"
        },
        "id": "ckyDOxeDLXN_",
        "outputId": "cfa03e9f-7d16-4ebf-e2c9-d8f6cc91a71b"
      },
      "execution_count": null,
      "outputs": [
        {
          "output_type": "stream",
          "name": "stdout",
          "text": [
            "🔬 Advanced Tensor Operations:\n",
            "3D tensor shape: (2, 3, 4)\n",
            "Sum of all elements: -13.16\n",
            "Sum along axis 0 shape: (3, 4)\n",
            "Sum along axis 1 shape: (2, 4)\n",
            "Mean of all elements: -0.55\n",
            "\n",
            "👥 Batch operations:\n",
            "Batch data shape: (32, 784)\n",
            "Mean across batch shape: (784,)\n",
            "Std across batch shape: (784,)\n"
          ]
        }
      ]
    },
    {
      "cell_type": "markdown",
      "source": [
        "### Task 2B: Dense Layer from Scratch"
      ],
      "metadata": {
        "id": "wZkRStpDLfQX"
      }
    },
    {
      "cell_type": "code",
      "source": [
        "class SimpleDenseLayer:\n",
        "    \"\"\"Complete implementation of a dense layer from scratch\"\"\"\n",
        "\n",
        "    def __init__(self, input_dim, output_dim, activation='relu',\n",
        "                 weight_init='xavier', use_bias=True):\n",
        "        \"\"\"Initialize a dense layer with weights, bias, and activation\n",
        "\n",
        "        Args:\n",
        "            input_dim: Number of input features\n",
        "            output_dim: Number of output features\n",
        "            activation: Activation function name\n",
        "            weight_init: Weight initialization strategy\n",
        "            use_bias: Whether to use bias term\n",
        "        \"\"\"\n",
        "        self.input_dim = input_dim\n",
        "        self.output_dim = output_dim\n",
        "        self.activation_name = activation\n",
        "        self.use_bias = use_bias\n",
        "\n",
        "        # Weight initialization strategies\n",
        "        if weight_init == 'xavier':\n",
        "            # Xavier/Glorot initialization: good for sigmoid/tanh\n",
        "            limit = np.sqrt(6.0 / (input_dim + output_dim))\n",
        "            self.weights = np.random.uniform(-limit, limit, (input_dim, output_dim))\n",
        "        elif weight_init == 'he':\n",
        "            # He initialization: good for ReLU\n",
        "            std = np.sqrt(2.0 / input_dim)\n",
        "            self.weights = np.random.normal(0, std, (input_dim, output_dim))\n",
        "        else:\n",
        "            # Default: Xavier normal\n",
        "            std = np.sqrt(2.0 / (input_dim + output_dim))\n",
        "            self.weights = np.random.normal(0, std, (input_dim, output_dim))\n",
        "\n",
        "        # Bias initialization\n",
        "        if use_bias:\n",
        "            self.bias = np.zeros((1, output_dim))\n",
        "        else:\n",
        "            self.bias = None\n",
        "\n",
        "        # Activation function registry\n",
        "        self.activation_funcs = {\n",
        "            'relu': relu_custom,\n",
        "            'sigmoid': sigmoid,\n",
        "            'tanh': tanh_custom,\n",
        "            'leaky_relu': leaky_relu_custom,\n",
        "            'elu': elu_custom,\n",
        "            'swish': swish_custom,\n",
        "            'linear': lambda x: x,\n",
        "            'softmax': self._softmax\n",
        "        }\n",
        "\n",
        "        self.gradient_funcs = {\n",
        "            'relu': relu_gradient,\n",
        "            'sigmoid': sigmoid_gradient,\n",
        "            'tanh': tanh_gradient,\n",
        "            'leaky_relu': leaky_relu_gradient,\n",
        "            'elu': elu_gradient,\n",
        "            'swish': swish_gradient,\n",
        "            'linear': lambda x: np.ones_like(x)\n",
        "        }\n",
        "\n",
        "        # Store computation for backward pass\n",
        "        self.last_input = None\n",
        "        self.last_z = None\n",
        "        self.last_output = None\n",
        "\n",
        "        print(f\"✅ Dense layer created: {input_dim} -> {output_dim}, activation: {activation}\")\n",
        "        print(f\"   Weights shape: {self.weights.shape}\")\n",
        "        print(f\"   Bias shape: {self.bias.shape if self.bias is not None else 'None'}\")\n",
        "\n",
        "    def _softmax(self, x):\n",
        "        \"\"\"Numerically stable softmax implementation\"\"\"\n",
        "        # Subtract max for numerical stability\n",
        "        exp_x = np.exp(x - np.max(x, axis=-1, keepdims=True))\n",
        "        return exp_x / np.sum(exp_x, axis=-1, keepdims=True)\n",
        "\n",
        "    def forward(self, inputs):\n",
        "        \"\"\"Forward pass: output = activation(inputs @ weights + bias)\"\"\"\n",
        "        # Store for backward pass\n",
        "        self.last_input = inputs.copy()\n",
        "\n",
        "        # Linear transformation: z = X @ W + b\n",
        "        self.last_z = np.dot(inputs, self.weights)\n",
        "        if self.use_bias:\n",
        "            self.last_z += self.bias\n",
        "\n",
        "        # Apply activation\n",
        "        activation_func = self.activation_funcs.get(self.activation_name, lambda x: x)\n",
        "        self.last_output = activation_func(self.last_z)\n",
        "\n",
        "        return self.last_output\n",
        "\n",
        "    def backward(self, grad_output, learning_rate=0.01):\n",
        "        \"\"\"Backward pass for gradient computation and weight updates\n",
        "\n",
        "        Args:\n",
        "            grad_output: Gradient from the next layer\n",
        "            learning_rate: Learning rate for weight updates\n",
        "\n",
        "        Returns:\n",
        "            grad_input: Gradient w.r.t input (for previous layer)\n",
        "        \"\"\"\n",
        "        batch_size = self.last_input.shape[0]\n",
        "\n",
        "        # Gradient of activation function\n",
        "        grad_func = self.gradient_funcs.get(self.activation_name)\n",
        "        if grad_func and self.activation_name != 'softmax':\n",
        "            grad_activation = grad_func(self.last_z)\n",
        "            grad_z = grad_output * grad_activation\n",
        "        else:\n",
        "            # For softmax or unknown activations, use grad_output directly\n",
        "            grad_z = grad_output\n",
        "\n",
        "        # Gradients w.r.t parameters\n",
        "        grad_weights = np.dot(self.last_input.T, grad_z) / batch_size\n",
        "        grad_bias = np.sum(grad_z, axis=0, keepdims=True) / batch_size if self.use_bias else None\n",
        "\n",
        "        # Gradient w.r.t input (for backpropagation to previous layer)\n",
        "        grad_input = np.dot(grad_z, self.weights.T)\n",
        "\n",
        "        # Update parameters (simple SGD)\n",
        "        self.weights -= learning_rate * grad_weights\n",
        "        if self.use_bias:\n",
        "            self.bias -= learning_rate * grad_bias\n",
        "\n",
        "        return grad_input\n",
        "\n",
        "    def get_params(self):\n",
        "        \"\"\"Get layer parameters\"\"\"\n",
        "        if self.use_bias:\n",
        "            return {'weights': self.weights, 'bias': self.bias}\n",
        "        else:\n",
        "            return {'weights': self.weights}\n",
        "\n",
        "    def set_params(self, params):\n",
        "        \"\"\"Set layer parameters\"\"\"\n",
        "        self.weights = params['weights']\n",
        "        if self.use_bias and 'bias' in params:\n",
        "            self.bias = params['bias']\n",
        "\n",
        "    def __call__(self, inputs):\n",
        "        \"\"\"Make layer callable\"\"\"\n",
        "        return self.forward(inputs)\n",
        "\n",
        "    def __repr__(self):\n",
        "        return f\"SimpleDenseLayer({self.input_dim}, {self.output_dim}, activation='{self.activation_name}')\"\n",
        "\n",
        "print(\"✅ SimpleDenseLayer class implemented successfully!\")\n"
      ],
      "metadata": {
        "colab": {
          "base_uri": "https://localhost:8080/"
        },
        "id": "iFxknqphLaOK",
        "outputId": "dd305027-3579-46e2-a451-7adb96e8723f"
      },
      "execution_count": null,
      "outputs": [
        {
          "output_type": "stream",
          "name": "stdout",
          "text": [
            "✅ SimpleDenseLayer class implemented successfully!\n"
          ]
        }
      ]
    },
    {
      "cell_type": "code",
      "source": [
        "# Test the layer with different configurations\n",
        "print(\"🧪 Testing SimpleDenseLayer:\")\n",
        "\n",
        "# Test 1: Basic layer\n",
        "layer1 = SimpleDenseLayer(input_dim=784, output_dim=128, activation='relu')\n",
        "test_input = np.random.randn(32, 784)  # Batch of 32 samples\n",
        "output1 = layer1(test_input)\n",
        "\n",
        "print(f\"\\nTest 1 - Basic layer:\")\n",
        "print(f\"Input shape: {test_input.shape}\")\n",
        "print(f\"Output shape: {output1.shape}\")\n",
        "print(f\"Output statistics: mean={output1.mean():.3f}, std={output1.std():.3f}\")\n",
        "print(f\"ReLU property (all non-negative): {np.all(output1 >= 0)}\")\n",
        "\n",
        "# Test 2: Sigmoid layer\n",
        "layer2 = SimpleDenseLayer(input_dim=128, output_dim=64, activation='sigmoid')\n",
        "output2 = layer2(output1)\n",
        "\n",
        "print(f\"\\nTest 2 - Sigmoid layer:\")\n",
        "print(f\"Input shape: {output1.shape}\")\n",
        "print(f\"Output shape: {output2.shape}\")\n",
        "print(f\"Output range: [{output2.min():.3f}, {output2.max():.3f}] (should be in [0,1])\")\n",
        "\n",
        "# Test 3: Softmax output layer\n",
        "layer3 = SimpleDenseLayer(input_dim=64, output_dim=10, activation='softmax')\n",
        "output3 = layer3(output2)\n",
        "\n",
        "print(f\"\\nTest 3 - Softmax layer:\")\n",
        "print(f\"Input shape: {output2.shape}\")\n",
        "print(f\"Output shape: {output3.shape}\")\n",
        "print(f\"Softmax property (sums to 1): {np.allclose(output3.sum(axis=1), 1.0)}\")\n",
        "print(f\"Sample probabilities: {output3[0][:5]}\")\n",
        "print(f\"Sample sum: {output3[0].sum():.6f}\")\n",
        "\n",
        "# Test 4: Different initializations\n",
        "print(f\"\\n🎯 Testing weight initializations:\")\n",
        "layer_xavier = SimpleDenseLayer(100, 50, weight_init='xavier')\n",
        "layer_he = SimpleDenseLayer(100, 50, weight_init='he')\n",
        "\n",
        "print(f\"Xavier init - Weight std: {layer_xavier.weights.std():.4f}\")\n",
        "print(f\"He init - Weight std: {layer_he.weights.std():.4f}\")"
      ],
      "metadata": {
        "colab": {
          "base_uri": "https://localhost:8080/"
        },
        "id": "TSl6ot7_LiMg",
        "outputId": "b6112378-8d39-4d48-a045-488414fec947"
      },
      "execution_count": null,
      "outputs": [
        {
          "output_type": "stream",
          "name": "stdout",
          "text": [
            "🧪 Testing SimpleDenseLayer:\n",
            "✅ Dense layer created: 784 -> 128, activation: relu\n",
            "   Weights shape: (784, 128)\n",
            "   Bias shape: (1, 128)\n",
            "\n",
            "Test 1 - Basic layer:\n",
            "Input shape: (32, 784)\n",
            "Output shape: (32, 128)\n",
            "Output statistics: mean=0.549, std=0.791\n",
            "ReLU property (all non-negative): True\n",
            "✅ Dense layer created: 128 -> 64, activation: sigmoid\n",
            "   Weights shape: (128, 64)\n",
            "   Bias shape: (1, 64)\n",
            "\n",
            "Test 2 - Sigmoid layer:\n",
            "Input shape: (32, 128)\n",
            "Output shape: (32, 64)\n",
            "Output range: [0.028, 0.991] (should be in [0,1])\n",
            "✅ Dense layer created: 64 -> 10, activation: softmax\n",
            "   Weights shape: (64, 10)\n",
            "   Bias shape: (1, 10)\n",
            "\n",
            "Test 3 - Softmax layer:\n",
            "Input shape: (32, 64)\n",
            "Output shape: (32, 10)\n",
            "Softmax property (sums to 1): True\n",
            "Sample probabilities: [0.08640047 0.08864147 0.11904883 0.19118858 0.15618095]\n",
            "Sample sum: 1.000000\n",
            "\n",
            "🎯 Testing weight initializations:\n",
            "✅ Dense layer created: 100 -> 50, activation: relu\n",
            "   Weights shape: (100, 50)\n",
            "   Bias shape: (1, 50)\n",
            "✅ Dense layer created: 100 -> 50, activation: relu\n",
            "   Weights shape: (100, 50)\n",
            "   Bias shape: (1, 50)\n",
            "Xavier init - Weight std: 0.1164\n",
            "He init - Weight std: 0.1436\n"
          ]
        }
      ]
    },
    {
      "cell_type": "markdown",
      "source": [
        "## Part 3: Complete Neural Network Construction\n",
        "\n",
        "### Task 3: Build Multi-Layer Network"
      ],
      "metadata": {
        "id": "kmrDMeYcLwSD"
      }
    },
    {
      "cell_type": "code",
      "source": [
        "class SimpleNeuralNetwork:\n",
        "    \"\"\"Complete neural network implementation from scratch\"\"\"\n",
        "\n",
        "    def __init__(self, layer_sizes, activations, weight_init='xavier', use_bias=True):\n",
        "        \"\"\"Build a multi-layer neural network\n",
        "\n",
        "        Args:\n",
        "            layer_sizes: List of layer dimensions [input_dim, hidden1, hidden2, ..., output_dim]\n",
        "            activations: List of activation functions for each layer\n",
        "            weight_init: Weight initialization strategy\n",
        "            use_bias: Whether to use bias terms\n",
        "        \"\"\"\n",
        "        assert len(layer_sizes) >= 2, \"Need at least input and output dimensions\"\n",
        "        assert len(activations) == len(layer_sizes) - 1, \"Need activation for each layer\"\n",
        "\n",
        "        self.layer_sizes = layer_sizes\n",
        "        self.activations = activations\n",
        "        self.num_layers = len(layer_sizes) - 1\n",
        "\n",
        "        # Create layers\n",
        "        self.layers = []\n",
        "        for i in range(self.num_layers):\n",
        "            layer = SimpleDenseLayer(\n",
        "                input_dim=layer_sizes[i],\n",
        "                output_dim=layer_sizes[i+1],\n",
        "                activation=activations[i],\n",
        "                weight_init=weight_init,\n",
        "                use_bias=use_bias\n",
        "            )\n",
        "            self.layers.append(layer)\n",
        "\n",
        "        # Store for training\n",
        "        self.training_history = {'loss': [], 'accuracy': []}\n",
        "\n",
        "        print(f\"\\n🏗️ Neural Network Architecture:\")\n",
        "        for i, (size, activation) in enumerate(zip(layer_sizes[1:], activations)):\n",
        "            print(f\"   Layer {i+1}: {layer_sizes[i]} -> {size} ({activation})\")\n",
        "\n",
        "        total_params = sum(layer.weights.size +\n",
        "                          (layer.bias.size if layer.use_bias else 0)\n",
        "                          for layer in self.layers)\n",
        "        print(f\"   Total parameters: {total_params:,}\")\n",
        "\n",
        "    def forward(self, x):\n",
        "        \"\"\"Forward pass through all layers\"\"\"\n",
        "        current_input = x\n",
        "        for i, layer in enumerate(self.layers):\n",
        "            current_input = layer.forward(current_input)\n",
        "        return current_input\n",
        "\n",
        "    def backward(self, y_true, y_pred, learning_rate=0.01):\n",
        "        \"\"\"Backward pass through all layers\n",
        "\n",
        "        Args:\n",
        "            y_true: True labels\n",
        "            y_pred: Predicted values\n",
        "            learning_rate: Learning rate for updates\n",
        "        \"\"\"\n",
        "        # Compute loss gradient (for softmax + cross-entropy)\n",
        "        batch_size = y_true.shape[0]\n",
        "        grad_output = (y_pred - y_true) / batch_size\n",
        "\n",
        "        # Backpropagate through layers (reverse order)\n",
        "        current_grad = grad_output\n",
        "        for layer in reversed(self.layers):\n",
        "            current_grad = layer.backward(current_grad, learning_rate)\n",
        "\n",
        "    def predict(self, X):\n",
        "        \"\"\"Make predictions\"\"\"\n",
        "        return self.forward(X)\n",
        "\n",
        "    def predict_classes(self, X):\n",
        "        \"\"\"Predict class labels\"\"\"\n",
        "        probs = self.predict(X)\n",
        "        return np.argmax(probs, axis=1)\n",
        "\n",
        "    def compute_loss(self, y_true, y_pred, loss_type='categorical_crossentropy'):\n",
        "        \"\"\"Compute loss\"\"\"\n",
        "        if loss_type == 'categorical_crossentropy':\n",
        "            # Avoid log(0) by adding small epsilon\n",
        "            epsilon = 1e-15\n",
        "            y_pred = np.clip(y_pred, epsilon, 1 - epsilon)\n",
        "            return -np.mean(np.sum(y_true * np.log(y_pred), axis=1))\n",
        "        elif loss_type == 'mse':\n",
        "            return np.mean((y_true - y_pred) ** 2)\n",
        "        else:\n",
        "            raise ValueError(f\"Unknown loss type: {loss_type}\")\n",
        "\n",
        "    def compute_accuracy(self, y_true, y_pred):\n",
        "        \"\"\"Compute accuracy for classification\"\"\"\n",
        "        y_true_classes = np.argmax(y_true, axis=1)\n",
        "        y_pred_classes = np.argmax(y_pred, axis=1)\n",
        "        return np.mean(y_true_classes == y_pred_classes)\n",
        "\n",
        "    def fit(self, X, y, epochs=100, learning_rate=0.01, batch_size=32, verbose=True):\n",
        "        \"\"\"Train the network\n",
        "\n",
        "        Args:\n",
        "            X: Input data\n",
        "            y: True labels (one-hot encoded)\n",
        "            epochs: Number of training epochs\n",
        "            learning_rate: Learning rate\n",
        "            batch_size: Batch size for mini-batch training\n",
        "            verbose: Whether to print progress\n",
        "        \"\"\"\n",
        "        n_samples = X.shape[0]\n",
        "        n_batches = (n_samples + batch_size - 1) // batch_size\n",
        "\n",
        "        for epoch in range(epochs):\n",
        "            # Shuffle data\n",
        "            indices = np.random.permutation(n_samples)\n",
        "            X_shuffled = X[indices]\n",
        "            y_shuffled = y[indices]\n",
        "\n",
        "            epoch_loss = 0\n",
        "            epoch_acc = 0\n",
        "\n",
        "            # Mini-batch training\n",
        "            for batch in range(n_batches):\n",
        "                start_idx = batch * batch_size\n",
        "                end_idx = min(start_idx + batch_size, n_samples)\n",
        "\n",
        "                X_batch = X_shuffled[start_idx:end_idx]\n",
        "                y_batch = y_shuffled[start_idx:end_idx]\n",
        "\n",
        "                # Forward pass\n",
        "                y_pred = self.forward(X_batch)\n",
        "\n",
        "                # Compute loss and accuracy\n",
        "                batch_loss = self.compute_loss(y_batch, y_pred)\n",
        "                batch_acc = self.compute_accuracy(y_batch, y_pred)\n",
        "\n",
        "                epoch_loss += batch_loss\n",
        "                epoch_acc += batch_acc\n",
        "\n",
        "                # Backward pass\n",
        "                self.backward(y_batch, y_pred, learning_rate)\n",
        "\n",
        "            # Average over batches\n",
        "            epoch_loss /= n_batches\n",
        "            epoch_acc /= n_batches\n",
        "\n",
        "            # Store history\n",
        "            self.training_history['loss'].append(epoch_loss)\n",
        "            self.training_history['accuracy'].append(epoch_acc)\n",
        "\n",
        "            # Print progress\n",
        "            if verbose and (epoch + 1) % 10 == 0:\n",
        "                print(f\"Epoch {epoch+1}/{epochs} - Loss: {epoch_loss:.4f} - Accuracy: {epoch_acc:.4f}\")\n",
        "\n",
        "    def plot_training_history(self):\n",
        "        \"\"\"Plot training loss and accuracy\"\"\"\n",
        "        if not self.training_history['loss']:\n",
        "            print(\"No training history to plot. Train the model first.\")\n",
        "            return\n",
        "\n",
        "        fig, (ax1, ax2) = plt.subplots(1, 2, figsize=(12, 4))\n",
        "\n",
        "        # Plot loss\n",
        "        ax1.plot(self.training_history['loss'], 'b-', linewidth=2)\n",
        "        ax1.set_title('Training Loss', fontsize=14, fontweight='bold')\n",
        "        ax1.set_xlabel('Epoch')\n",
        "        ax1.set_ylabel('Loss')\n",
        "        ax1.grid(True, alpha=0.3)\n",
        "\n",
        "        # Plot accuracy\n",
        "        ax2.plot(self.training_history['accuracy'], 'g-', linewidth=2)\n",
        "        ax2.set_title('Training Accuracy', fontsize=14, fontweight='bold')\n",
        "        ax2.set_xlabel('Epoch')\n",
        "        ax2.set_ylabel('Accuracy')\n",
        "        ax2.grid(True, alpha=0.3)\n",
        "\n",
        "        plt.tight_layout()\n",
        "        plt.show()\n",
        "\n",
        "    def __call__(self, x):\n",
        "        return self.forward(x)\n",
        "\n",
        "    def __repr__(self):\n",
        "        return f\"SimpleNeuralNetwork({self.layer_sizes}, {self.activations})\"\n",
        "\n",
        "print(\"✅ SimpleNeuralNetwork class implemented successfully!\")"
      ],
      "metadata": {
        "colab": {
          "base_uri": "https://localhost:8080/"
        },
        "id": "twjRfFVuLtS3",
        "outputId": "5d280117-5d6f-4f58-ab53-6dd0bf221772"
      },
      "execution_count": null,
      "outputs": [
        {
          "output_type": "stream",
          "name": "stdout",
          "text": [
            "✅ SimpleNeuralNetwork class implemented successfully!\n"
          ]
        }
      ]
    },
    {
      "cell_type": "code",
      "source": [
        "# Build and test the network\n",
        "print(\"🧪 Testing SimpleNeuralNetwork:\")\n",
        "\n",
        "# Create a network for MNIST-like classification\n",
        "network = SimpleNeuralNetwork(\n",
        "    layer_sizes=[784, 128, 64, 10],\n",
        "    activations=['relu', 'relu', 'softmax'],\n",
        "    weight_init='he'  # He initialization works well with ReLU\n",
        ")\n",
        "\n",
        "# Test with dummy MNIST-like data\n",
        "batch_size = 32\n",
        "test_data = np.random.randn(batch_size, 784)\n",
        "output = network(test_data)\n",
        "\n",
        "print(f\"\\n🔍 Network Testing:\")\n",
        "print(f\"Input shape: {test_data.shape}\")\n",
        "print(f\"Output shape: {output.shape}\")\n",
        "print(f\"Output is probability distribution: {np.allclose(output.sum(axis=1), 1.0)}\")\n",
        "print(f\"Sample predictions (first 3 samples):\")\n",
        "for i in range(3):\n",
        "    pred_class = np.argmax(output[i])\n",
        "    confidence = output[i][pred_class]\n",
        "    print(f\"  Sample {i+1}: Class {pred_class}, Confidence: {confidence:.3f}\")\n",
        "\n",
        "# Test different architectures\n",
        "print(f\"\\n🏗️ Testing different architectures:\")\n",
        "\n",
        "# Small network\n",
        "small_net = SimpleNeuralNetwork([10, 5, 2], ['tanh', 'sigmoid'])\n",
        "small_input = np.random.randn(5, 10)\n",
        "small_output = small_net(small_input)\n",
        "print(f\"Small network output range: [{small_output.min():.3f}, {small_output.max():.3f}]\")\n",
        "\n",
        "# Deep network\n",
        "deep_net = SimpleNeuralNetwork([100, 64, 32, 16, 8, 3],\n",
        "                              ['relu', 'relu', 'relu', 'relu', 'softmax'])\n",
        "deep_input = np.random.randn(10, 100)\n",
        "deep_output = deep_net(deep_input)\n",
        "print(f\"Deep network maintains probability distribution: {np.allclose(deep_output.sum(axis=1), 1.0)}\")"
      ],
      "metadata": {
        "colab": {
          "base_uri": "https://localhost:8080/"
        },
        "id": "LYnVsaUhLz7e",
        "outputId": "0d74588b-4631-422a-bac5-a924c6e9af1b"
      },
      "execution_count": null,
      "outputs": [
        {
          "output_type": "stream",
          "name": "stdout",
          "text": [
            "🧪 Testing SimpleNeuralNetwork:\n",
            "✅ Dense layer created: 784 -> 128, activation: relu\n",
            "   Weights shape: (784, 128)\n",
            "   Bias shape: (1, 128)\n",
            "✅ Dense layer created: 128 -> 64, activation: relu\n",
            "   Weights shape: (128, 64)\n",
            "   Bias shape: (1, 64)\n",
            "✅ Dense layer created: 64 -> 10, activation: softmax\n",
            "   Weights shape: (64, 10)\n",
            "   Bias shape: (1, 10)\n",
            "\n",
            "🏗️ Neural Network Architecture:\n",
            "   Layer 1: 784 -> 128 (relu)\n",
            "   Layer 2: 128 -> 64 (relu)\n",
            "   Layer 3: 64 -> 10 (softmax)\n",
            "   Total parameters: 109,386\n",
            "\n",
            "🔍 Network Testing:\n",
            "Input shape: (32, 784)\n",
            "Output shape: (32, 10)\n",
            "Output is probability distribution: True\n",
            "Sample predictions (first 3 samples):\n",
            "  Sample 1: Class 2, Confidence: 0.431\n",
            "  Sample 2: Class 6, Confidence: 0.453\n",
            "  Sample 3: Class 2, Confidence: 0.393\n",
            "\n",
            "🏗️ Testing different architectures:\n",
            "✅ Dense layer created: 10 -> 5, activation: tanh\n",
            "   Weights shape: (10, 5)\n",
            "   Bias shape: (1, 5)\n",
            "✅ Dense layer created: 5 -> 2, activation: sigmoid\n",
            "   Weights shape: (5, 2)\n",
            "   Bias shape: (1, 2)\n",
            "\n",
            "🏗️ Neural Network Architecture:\n",
            "   Layer 1: 10 -> 5 (tanh)\n",
            "   Layer 2: 5 -> 2 (sigmoid)\n",
            "   Total parameters: 67\n",
            "Small network output range: [0.260, 0.684]\n",
            "✅ Dense layer created: 100 -> 64, activation: relu\n",
            "   Weights shape: (100, 64)\n",
            "   Bias shape: (1, 64)\n",
            "✅ Dense layer created: 64 -> 32, activation: relu\n",
            "   Weights shape: (64, 32)\n",
            "   Bias shape: (1, 32)\n",
            "✅ Dense layer created: 32 -> 16, activation: relu\n",
            "   Weights shape: (32, 16)\n",
            "   Bias shape: (1, 16)\n",
            "✅ Dense layer created: 16 -> 8, activation: relu\n",
            "   Weights shape: (16, 8)\n",
            "   Bias shape: (1, 8)\n",
            "✅ Dense layer created: 8 -> 3, activation: softmax\n",
            "   Weights shape: (8, 3)\n",
            "   Bias shape: (1, 3)\n",
            "\n",
            "🏗️ Neural Network Architecture:\n",
            "   Layer 1: 100 -> 64 (relu)\n",
            "   Layer 2: 64 -> 32 (relu)\n",
            "   Layer 3: 32 -> 16 (relu)\n",
            "   Layer 4: 16 -> 8 (relu)\n",
            "   Layer 5: 8 -> 3 (softmax)\n",
            "   Total parameters: 9,235\n",
            "Deep network maintains probability distribution: True\n"
          ]
        }
      ]
    },
    {
      "cell_type": "markdown",
      "source": [
        "### Compare with TensorFlow/Keras Implementation"
      ],
      "metadata": {
        "id": "ruhiPAH6MA0O"
      }
    },
    {
      "cell_type": "code",
      "source": [
        "# Build equivalent Keras model for comparison\n",
        "def build_keras_equivalent():\n",
        "    \"\"\"Build equivalent network using Keras\"\"\"\n",
        "    model = tf.keras.Sequential([\n",
        "        tf.keras.layers.Dense(128, activation='relu', input_shape=(784,)),\n",
        "        tf.keras.layers.Dense(64, activation='relu'),\n",
        "        tf.keras.layers.Dense(10, activation='softmax')\n",
        "    ])\n",
        "    return model\n",
        "\n",
        "keras_model = build_keras_equivalent()\n",
        "keras_output = keras_model(test_data)\n",
        "\n",
        "print(\"🆚 Comparison with Keras:\")\n",
        "print(f\"\\nKeras model output shape: {keras_output.shape}\")\n",
        "print(f\"Keras model parameter count: {keras_model.count_params():,}\")\n",
        "\n",
        "# Calculate our model's parameter count\n",
        "our_params = sum(layer.weights.size +\n",
        "                (layer.bias.size if layer.use_bias else 0)\n",
        "                for layer in network.layers)\n",
        "print(f\"Our model parameter count: {our_params:,}\")\n",
        "print(f\"Parameter count match: {our_params == keras_model.count_params()}\")\n",
        "\n",
        "# Display detailed model architecture comparison\n",
        "print(f\"\\n📊 Detailed Architecture Comparison:\")\n",
        "print(f\"\\nOur Model:\")\n",
        "for i, layer in enumerate(network.layers):\n",
        "    params = layer.weights.size + (layer.bias.size if layer.use_bias else 0)\n",
        "    print(f\"  Layer {i+1}: {layer.input_dim} -> {layer.output_dim} ({layer.activation_name}) | {params:,} params\")\n",
        "\n",
        "print(f\"\\nKeras Model:\")\n",
        "keras_model.summary()\n",
        "\n",
        "# Compare outputs (they will be different due to different weight initialization)\n",
        "print(f\"\\n🔍 Output Comparison:\")\n",
        "print(f\"Our model - first sample probabilities: {network(test_data[:1])[0][:5]}\")\n",
        "print(f\"Keras model - first sample probabilities: {keras_model(test_data[:1]).numpy()[0][:5]}\")\n",
        "print(f\"Note: Outputs differ due to different weight initialization, but shapes and properties match!\")"
      ],
      "metadata": {
        "colab": {
          "base_uri": "https://localhost:8080/",
          "height": 572
        },
        "id": "giN49HkiL2ap",
        "outputId": "98855989-3143-48fd-bad0-02231681555b"
      },
      "execution_count": null,
      "outputs": [
        {
          "output_type": "stream",
          "name": "stdout",
          "text": [
            "🆚 Comparison with Keras:\n",
            "\n",
            "Keras model output shape: (32, 10)\n",
            "Keras model parameter count: 109,386\n",
            "Our model parameter count: 109,386\n",
            "Parameter count match: True\n",
            "\n",
            "📊 Detailed Architecture Comparison:\n",
            "\n",
            "Our Model:\n",
            "  Layer 1: 784 -> 128 (relu) | 100,480 params\n",
            "  Layer 2: 128 -> 64 (relu) | 8,256 params\n",
            "  Layer 3: 64 -> 10 (softmax) | 650 params\n",
            "\n",
            "Keras Model:\n"
          ]
        },
        {
          "output_type": "display_data",
          "data": {
            "text/plain": [
              "\u001b[1mModel: \"sequential\"\u001b[0m\n"
            ],
            "text/html": [
              "<pre style=\"white-space:pre;overflow-x:auto;line-height:normal;font-family:Menlo,'DejaVu Sans Mono',consolas,'Courier New',monospace\"><span style=\"font-weight: bold\">Model: \"sequential\"</span>\n",
              "</pre>\n"
            ]
          },
          "metadata": {}
        },
        {
          "output_type": "display_data",
          "data": {
            "text/plain": [
              "┏━━━━━━━━━━━━━━━━━━━━━━━━━━━━━━━━━┳━━━━━━━━━━━━━━━━━━━━━━━━┳━━━━━━━━━━━━━━━┓\n",
              "┃\u001b[1m \u001b[0m\u001b[1mLayer (type)                   \u001b[0m\u001b[1m \u001b[0m┃\u001b[1m \u001b[0m\u001b[1mOutput Shape          \u001b[0m\u001b[1m \u001b[0m┃\u001b[1m \u001b[0m\u001b[1m      Param #\u001b[0m\u001b[1m \u001b[0m┃\n",
              "┡━━━━━━━━━━━━━━━━━━━━━━━━━━━━━━━━━╇━━━━━━━━━━━━━━━━━━━━━━━━╇━━━━━━━━━━━━━━━┩\n",
              "│ dense (\u001b[38;5;33mDense\u001b[0m)                   │ (\u001b[38;5;45mNone\u001b[0m, \u001b[38;5;34m128\u001b[0m)            │       \u001b[38;5;34m100,480\u001b[0m │\n",
              "├─────────────────────────────────┼────────────────────────┼───────────────┤\n",
              "│ dense_1 (\u001b[38;5;33mDense\u001b[0m)                 │ (\u001b[38;5;45mNone\u001b[0m, \u001b[38;5;34m64\u001b[0m)             │         \u001b[38;5;34m8,256\u001b[0m │\n",
              "├─────────────────────────────────┼────────────────────────┼───────────────┤\n",
              "│ dense_2 (\u001b[38;5;33mDense\u001b[0m)                 │ (\u001b[38;5;45mNone\u001b[0m, \u001b[38;5;34m10\u001b[0m)             │           \u001b[38;5;34m650\u001b[0m │\n",
              "└─────────────────────────────────┴────────────────────────┴───────────────┘\n"
            ],
            "text/html": [
              "<pre style=\"white-space:pre;overflow-x:auto;line-height:normal;font-family:Menlo,'DejaVu Sans Mono',consolas,'Courier New',monospace\">┏━━━━━━━━━━━━━━━━━━━━━━━━━━━━━━━━━┳━━━━━━━━━━━━━━━━━━━━━━━━┳━━━━━━━━━━━━━━━┓\n",
              "┃<span style=\"font-weight: bold\"> Layer (type)                    </span>┃<span style=\"font-weight: bold\"> Output Shape           </span>┃<span style=\"font-weight: bold\">       Param # </span>┃\n",
              "┡━━━━━━━━━━━━━━━━━━━━━━━━━━━━━━━━━╇━━━━━━━━━━━━━━━━━━━━━━━━╇━━━━━━━━━━━━━━━┩\n",
              "│ dense (<span style=\"color: #0087ff; text-decoration-color: #0087ff\">Dense</span>)                   │ (<span style=\"color: #00d7ff; text-decoration-color: #00d7ff\">None</span>, <span style=\"color: #00af00; text-decoration-color: #00af00\">128</span>)            │       <span style=\"color: #00af00; text-decoration-color: #00af00\">100,480</span> │\n",
              "├─────────────────────────────────┼────────────────────────┼───────────────┤\n",
              "│ dense_1 (<span style=\"color: #0087ff; text-decoration-color: #0087ff\">Dense</span>)                 │ (<span style=\"color: #00d7ff; text-decoration-color: #00d7ff\">None</span>, <span style=\"color: #00af00; text-decoration-color: #00af00\">64</span>)             │         <span style=\"color: #00af00; text-decoration-color: #00af00\">8,256</span> │\n",
              "├─────────────────────────────────┼────────────────────────┼───────────────┤\n",
              "│ dense_2 (<span style=\"color: #0087ff; text-decoration-color: #0087ff\">Dense</span>)                 │ (<span style=\"color: #00d7ff; text-decoration-color: #00d7ff\">None</span>, <span style=\"color: #00af00; text-decoration-color: #00af00\">10</span>)             │           <span style=\"color: #00af00; text-decoration-color: #00af00\">650</span> │\n",
              "└─────────────────────────────────┴────────────────────────┴───────────────┘\n",
              "</pre>\n"
            ]
          },
          "metadata": {}
        },
        {
          "output_type": "display_data",
          "data": {
            "text/plain": [
              "\u001b[1m Total params: \u001b[0m\u001b[38;5;34m109,386\u001b[0m (427.29 KB)\n"
            ],
            "text/html": [
              "<pre style=\"white-space:pre;overflow-x:auto;line-height:normal;font-family:Menlo,'DejaVu Sans Mono',consolas,'Courier New',monospace\"><span style=\"font-weight: bold\"> Total params: </span><span style=\"color: #00af00; text-decoration-color: #00af00\">109,386</span> (427.29 KB)\n",
              "</pre>\n"
            ]
          },
          "metadata": {}
        },
        {
          "output_type": "display_data",
          "data": {
            "text/plain": [
              "\u001b[1m Trainable params: \u001b[0m\u001b[38;5;34m109,386\u001b[0m (427.29 KB)\n"
            ],
            "text/html": [
              "<pre style=\"white-space:pre;overflow-x:auto;line-height:normal;font-family:Menlo,'DejaVu Sans Mono',consolas,'Courier New',monospace\"><span style=\"font-weight: bold\"> Trainable params: </span><span style=\"color: #00af00; text-decoration-color: #00af00\">109,386</span> (427.29 KB)\n",
              "</pre>\n"
            ]
          },
          "metadata": {}
        },
        {
          "output_type": "display_data",
          "data": {
            "text/plain": [
              "\u001b[1m Non-trainable params: \u001b[0m\u001b[38;5;34m0\u001b[0m (0.00 B)\n"
            ],
            "text/html": [
              "<pre style=\"white-space:pre;overflow-x:auto;line-height:normal;font-family:Menlo,'DejaVu Sans Mono',consolas,'Courier New',monospace\"><span style=\"font-weight: bold\"> Non-trainable params: </span><span style=\"color: #00af00; text-decoration-color: #00af00\">0</span> (0.00 B)\n",
              "</pre>\n"
            ]
          },
          "metadata": {}
        },
        {
          "output_type": "stream",
          "name": "stdout",
          "text": [
            "\n",
            "🔍 Output Comparison:\n",
            "Our model - first sample probabilities: [0.00417799 0.28865482 0.43124454 0.03962942 0.00448388]\n",
            "Keras model - first sample probabilities: [0.10366837 0.09667007 0.03436364 0.09037472 0.10794594]\n",
            "Note: Outputs differ due to different weight initialization, but shapes and properties match!\n"
          ]
        }
      ]
    },
    {
      "cell_type": "markdown",
      "source": [
        "## Comprehensive Unit Tests"
      ],
      "metadata": {
        "id": "aVRDe_2-MNvl"
      }
    },
    {
      "cell_type": "code",
      "source": [
        "def run_comprehensive_unit_tests():\n",
        "    \"\"\"Comprehensive testing suite for all implementations\"\"\"\n",
        "    print(\"🧪 Running Comprehensive Unit Tests...\\n\")\n",
        "\n",
        "    tests_passed = 0\n",
        "    tests_total = 0\n",
        "\n",
        "    print(\"=\" * 60)\n",
        "    print(\"TEST SECTION 1: ACTIVATION FUNCTIONS\")\n",
        "    print(\"=\" * 60)\n",
        "\n",
        "    # Test 1: Activation functions\n",
        "    try:\n",
        "        tests_total += 6\n",
        "\n",
        "        # Sigmoid tests\n",
        "        assert abs(sigmoid(0) - 0.5) < 1e-6, \"Sigmoid(0) should be 0.5\"\n",
        "        tests_passed += 1\n",
        "        print(\"✅ Sigmoid(0) = 0.5\")\n",
        "\n",
        "        assert sigmoid(100) > 0.99, \"Sigmoid(100) should approach 1\"\n",
        "        tests_passed += 1\n",
        "        print(\"✅ Sigmoid saturation behavior\")\n",
        "\n",
        "        # ReLU tests\n",
        "        assert relu_custom(-1) == 0 and relu_custom(1) == 1, \"ReLU test failed\"\n",
        "        tests_passed += 1\n",
        "        print(\"✅ ReLU basic functionality\")\n",
        "\n",
        "        # Leaky ReLU test\n",
        "        assert abs(leaky_relu_custom(-1, 0.01) - (-0.01)) < 1e-6, \"Leaky ReLU test failed\"\n",
        "        tests_passed += 1\n",
        "        print(\"✅ Leaky ReLU negative slope\")\n",
        "\n",
        "        # Tanh test\n",
        "        assert abs(tanh_custom(0)) < 1e-6, \"Tanh(0) should be 0\"\n",
        "        tests_passed += 1\n",
        "        print(\"✅ Tanh zero-centered\")\n",
        "\n",
        "        # Array input test\n",
        "        test_array = np.array([-1, 0, 1])\n",
        "        sigmoid_array = sigmoid(test_array)\n",
        "        assert sigmoid_array.shape == test_array.shape, \"Sigmoid should preserve array shape\"\n",
        "        tests_passed += 1\n",
        "        print(\"✅ Array input handling\")\n",
        "\n",
        "    except AssertionError as e:\n",
        "        print(f\"❌ Activation function test failed: {e}\")\n",
        "    except Exception as e:\n",
        "        print(f\"❌ Activation functions error: {e}\")\n",
        "\n",
        "    print(\"\\n\" + \"=\" * 60)\n",
        "    print(\"TEST SECTION 2: GRADIENT FUNCTIONS\")\n",
        "    print(\"=\" * 60)\n",
        "\n",
        "    # Test 2: Gradient functions\n",
        "    try:\n",
        "        tests_total += 4\n",
        "\n",
        "        # Sigmoid gradient\n",
        "        assert abs(sigmoid_gradient(0) - 0.25) < 1e-6, \"Sigmoid gradient at 0 should be 0.25\"\n",
        "        tests_passed += 1\n",
        "        print(\"✅ Sigmoid gradient maximum\")\n",
        "\n",
        "        # Tanh gradient\n",
        "        assert abs(tanh_gradient(0) - 1.0) < 1e-6, \"Tanh gradient at 0 should be 1\"\n",
        "        tests_passed += 1\n",
        "        print(\"✅ Tanh gradient maximum\")\n",
        "\n",
        "        # ReLU gradient\n",
        "        assert relu_gradient(1) == 1 and relu_gradient(-1) == 0, \"ReLU gradient test failed\"\n",
        "        tests_passed += 1\n",
        "        print(\"✅ ReLU gradient step function\")\n",
        "\n",
        "        # Gradient array handling\n",
        "        test_vals = np.array([-1, 0, 1])\n",
        "        grad_vals = sigmoid_gradient(test_vals)\n",
        "        assert grad_vals.shape == test_vals.shape, \"Gradient should preserve shape\"\n",
        "        tests_passed += 1\n",
        "        print(\"✅ Gradient array handling\")\n",
        "\n",
        "    except AssertionError as e:\n",
        "        print(f\"❌ Gradient function test failed: {e}\")\n",
        "    except Exception as e:\n",
        "        print(f\"❌ Gradient functions error: {e}\")\n",
        "\n",
        "    print(\"\\n\" + \"=\" * 60)\n",
        "    print(\"TEST SECTION 3: TENSOR OPERATIONS\")\n",
        "    print(\"=\" * 60)\n",
        "\n",
        "    # Test 3: Tensor operations\n",
        "    try:\n",
        "        tests_total += 5\n",
        "\n",
        "        A = tf.constant([[1, 2], [3, 4]], dtype=tf.float32)\n",
        "        B = tf.constant([[5, 6], [7, 8]], dtype=tf.float32)\n",
        "        C = tf.matmul(A, B)\n",
        "        expected = tf.constant([[19, 22], [43, 50]], dtype=tf.float32)\n",
        "\n",
        "        assert tf.reduce_all(tf.equal(C, expected)), \"Matrix multiplication failed\"\n",
        "        tests_passed += 1\n",
        "        print(\"✅ Matrix multiplication\")\n",
        "\n",
        "        # Broadcasting test\n",
        "        vec = tf.constant([1, 2], dtype=tf.float32)\n",
        "        mat = tf.constant([[1, 2], [3, 4]], dtype=tf.float32)\n",
        "        broadcast_result = mat + vec\n",
        "        expected_broadcast = tf.constant([[2, 4], [4, 6]], dtype=tf.float32)\n",
        "\n",
        "        assert tf.reduce_all(tf.equal(broadcast_result, expected_broadcast)), \"Broadcasting failed\"\n",
        "        tests_passed += 1\n",
        "        print(\"✅ Broadcasting operations\")\n",
        "\n",
        "        # Shape manipulation\n",
        "        original = tf.constant([[1, 2, 3], [4, 5, 6]])\n",
        "        reshaped = tf.reshape(original, [3, 2])\n",
        "        assert reshaped.shape == [3, 2], \"Reshape failed\"\n",
        "        tests_passed += 1\n",
        "        print(\"✅ Tensor reshaping\")\n",
        "\n",
        "        flattened = tf.reshape(original, [-1])\n",
        "        assert flattened.shape == [6], \"Flatten failed\"\n",
        "        tests_passed += 1\n",
        "        print(\"✅ Tensor flattening\")\n",
        "\n",
        "        transposed = tf.transpose(original)\n",
        "        assert transposed.shape == [3, 2], \"Transpose failed\"\n",
        "        tests_passed += 1\n",
        "        print(\"✅ Tensor transpose\")\n",
        "\n",
        "    except AssertionError as e:\n",
        "        print(f\"❌ Tensor operation test failed: {e}\")\n",
        "    except Exception as e:\n",
        "        print(f\"❌ Tensor operations error: {e}\")\n",
        "\n",
        "    print(\"\\n\" + \"=\" * 60)\n",
        "    print(\"TEST SECTION 4: LAYER CONSTRUCTION\")\n",
        "    print(\"=\" * 60)\n",
        "\n",
        "    # Test 4: Layer construction\n",
        "    try:\n",
        "        tests_total += 6\n",
        "\n",
        "        layer = SimpleDenseLayer(10, 5, activation='relu')\n",
        "        test_input = np.random.randn(2, 10)\n",
        "        output = layer(test_input)\n",
        "\n",
        "        assert output.shape == (2, 5), f\"Layer output shape mismatch: {output.shape}\"\n",
        "        tests_passed += 1\n",
        "        print(\"✅ Layer output shape\")\n",
        "\n",
        "        assert np.all(output >= 0), \"ReLU layer should have non-negative outputs\"\n",
        "        tests_passed += 1\n",
        "        print(\"✅ ReLU non-negativity\")\n",
        "\n",
        "        # Test different activations\n",
        "        sigmoid_layer = SimpleDenseLayer(5, 3, activation='sigmoid')\n",
        "        sigmoid_output = sigmoid_layer(np.random.randn(4, 5))\n",
        "        assert np.all((sigmoid_output >= 0) & (sigmoid_output <= 1)), \"Sigmoid output should be in [0,1]\"\n",
        "        tests_passed += 1\n",
        "        print(\"✅ Sigmoid output range\")\n",
        "\n",
        "        # Test softmax layer\n",
        "        softmax_layer = SimpleDenseLayer(8, 3, activation='softmax')\n",
        "        softmax_output = softmax_layer(np.random.randn(2, 8))\n",
        "        assert np.allclose(softmax_output.sum(axis=1), 1.0), \"Softmax outputs should sum to 1\"\n",
        "        tests_passed += 1\n",
        "        print(\"✅ Softmax probability distribution\")\n",
        "\n",
        "        # Test weight initialization\n",
        "        he_layer = SimpleDenseLayer(100, 50, weight_init='he')\n",
        "        xavier_layer = SimpleDenseLayer(100, 50, weight_init='xavier')\n",
        "        assert he_layer.weights.shape == (100, 50), \"Weight shape incorrect\"\n",
        "        tests_passed += 1\n",
        "        print(\"✅ Weight initialization\")\n",
        "\n",
        "        # Test bias handling\n",
        "        no_bias_layer = SimpleDenseLayer(5, 3, use_bias=False)\n",
        "        assert no_bias_layer.bias is None, \"No-bias layer should have None bias\"\n",
        "        tests_passed += 1\n",
        "        print(\"✅ Bias handling\")\n",
        "\n",
        "    except AssertionError as e:\n",
        "        print(f\"❌ Layer construction test failed: {e}\")\n",
        "    except Exception as e:\n",
        "        print(f\"❌ Layer construction error: {e}\")\n",
        "\n",
        "    print(\"\\n\" + \"=\" * 60)\n",
        "    print(\"TEST SECTION 5: COMPLETE NETWORK\")\n",
        "    print(\"=\" * 60)\n",
        "\n",
        "    # Test 5: Complete network\n",
        "    try:\n",
        "        tests_total += 5\n",
        "\n",
        "        net = SimpleNeuralNetwork([10, 8, 4, 2], ['relu', 'relu', 'softmax'])\n",
        "        test_input = np.random.randn(3, 10)\n",
        "        output = net(test_input)\n",
        "\n",
        "        assert output.shape == (3, 2), f\"Network output shape mismatch: {output.shape}\"\n",
        "        tests_passed += 1\n",
        "        print(\"✅ Network output shape\")\n",
        "\n",
        "        assert np.allclose(output.sum(axis=1), 1.0, rtol=1e-5), \"Softmax outputs should sum to 1\"\n",
        "        tests_passed += 1\n",
        "        print(\"✅ Network probability distribution\")\n",
        "\n",
        "        # Test network with different architecture\n",
        "        deep_net = SimpleNeuralNetwork([5, 4, 3, 2, 1], ['tanh', 'relu', 'sigmoid', 'linear'])\n",
        "        deep_output = deep_net(np.random.randn(2, 5))\n",
        "        assert deep_output.shape == (2, 1), \"Deep network output shape incorrect\"\n",
        "        tests_passed += 1\n",
        "        print(\"✅ Deep network architecture\")\n",
        "\n",
        "        # Test prediction methods\n",
        "        predictions = net.predict(test_input)\n",
        "        assert predictions.shape == output.shape, \"Predict method inconsistent\"\n",
        "        tests_passed += 1\n",
        "        print(\"✅ Prediction methods\")\n",
        "\n",
        "        class_preds = net.predict_classes(test_input)\n",
        "        assert class_preds.shape == (3,), \"Class predictions shape incorrect\"\n",
        "        tests_passed += 1\n",
        "        print(\"✅ Class prediction method\")\n",
        "\n",
        "    except AssertionError as e:\n",
        "        print(f\"❌ Complete network test failed: {e}\")\n",
        "    except Exception as e:\n",
        "        print(f\"❌ Complete network error: {e}\")\n",
        "\n",
        "    # Final results\n",
        "    print(\"\\n\" + \"=\" * 60)\n",
        "    print(\"FINAL TEST RESULTS\")\n",
        "    print(\"=\" * 60)\n",
        "    print(f\"Tests passed: {tests_passed}/{tests_total}\")\n",
        "    print(f\"Success rate: {tests_passed/tests_total*100:.1f}%\")\n",
        "\n",
        "    if tests_passed == tests_total:\n",
        "        print(\"\\n🎉 🎉 🎉 ALL TESTS PASSED SUCCESSFULLY! 🎉 🎉 🎉\")\n",
        "        # print(\"🏆 Congratulations! Your implementation is complete and correct!\")\n",
        "        # print(\"🚀 You're ready for Module 2: Optimization Algorithms!\")\n",
        "    else:\n",
        "        print(f\"\\n⚠️  {tests_total - tests_passed} tests still need attention.\")\n",
        "        print(\"🔧 Review the failed tests and debug your implementations.\")\n",
        "        print(\"💪 Keep going - you're making great progress!\")\n",
        "\n",
        "    return tests_passed, tests_total\n",
        "\n",
        "# Run all tests\n",
        "passed, total = run_comprehensive_unit_tests()"
      ],
      "metadata": {
        "colab": {
          "base_uri": "https://localhost:8080/"
        },
        "id": "C_LfUuFTMDwy",
        "outputId": "1914bd9d-c05f-4599-e1c8-ac169e8dc308"
      },
      "execution_count": null,
      "outputs": [
        {
          "output_type": "stream",
          "name": "stdout",
          "text": [
            "🧪 Running Comprehensive Unit Tests...\n",
            "\n",
            "============================================================\n",
            "TEST SECTION 1: ACTIVATION FUNCTIONS\n",
            "============================================================\n",
            "✅ Sigmoid(0) = 0.5\n",
            "✅ Sigmoid saturation behavior\n",
            "✅ ReLU basic functionality\n",
            "✅ Leaky ReLU negative slope\n",
            "✅ Tanh zero-centered\n",
            "✅ Array input handling\n",
            "\n",
            "============================================================\n",
            "TEST SECTION 2: GRADIENT FUNCTIONS\n",
            "============================================================\n",
            "✅ Sigmoid gradient maximum\n",
            "✅ Tanh gradient maximum\n",
            "✅ ReLU gradient step function\n",
            "✅ Gradient array handling\n",
            "\n",
            "============================================================\n",
            "TEST SECTION 3: TENSOR OPERATIONS\n",
            "============================================================\n",
            "✅ Matrix multiplication\n",
            "✅ Broadcasting operations\n",
            "✅ Tensor reshaping\n",
            "✅ Tensor flattening\n",
            "✅ Tensor transpose\n",
            "\n",
            "============================================================\n",
            "TEST SECTION 4: LAYER CONSTRUCTION\n",
            "============================================================\n",
            "✅ Dense layer created: 10 -> 5, activation: relu\n",
            "   Weights shape: (10, 5)\n",
            "   Bias shape: (1, 5)\n",
            "✅ Layer output shape\n",
            "✅ ReLU non-negativity\n",
            "✅ Dense layer created: 5 -> 3, activation: sigmoid\n",
            "   Weights shape: (5, 3)\n",
            "   Bias shape: (1, 3)\n",
            "✅ Sigmoid output range\n",
            "✅ Dense layer created: 8 -> 3, activation: softmax\n",
            "   Weights shape: (8, 3)\n",
            "   Bias shape: (1, 3)\n",
            "✅ Softmax probability distribution\n",
            "✅ Dense layer created: 100 -> 50, activation: relu\n",
            "   Weights shape: (100, 50)\n",
            "   Bias shape: (1, 50)\n",
            "✅ Dense layer created: 100 -> 50, activation: relu\n",
            "   Weights shape: (100, 50)\n",
            "   Bias shape: (1, 50)\n",
            "✅ Weight initialization\n",
            "✅ Dense layer created: 5 -> 3, activation: relu\n",
            "   Weights shape: (5, 3)\n",
            "   Bias shape: None\n",
            "✅ Bias handling\n",
            "\n",
            "============================================================\n",
            "TEST SECTION 5: COMPLETE NETWORK\n",
            "============================================================\n",
            "✅ Dense layer created: 10 -> 8, activation: relu\n",
            "   Weights shape: (10, 8)\n",
            "   Bias shape: (1, 8)\n",
            "✅ Dense layer created: 8 -> 4, activation: relu\n",
            "   Weights shape: (8, 4)\n",
            "   Bias shape: (1, 4)\n",
            "✅ Dense layer created: 4 -> 2, activation: softmax\n",
            "   Weights shape: (4, 2)\n",
            "   Bias shape: (1, 2)\n",
            "\n",
            "🏗️ Neural Network Architecture:\n",
            "   Layer 1: 10 -> 8 (relu)\n",
            "   Layer 2: 8 -> 4 (relu)\n",
            "   Layer 3: 4 -> 2 (softmax)\n",
            "   Total parameters: 134\n",
            "✅ Network output shape\n",
            "✅ Network probability distribution\n",
            "✅ Dense layer created: 5 -> 4, activation: tanh\n",
            "   Weights shape: (5, 4)\n",
            "   Bias shape: (1, 4)\n",
            "✅ Dense layer created: 4 -> 3, activation: relu\n",
            "   Weights shape: (4, 3)\n",
            "   Bias shape: (1, 3)\n",
            "✅ Dense layer created: 3 -> 2, activation: sigmoid\n",
            "   Weights shape: (3, 2)\n",
            "   Bias shape: (1, 2)\n",
            "✅ Dense layer created: 2 -> 1, activation: linear\n",
            "   Weights shape: (2, 1)\n",
            "   Bias shape: (1, 1)\n",
            "\n",
            "🏗️ Neural Network Architecture:\n",
            "   Layer 1: 5 -> 4 (tanh)\n",
            "   Layer 2: 4 -> 3 (relu)\n",
            "   Layer 3: 3 -> 2 (sigmoid)\n",
            "   Layer 4: 2 -> 1 (linear)\n",
            "   Total parameters: 50\n",
            "✅ Deep network architecture\n",
            "✅ Prediction methods\n",
            "✅ Class prediction method\n",
            "\n",
            "============================================================\n",
            "FINAL TEST RESULTS\n",
            "============================================================\n",
            "Tests passed: 26/26\n",
            "Success rate: 100.0%\n",
            "\n",
            "🎉 🎉 🎉 ALL TESTS PASSED SUCCESSFULLY! 🎉 🎉 🎉\n"
          ]
        }
      ]
    },
    {
      "cell_type": "code",
      "source": [],
      "metadata": {
        "id": "r6VqeR5_MQLv"
      },
      "execution_count": null,
      "outputs": []
    }
  ]
}