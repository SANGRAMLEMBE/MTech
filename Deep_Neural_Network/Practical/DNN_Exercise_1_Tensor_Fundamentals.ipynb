{
  "cells": [
    {
      "cell_type": "markdown",
      "metadata": {
        "id": "header"
      },
      "source": [
        "# T3-Exercise-1: Tensor Fundamentals\n",
        "\n",
        "---\n",
        "\n",
        "## 🎯 LEARNING OBJECTIVES\n",
        "\n",
        "- Understand what tensors are and why they're fundamental to neural networks\n",
        "- Create different types of tensors (scalars, vectors, matrices, higher-dimensional)\n",
        "- Master tensor properties: shape, rank, dtype, and size\n",
        "- Apply basic tensor manipulations like reshaping and type conversion\n",
        "\n",
        "## 🔗 CONNECTION TO NEURAL NETWORKS\n",
        "Think of tensors as the \"language\" of neural networks:\n",
        "- **Input data** (images, text) → Tensors\n",
        "- **Weights and biases** → Tensors  \n",
        "- **Activations and outputs** → Tensors\n",
        "- **All mathematical operations** happen on tensors\n",
        "\n",
        "**Real Example:** A 28×28 grayscale image becomes a tensor of shape (28, 28, 1).  \n",
        "When we flatten it for a neural network, it becomes shape (784,)"
      ]
    },
    {
      "cell_type": "code",
      "execution_count": 24,
      "metadata": {
        "id": "setup_code"
      },
      "outputs": [],
      "source": [
        "# imports for this exercise\n",
        "import tensorflow as tf\n",
        "import numpy as np\n",
        "import sys\n"
      ]
    },
    {
      "cell_type": "code",
      "source": [
        "# Environment verification\n",
        "print(\"🔧 ENVIRONMENT CHECK\")\n",
        "print(\"=\" * 30)\n",
        "print(f\"✅ TensorFlow version: {tf.__version__}\")\n",
        "print(f\"✅ NumPy version: {np.__version__}\")\n",
        "print(f\"✅ Python version: {sys.version.split()[0]}\")\n"
      ],
      "metadata": {
        "colab": {
          "base_uri": "https://localhost:8080/"
        },
        "id": "l_gXfdYSVecq",
        "outputId": "1307cdc6-bdec-4a39-a283-e0711d070189"
      },
      "execution_count": 25,
      "outputs": [
        {
          "output_type": "stream",
          "name": "stdout",
          "text": [
            "🔧 ENVIRONMENT CHECK\n",
            "==============================\n",
            "✅ TensorFlow version: 2.19.0\n",
            "✅ NumPy version: 2.0.2\n",
            "✅ Python version: 3.12.11\n"
          ]
        }
      ]
    },
    {
      "cell_type": "code",
      "source": [
        "# Check if GPU is available (informational only)\n",
        "if tf.config.list_physical_devices('GPU'):\n",
        "    print(\"🚀 GPU acceleration available\")\n",
        "else:\n",
        "    print(\"💻 Running on CPU (perfectly fine for learning)\")\n",
        "\n",
        "print(\"\\n🎉 Environment ready!\\n\")"
      ],
      "metadata": {
        "colab": {
          "base_uri": "https://localhost:8080/"
        },
        "id": "Uc5YJS2WVk1D",
        "outputId": "5b0e9ae6-609d-4cd4-d0f1-a94e313c930d"
      },
      "execution_count": 26,
      "outputs": [
        {
          "output_type": "stream",
          "name": "stdout",
          "text": [
            "💻 Running on CPU (perfectly fine for learning)\n",
            "\n",
            "🎉 Environment ready!\n",
            "\n"
          ]
        }
      ]
    },
    {
      "cell_type": "markdown",
      "metadata": {
        "id": "concepts"
      },
      "source": [
        "## 🧠 CORE CONCEPTS: What Are Tensors?\n",
        "\n",
        "### SIMPLE EXPLANATION:\n",
        "A tensor is just a container for numbers, but organized in a specific way:\n",
        "\n",
        "- **Scalar (0D tensor):** Just one number → `42`\n",
        "- **Vector (1D tensor):** A list of numbers → `[1, 2, 3]`  \n",
        "- **Matrix (2D tensor):** A table of numbers → `[[1, 2], [3, 4]]`\n",
        "- **3D+ tensors:** Multiple matrices stacked together\n",
        "\n",
        "### NEURAL NETWORK ANALOGY:\n",
        "- **Scalar:** A single pixel intensity\n",
        "- **Vector:** A row of pixels, or neuron activations in a layer\n",
        "- **Matrix:** An entire grayscale image, or layer weights\n",
        "- **3D tensor:** Color image (height × width × channels)\n",
        "- **4D tensor:** Batch of color images (batch × height × width × channels)\n",
        "\n",
        "### WHY TENSORS MATTER:\n",
        "1. **Efficient computation** (vectorization)\n",
        "2. **GPU acceleration**\n",
        "3. **Automatic differentiation** (backpropagation)\n",
        "4. **Consistent interface** for all data types"
      ]
    },
    {
      "cell_type": "markdown",
      "metadata": {
        "id": "step1_title"
      },
      "source": [
        "##  STEP 1: Creating Different Types of Tensors\n",
        "Let's create tensors step by step and understand each one"
      ]
    },
    {
      "cell_type": "code",
      "execution_count": 27,
      "metadata": {
        "id": "step1_scalar",
        "colab": {
          "base_uri": "https://localhost:8080/"
        },
        "outputId": "1a510da0-7f2c-4702-ff89-9faf2c4cfa75"
      },
      "outputs": [
        {
          "output_type": "stream",
          "name": "stdout",
          "text": [
            "Creating a SCALAR tensor (0D - just one number):\n",
            "Scalar tensor: 42\n"
          ]
        }
      ],
      "source": [
        "# Creating a SCALAR tensor (0D - just one number)\n",
        "print(\"Creating a SCALAR tensor (0D - just one number):\")\n",
        "scalar = tf.constant(42)\n",
        "print(f\"Scalar tensor: {scalar}\")\n"
      ]
    },
    {
      "cell_type": "code",
      "source": [
        "print(f\"Value: {scalar.numpy()}\")\n"
      ],
      "metadata": {
        "colab": {
          "base_uri": "https://localhost:8080/"
        },
        "id": "-qsmDqcUXfhs",
        "outputId": "b9b54785-386d-4579-db5d-b864e5d8566e"
      },
      "execution_count": 28,
      "outputs": [
        {
          "output_type": "stream",
          "name": "stdout",
          "text": [
            "Value: 42\n"
          ]
        }
      ]
    },
    {
      "cell_type": "code",
      "source": [
        "print(f\"This represents: A single value (like one pixel intensity)\")\n"
      ],
      "metadata": {
        "colab": {
          "base_uri": "https://localhost:8080/"
        },
        "id": "3I4nutB2XheO",
        "outputId": "449811fa-4126-4160-ac29-63c8c3661683"
      },
      "execution_count": 30,
      "outputs": [
        {
          "output_type": "stream",
          "name": "stdout",
          "text": [
            "This represents: A single value (like one pixel intensity)\n"
          ]
        }
      ]
    },
    {
      "cell_type": "code",
      "execution_count": 31,
      "metadata": {
        "id": "step1_vector",
        "colab": {
          "base_uri": "https://localhost:8080/"
        },
        "outputId": "db1d7d15-0e0c-4b48-c893-ddc40c4d77e4"
      },
      "outputs": [
        {
          "output_type": "stream",
          "name": "stdout",
          "text": [
            "Creating a VECTOR tensor (1D - list of numbers):\n",
            "Vector tensor: [1 2 3 4 5]\n"
          ]
        }
      ],
      "source": [
        "# Creating a VECTOR tensor (1D - list of numbers)\n",
        "print(\"Creating a VECTOR tensor (1D - list of numbers):\")\n",
        "vector = tf.constant([1, 2, 3, 4, 5])\n",
        "print(f\"Vector tensor: {vector}\")\n"
      ]
    },
    {
      "cell_type": "code",
      "source": [
        "print(f\"Values: {vector.numpy()}\")\n",
        "print(f\"This represents: One row of pixels, or activations from 5 neurons\")\n"
      ],
      "metadata": {
        "colab": {
          "base_uri": "https://localhost:8080/"
        },
        "id": "2njPtSvMXwDe",
        "outputId": "0a609632-de84-4f91-d15a-8a8a879ead88"
      },
      "execution_count": 33,
      "outputs": [
        {
          "output_type": "stream",
          "name": "stdout",
          "text": [
            "Values: [1 2 3 4 5]\n",
            "This represents: One row of pixels, or activations from 5 neurons\n"
          ]
        }
      ]
    },
    {
      "cell_type": "code",
      "execution_count": 34,
      "metadata": {
        "id": "step1_matrix",
        "colab": {
          "base_uri": "https://localhost:8080/"
        },
        "outputId": "4864769f-96f8-418c-c300-279a7c72091b"
      },
      "outputs": [
        {
          "output_type": "stream",
          "name": "stdout",
          "text": [
            "Creating a MATRIX tensor (2D - table of numbers):\n",
            "Matrix tensor:\n",
            "[[1 2 3]\n",
            " [4 5 6]]\n"
          ]
        }
      ],
      "source": [
        "# Creating a MATRIX tensor (2D - table of numbers)\n",
        "print(\"Creating a MATRIX tensor (2D - table of numbers):\")\n",
        "matrix = tf.constant([[1, 2, 3],\n",
        "                      [4, 5, 6]])\n",
        "print(f\"Matrix tensor:\\n{matrix}\")\n"
      ]
    },
    {
      "cell_type": "code",
      "source": [
        "print(f\"Values:\\n{matrix.numpy()}\")\n",
        "print(f\"This represents: A small grayscale image patch (2×3 pixels)\")\n",
        "print()"
      ],
      "metadata": {
        "colab": {
          "base_uri": "https://localhost:8080/"
        },
        "id": "cZPzNrbeX7x5",
        "outputId": "a153c8fa-83a2-4f5c-f29f-b89dea1dff1a"
      },
      "execution_count": 35,
      "outputs": [
        {
          "output_type": "stream",
          "name": "stdout",
          "text": [
            "Values:\n",
            "[[1 2 3]\n",
            " [4 5 6]]\n",
            "This represents: A small grayscale image patch (2×3 pixels)\n",
            "\n"
          ]
        }
      ]
    },
    {
      "cell_type": "code",
      "execution_count": 39,
      "metadata": {
        "id": "step1_3d",
        "colab": {
          "base_uri": "https://localhost:8080/"
        },
        "outputId": "ada55620-5cc8-4f67-80d0-c2b1e17e9e2f"
      },
      "outputs": [
        {
          "output_type": "stream",
          "name": "stdout",
          "text": [
            "Creating a 3D tensor (like a color image):\n",
            "3D tensor:\n",
            "[[[1 2]\n",
            "  [3 4]]\n",
            "\n",
            " [[5 6]\n",
            "  [7 8]]]\n"
          ]
        }
      ],
      "source": [
        "# Creating a 3D tensor (like a color image)\n",
        "print(\"Creating a 3D tensor (like a color image):\")\n",
        "tensor_3d = tf.constant([[[1, 2], [3, 4]],\n",
        "                         [[5, 6], [7, 8]]])\n",
        "print(f\"3D tensor:\\n{tensor_3d}\")\n"
      ]
    },
    {
      "cell_type": "markdown",
      "metadata": {
        "id": "step2_title"
      },
      "source": [
        "## STEP 2: Understanding Tensor Properties\n",
        "Let's examine each tensor's properties to understand what they mean"
      ]
    },
    {
      "cell_type": "code",
      "execution_count": 40,
      "metadata": {
        "id": "step2_properties"
      },
      "outputs": [],
      "source": [
        "# Let's examine each tensor's properties\n",
        "tensors_to_examine = [\n",
        "    (\"Scalar\", scalar, \"Single number\"),\n",
        "    (\"Vector\", vector, \"List of 5 numbers\"),\n",
        "    (\"Matrix\", matrix, \"2×3 table\"),\n",
        "    (\"3D Tensor\", tensor_3d, \"2×2×2 cube\")\n",
        "]\n"
      ]
    },
    {
      "cell_type": "code",
      "source": [
        "\n",
        "for name, tensor, description in tensors_to_examine:\n",
        "    print(f\"\\n🔍 Examining {name} ({description}):\")\n",
        "    print(f\"  📏 Shape: {tensor.shape} ← Dimensions of the tensor\")\n",
        "    print(f\"  📊 Rank: {tf.rank(tensor).numpy()} ← Number of dimensions\")\n",
        "    print(f\"  🏷️  Data type: {tensor.dtype} ← Type of numbers stored\")\n",
        "    print(f\"  📦 Total size: {tf.size(tensor).numpy()} ← Total number of elements\")\n",
        "\n",
        "    # Help students understand what shape means\n",
        "    if tensor.shape.ndims == 0:\n",
        "        print(\"     Shape () means: No dimensions, just one value\")\n",
        "    elif tensor.shape.ndims == 1:\n",
        "        print(f\"     Shape ({tensor.shape[0]},) means: {tensor.shape[0]} elements in a line\")\n",
        "    elif tensor.shape.ndims == 2:\n",
        "        print(f\"     Shape ({tensor.shape[0]}, {tensor.shape[1]}) means: {tensor.shape[0]} rows, {tensor.shape[1]} columns\")\n",
        "    elif tensor.shape.ndims == 3:\n",
        "        print(f\"     Shape ({tensor.shape[0]}, {tensor.shape[1]}, {tensor.shape[2]}) means: {tensor.shape[0]} matrices of {tensor.shape[1]}×{tensor.shape[2]}\")"
      ],
      "metadata": {
        "colab": {
          "base_uri": "https://localhost:8080/"
        },
        "id": "twW58rggcIpK",
        "outputId": "ad3c37d3-f37a-4810-acad-e2315123daa5"
      },
      "execution_count": 41,
      "outputs": [
        {
          "output_type": "stream",
          "name": "stdout",
          "text": [
            "\n",
            "🔍 Examining Scalar (Single number):\n",
            "  📏 Shape: () ← Dimensions of the tensor\n",
            "  📊 Rank: 0 ← Number of dimensions\n",
            "  🏷️  Data type: <dtype: 'int32'> ← Type of numbers stored\n",
            "  📦 Total size: 1 ← Total number of elements\n",
            "     Shape () means: No dimensions, just one value\n",
            "\n",
            "🔍 Examining Vector (List of 5 numbers):\n",
            "  📏 Shape: (5,) ← Dimensions of the tensor\n",
            "  📊 Rank: 1 ← Number of dimensions\n",
            "  🏷️  Data type: <dtype: 'int32'> ← Type of numbers stored\n",
            "  📦 Total size: 5 ← Total number of elements\n",
            "     Shape (5,) means: 5 elements in a line\n",
            "\n",
            "🔍 Examining Matrix (2×3 table):\n",
            "  📏 Shape: (2, 3) ← Dimensions of the tensor\n",
            "  📊 Rank: 2 ← Number of dimensions\n",
            "  🏷️  Data type: <dtype: 'int32'> ← Type of numbers stored\n",
            "  📦 Total size: 6 ← Total number of elements\n",
            "     Shape (2, 3) means: 2 rows, 3 columns\n",
            "\n",
            "🔍 Examining 3D Tensor (2×2×2 cube):\n",
            "  📏 Shape: (2, 2, 2) ← Dimensions of the tensor\n",
            "  📊 Rank: 3 ← Number of dimensions\n",
            "  🏷️  Data type: <dtype: 'int32'> ← Type of numbers stored\n",
            "  📦 Total size: 8 ← Total number of elements\n",
            "     Shape (2, 2, 2) means: 2 matrices of 2×2\n"
          ]
        }
      ]
    },
    {
      "cell_type": "markdown",
      "metadata": {
        "id": "step3_title"
      },
      "source": [
        "##  STEP 3: Special Ways to Create Tensors\n",
        "Neural networks often need tensors with specific patterns"
      ]
    },
    {
      "cell_type": "code",
      "execution_count": 14,
      "metadata": {
        "id": "step3_zeros",
        "colab": {
          "base_uri": "https://localhost:8080/"
        },
        "outputId": "ca72464a-2b93-4a73-8f74-6a10bf0965f7"
      },
      "outputs": [
        {
          "output_type": "stream",
          "name": "stdout",
          "text": [
            "Creating tensors filled with ZEROS (common for initializing bias):\n",
            "3×4 matrix of zeros:\n",
            "[[0. 0. 0. 0.]\n",
            " [0. 0. 0. 0.]\n",
            " [0. 0. 0. 0.]]\n",
            "💡 Use case: Initializing bias vectors in neural networks\n",
            "\n"
          ]
        }
      ],
      "source": [
        "# Creating tensors filled with ZEROS (common for initializing bias)\n",
        "print(\"Creating tensors filled with ZEROS (common for initializing bias):\")\n",
        "zeros_matrix = tf.zeros((3, 4))\n",
        "print(f\"3×4 matrix of zeros:\\n{zeros_matrix}\")\n",
        "print(\"💡 Use case: Initializing bias vectors in neural networks\")\n",
        "print()"
      ]
    },
    {
      "cell_type": "code",
      "source": [
        "# Creating tensors filled with ZEROS (common for initializing bias)\n",
        "print(\"Creating tensors filled with ZEROS (common for initializing bias):\")\n",
        "zeros_matrix = tf.zeros((3, 4))\n",
        "print(f\"3×4 matrix of zeros:\\n{zeros_matrix}\")\n",
        "print(\"💡 Use case: Initializing bias vectors in neural networks\")\n",
        "print()"
      ],
      "metadata": {
        "id": "DOeJ2cdIbMrx"
      },
      "execution_count": null,
      "outputs": []
    },
    {
      "cell_type": "code",
      "execution_count": 15,
      "metadata": {
        "id": "step3_ones",
        "colab": {
          "base_uri": "https://localhost:8080/"
        },
        "outputId": "cb9d3135-4e18-4999-fa51-0b96e1c12527"
      },
      "outputs": [
        {
          "output_type": "stream",
          "name": "stdout",
          "text": [
            "Creating tensors filled with ONES:\n",
            "Vector of 5 ones: [1. 1. 1. 1. 1.]\n",
            "💡 Use case: Creating masks or initialization\n",
            "\n"
          ]
        }
      ],
      "source": [
        "# Creating tensors filled with ONES\n",
        "print(\"Creating tensors filled with ONES:\")\n",
        "ones_vector = tf.ones(5)\n",
        "print(f\"Vector of 5 ones: {ones_vector}\")\n",
        "print(\"💡 Use case: Creating masks or initialization\")\n",
        "print()"
      ]
    },
    {
      "cell_type": "code",
      "execution_count": 16,
      "metadata": {
        "id": "step3_random",
        "colab": {
          "base_uri": "https://localhost:8080/"
        },
        "outputId": "a0f3a240-e58e-4745-8b23-ac41322dd747"
      },
      "outputs": [
        {
          "output_type": "stream",
          "name": "stdout",
          "text": [
            "Creating tensors with RANDOM values (crucial for neural networks):\n",
            "2×3 matrix with random normal values:\n",
            "[[ 0.73941964  0.07404348 -0.444484  ]\n",
            " [-0.42385274 -1.0913789  -0.06087291]]\n",
            "💡 Use case: Initializing weights in neural networks\n",
            "\n"
          ]
        }
      ],
      "source": [
        "# Creating tensors with RANDOM values (crucial for neural networks)\n",
        "print(\"Creating tensors with RANDOM values (crucial for neural networks):\")\n",
        "random_matrix = tf.random.normal((2, 3), mean=0.0, stddev=1.0)\n",
        "print(f\"2×3 matrix with random normal values:\\n{random_matrix}\")\n",
        "print(\"💡 Use case: Initializing weights in neural networks\")\n",
        "print()"
      ]
    },
    {
      "cell_type": "code",
      "execution_count": 17,
      "metadata": {
        "id": "step3_variable",
        "colab": {
          "base_uri": "https://localhost:8080/"
        },
        "outputId": "55f5c7b9-54e9-4e0e-ef86-8089bab9ff72"
      },
      "outputs": [
        {
          "output_type": "stream",
          "name": "stdout",
          "text": [
            "Creating a VARIABLE tensor (weights that can be trained):\n",
            "Trainable weights:\n",
            "<tf.Variable 'layer_weights:0' shape=(2, 3) dtype=float32, numpy=\n",
            "array([[ 0.10620701,  0.12921634,  0.10339769],\n",
            "       [-0.05376191,  0.08285449, -0.18392752]], dtype=float32)>\n",
            "💡 Use case: Neural network weights that update during training\n",
            "\n"
          ]
        }
      ],
      "source": [
        "# Creating a VARIABLE tensor (weights that can be trained)\n",
        "print(\"Creating a VARIABLE tensor (weights that can be trained):\")\n",
        "trainable_weights = tf.Variable(tf.random.normal((2, 3), stddev=0.1), name=\"layer_weights\")\n",
        "print(f\"Trainable weights:\\n{trainable_weights}\")\n",
        "print(\"💡 Use case: Neural network weights that update during training\")\n",
        "print()"
      ]
    },
    {
      "cell_type": "markdown",
      "metadata": {
        "id": "step4_title"
      },
      "source": [
        "##  STEP 4: Reshaping Tensors (Very Important!)\n",
        "🎯 Reshaping is crucial when connecting different layers in neural networks"
      ]
    },
    {
      "cell_type": "code",
      "execution_count": 18,
      "metadata": {
        "id": "step4_original",
        "colab": {
          "base_uri": "https://localhost:8080/"
        },
        "outputId": "7a6ee6f9-cc09-4e6f-d5ff-4786da0f19dd"
      },
      "outputs": [
        {
          "output_type": "stream",
          "name": "stdout",
          "text": [
            "Original data (2, 4):\n",
            "tf.Tensor(\n",
            "[[1 2 3 4]\n",
            " [5 6 7 8]], shape=(2, 4), dtype=int32)\n",
            "This could represent: 2 samples, each with 4 features\n",
            "\n"
          ]
        }
      ],
      "source": [
        "# Start with a sample data tensor\n",
        "original_data = tf.constant([[1, 2, 3, 4],\n",
        "                            [5, 6, 7, 8]])\n",
        "print(f\"Original data {original_data.shape}:\")\n",
        "print(original_data)\n",
        "print(\"This could represent: 2 samples, each with 4 features\")\n",
        "print()"
      ]
    },
    {
      "cell_type": "code",
      "execution_count": 19,
      "metadata": {
        "id": "step4_flatten",
        "colab": {
          "base_uri": "https://localhost:8080/"
        },
        "outputId": "a546ade0-45dd-4586-9974-241f5b3e1c49"
      },
      "outputs": [
        {
          "output_type": "stream",
          "name": "stdout",
          "text": [
            "Reshaping to different configurations:\n",
            "Flattened to 1D (8,): [1 2 3 4 5 6 7 8]\n",
            "💡 Use case: Flattening image data before dense layer\n",
            "\n"
          ]
        }
      ],
      "source": [
        "# Flatten to 1D (common when going from CNN to dense layer)\n",
        "print(\"Reshaping to different configurations:\")\n",
        "flattened = tf.reshape(original_data, (-1,))\n",
        "print(f\"Flattened to 1D {flattened.shape}: {flattened}\")\n",
        "print(\"💡 Use case: Flattening image data before dense layer\")\n",
        "print()"
      ]
    },
    {
      "cell_type": "code",
      "execution_count": 20,
      "metadata": {
        "id": "step4_column",
        "colab": {
          "base_uri": "https://localhost:8080/"
        },
        "outputId": "cb8d9034-e243-45ce-b00e-38a5a5242479"
      },
      "outputs": [
        {
          "output_type": "stream",
          "name": "stdout",
          "text": [
            "Reshaped to column vector (8, 1):\n",
            "tf.Tensor(\n",
            "[[1]\n",
            " [2]\n",
            " [3]\n",
            " [4]\n",
            " [5]\n",
            " [6]\n",
            " [7]\n",
            " [8]], shape=(8, 1), dtype=int32)\n",
            "💡 Use case: Preparing data for certain layer types\n",
            "\n"
          ]
        }
      ],
      "source": [
        "# Reshape to column vector\n",
        "column_vector = tf.reshape(original_data, (8, 1))\n",
        "print(f\"Reshaped to column vector {column_vector.shape}:\")\n",
        "print(column_vector)\n",
        "print(\"💡 Use case: Preparing data for certain layer types\")\n",
        "print()"
      ]
    },
    {
      "cell_type": "code",
      "execution_count": 21,
      "metadata": {
        "id": "step4_batch",
        "colab": {
          "base_uri": "https://localhost:8080/"
        },
        "outputId": "bf9aea68-8562-4558-b5c2-7517aec69b82"
      },
      "outputs": [
        {
          "output_type": "stream",
          "name": "stdout",
          "text": [
            "Reshaped to 3D with batch dimension (1, 2, 4):\n",
            "tf.Tensor(\n",
            "[[[1 2 3 4]\n",
            "  [5 6 7 8]]], shape=(1, 2, 4), dtype=int32)\n",
            "💡 Use case: Adding batch dimension for neural network input\n",
            "\n"
          ]
        }
      ],
      "source": [
        "# Reshape to 3D (adding batch dimension)\n",
        "batched = tf.reshape(original_data, (1, 2, 4))\n",
        "print(f\"Reshaped to 3D with batch dimension {batched.shape}:\")\n",
        "print(batched)\n",
        "print(\"💡 Use case: Adding batch dimension for neural network input\")\n",
        "print()"
      ]
    },
    {
      "cell_type": "markdown",
      "metadata": {
        "id": "step5_title"
      },
      "source": [
        "##  STEP 5: Working with Different Data Types\n",
        "Understanding data types is important for memory efficiency and computation"
      ]
    },
    {
      "cell_type": "code",
      "execution_count": 22,
      "metadata": {
        "id": "step5_datatypes",
        "colab": {
          "base_uri": "https://localhost:8080/"
        },
        "outputId": "9d951cd0-a6b5-470d-8b9a-e87a8bc66dbf"
      },
      "outputs": [
        {
          "output_type": "stream",
          "name": "stdout",
          "text": [
            "Integer tensor: [1 2 3] (dtype: <dtype: 'int32'>)\n",
            "Converted to float: [1. 2. 3.] (dtype: <dtype: 'float32'>)\n",
            "Boolean tensor: [ True False  True] (dtype: <dtype: 'bool'>)\n",
            "💡 Use case: Creating masks for selective operations\n",
            "\n"
          ]
        }
      ],
      "source": [
        "# Integer tensor\n",
        "int_tensor = tf.constant([1, 2, 3], dtype=tf.int32)\n",
        "print(f\"Integer tensor: {int_tensor} (dtype: {int_tensor.dtype})\")\n",
        "\n",
        "# Convert to float\n",
        "float_tensor = tf.cast(int_tensor, tf.float32)\n",
        "print(f\"Converted to float: {float_tensor} (dtype: {float_tensor.dtype})\")\n",
        "\n",
        "# Boolean tensor\n",
        "bool_tensor = tf.constant([True, False, True])\n",
        "print(f\"Boolean tensor: {bool_tensor} (dtype: {bool_tensor.dtype})\")\n",
        "print(\"💡 Use case: Creating masks for selective operations\")\n",
        "print()"
      ]
    },
    {
      "cell_type": "markdown",
      "metadata": {
        "id": "validation_title"
      },
      "source": [
        "## ✅ VALIDATION & TESTING\n",
        "Let's test your understanding with a practical example"
      ]
    },
    {
      "cell_type": "code",
      "execution_count": 23,
      "metadata": {
        "id": "validation_scenario",
        "colab": {
          "base_uri": "https://localhost:8080/"
        },
        "outputId": "cff55746-bc3f-46d4-b01b-278e3c91b259"
      },
      "outputs": [
        {
          "output_type": "stream",
          "name": "stdout",
          "text": [
            "🧠 SCENARIO: Processing a batch of 3 images for a neural network\n",
            "\n",
            "Input batch shape: (3, 4, 4)\n",
            "This represents: 3 images, each 4×4 pixels\n",
            "\n",
            "Flattened for dense layer: (3, 16)\n",
            "This represents: 3 samples, each with 16 features\n",
            "\n",
            "✅ Validation: Expected 16 features, got 16\n",
            "✅ Shape check: True\n",
            "\n"
          ]
        }
      ],
      "source": [
        "print(\"🧠 SCENARIO: Processing a batch of 3 images for a neural network\")\n",
        "print()\n",
        "\n",
        "# Simulate 3 grayscale images of size 4×4 pixels\n",
        "batch_size = 3\n",
        "height, width = 4, 4\n",
        "input_batch = tf.random.uniform((batch_size, height, width), 0, 255, dtype=tf.float32)\n",
        "\n",
        "print(f\"Input batch shape: {input_batch.shape}\")\n",
        "print(f\"This represents: {batch_size} images, each {height}×{width} pixels\")\n",
        "print()\n",
        "\n",
        "# Flatten for dense layer (common operation)\n",
        "flattened_batch = tf.reshape(input_batch, (batch_size, -1))\n",
        "print(f\"Flattened for dense layer: {flattened_batch.shape}\")\n",
        "print(f\"This represents: {batch_size} samples, each with {height*width} features\")\n",
        "print()\n",
        "\n",
        "# Check our work\n",
        "expected_features = height * width\n",
        "actual_features = flattened_batch.shape[1]\n",
        "print(f\"✅ Validation: Expected {expected_features} features, got {actual_features}\")\n",
        "print(f\"✅ Shape check: {actual_features == expected_features}\")\n",
        "print()"
      ]
    },
    {
      "cell_type": "markdown",
      "metadata": {
        "id": "takeaways"
      },
      "source": [
        "## 🔍 KEY TAKEAWAYS\n",
        "\n",
        "1. **Tensors are the fundamental data structure** in neural networks\n",
        "2. **Shape tells you the dimensions:** (batch_size, height, width, channels)\n",
        "3. **Rank is the number of dimensions** (0D=scalar, 1D=vector, 2D=matrix, etc.)\n",
        "4. **Reshaping is crucial** for connecting different types of layers\n",
        "5. **Variables are tensors that can be trained** (weights and biases)\n",
        "6. **Data type affects memory usage** and computation precision\n",
        "7. **Always check tensor shapes** when debugging neural networks\n",
        "\n",
        "### 🤔 QUESTIONS TO THINK ABOUT:\n",
        "1)  How would you represent a batch of 32 color images (28×28 pixels)?\n",
        "\n",
        "--> The NumPy array shape for a batch of 32 color images sized 28×28 is (32, 28, 28, 3), representing (batch_size, height, width, channels).\n",
        "\n",
        "Example: images = np.zeros((32, 28, 28, 3)) for such a batch\n",
        "\n",
        "\n",
        "\n",
        "\n",
        "2) What shape would the weights have for a layer with 128 inputs and 64 outputs?\n",
        "\n",
        "--> The weight matrix for a dense layer with 128 inputs and 64 outputs has shape (128, 64).\n",
        "\n",
        "This means every input feature is fully connected to every output neuron:\n",
        "\n",
        "128 previous neurons × 64 output neurons = 8192 weights.\n",
        "\n",
        "\n",
        "3)  Why do we need to flatten images before feeding them to dense layers?\n",
        "\n",
        "-->  Dense layers require 1D vectors because every neuron expects one value per input.\n",
        "\n",
        "Images start as 3D arrays (height × width × channels). Flattening (reshaping) turns this into a 1D array, allowing the dense layer to process every pixel individually.\n",
        "\n",
        "Without flattening, the dense layer cannot correctly interpret the 2D+ structure of the image data; it needs a single vector per sample for matrix multiplication with the weights."
      ]
    },
    {
      "cell_type": "code",
      "source": [
        "images = np.zeros((32, 28, 28, 3))"
      ],
      "metadata": {
        "id": "m4B176qUdtiB"
      },
      "execution_count": 43,
      "outputs": []
    },
    {
      "cell_type": "code",
      "source": [
        "print(images)"
      ],
      "metadata": {
        "colab": {
          "base_uri": "https://localhost:8080/"
        },
        "id": "CeidrXzEd2fv",
        "outputId": "b4b8e088-b324-4dfe-e3fd-80bd6aeb0299"
      },
      "execution_count": 45,
      "outputs": [
        {
          "output_type": "stream",
          "name": "stdout",
          "text": [
            "[[[[0. 0. 0.]\n",
            "   [0. 0. 0.]\n",
            "   [0. 0. 0.]\n",
            "   ...\n",
            "   [0. 0. 0.]\n",
            "   [0. 0. 0.]\n",
            "   [0. 0. 0.]]\n",
            "\n",
            "  [[0. 0. 0.]\n",
            "   [0. 0. 0.]\n",
            "   [0. 0. 0.]\n",
            "   ...\n",
            "   [0. 0. 0.]\n",
            "   [0. 0. 0.]\n",
            "   [0. 0. 0.]]\n",
            "\n",
            "  [[0. 0. 0.]\n",
            "   [0. 0. 0.]\n",
            "   [0. 0. 0.]\n",
            "   ...\n",
            "   [0. 0. 0.]\n",
            "   [0. 0. 0.]\n",
            "   [0. 0. 0.]]\n",
            "\n",
            "  ...\n",
            "\n",
            "  [[0. 0. 0.]\n",
            "   [0. 0. 0.]\n",
            "   [0. 0. 0.]\n",
            "   ...\n",
            "   [0. 0. 0.]\n",
            "   [0. 0. 0.]\n",
            "   [0. 0. 0.]]\n",
            "\n",
            "  [[0. 0. 0.]\n",
            "   [0. 0. 0.]\n",
            "   [0. 0. 0.]\n",
            "   ...\n",
            "   [0. 0. 0.]\n",
            "   [0. 0. 0.]\n",
            "   [0. 0. 0.]]\n",
            "\n",
            "  [[0. 0. 0.]\n",
            "   [0. 0. 0.]\n",
            "   [0. 0. 0.]\n",
            "   ...\n",
            "   [0. 0. 0.]\n",
            "   [0. 0. 0.]\n",
            "   [0. 0. 0.]]]\n",
            "\n",
            "\n",
            " [[[0. 0. 0.]\n",
            "   [0. 0. 0.]\n",
            "   [0. 0. 0.]\n",
            "   ...\n",
            "   [0. 0. 0.]\n",
            "   [0. 0. 0.]\n",
            "   [0. 0. 0.]]\n",
            "\n",
            "  [[0. 0. 0.]\n",
            "   [0. 0. 0.]\n",
            "   [0. 0. 0.]\n",
            "   ...\n",
            "   [0. 0. 0.]\n",
            "   [0. 0. 0.]\n",
            "   [0. 0. 0.]]\n",
            "\n",
            "  [[0. 0. 0.]\n",
            "   [0. 0. 0.]\n",
            "   [0. 0. 0.]\n",
            "   ...\n",
            "   [0. 0. 0.]\n",
            "   [0. 0. 0.]\n",
            "   [0. 0. 0.]]\n",
            "\n",
            "  ...\n",
            "\n",
            "  [[0. 0. 0.]\n",
            "   [0. 0. 0.]\n",
            "   [0. 0. 0.]\n",
            "   ...\n",
            "   [0. 0. 0.]\n",
            "   [0. 0. 0.]\n",
            "   [0. 0. 0.]]\n",
            "\n",
            "  [[0. 0. 0.]\n",
            "   [0. 0. 0.]\n",
            "   [0. 0. 0.]\n",
            "   ...\n",
            "   [0. 0. 0.]\n",
            "   [0. 0. 0.]\n",
            "   [0. 0. 0.]]\n",
            "\n",
            "  [[0. 0. 0.]\n",
            "   [0. 0. 0.]\n",
            "   [0. 0. 0.]\n",
            "   ...\n",
            "   [0. 0. 0.]\n",
            "   [0. 0. 0.]\n",
            "   [0. 0. 0.]]]\n",
            "\n",
            "\n",
            " [[[0. 0. 0.]\n",
            "   [0. 0. 0.]\n",
            "   [0. 0. 0.]\n",
            "   ...\n",
            "   [0. 0. 0.]\n",
            "   [0. 0. 0.]\n",
            "   [0. 0. 0.]]\n",
            "\n",
            "  [[0. 0. 0.]\n",
            "   [0. 0. 0.]\n",
            "   [0. 0. 0.]\n",
            "   ...\n",
            "   [0. 0. 0.]\n",
            "   [0. 0. 0.]\n",
            "   [0. 0. 0.]]\n",
            "\n",
            "  [[0. 0. 0.]\n",
            "   [0. 0. 0.]\n",
            "   [0. 0. 0.]\n",
            "   ...\n",
            "   [0. 0. 0.]\n",
            "   [0. 0. 0.]\n",
            "   [0. 0. 0.]]\n",
            "\n",
            "  ...\n",
            "\n",
            "  [[0. 0. 0.]\n",
            "   [0. 0. 0.]\n",
            "   [0. 0. 0.]\n",
            "   ...\n",
            "   [0. 0. 0.]\n",
            "   [0. 0. 0.]\n",
            "   [0. 0. 0.]]\n",
            "\n",
            "  [[0. 0. 0.]\n",
            "   [0. 0. 0.]\n",
            "   [0. 0. 0.]\n",
            "   ...\n",
            "   [0. 0. 0.]\n",
            "   [0. 0. 0.]\n",
            "   [0. 0. 0.]]\n",
            "\n",
            "  [[0. 0. 0.]\n",
            "   [0. 0. 0.]\n",
            "   [0. 0. 0.]\n",
            "   ...\n",
            "   [0. 0. 0.]\n",
            "   [0. 0. 0.]\n",
            "   [0. 0. 0.]]]\n",
            "\n",
            "\n",
            " ...\n",
            "\n",
            "\n",
            " [[[0. 0. 0.]\n",
            "   [0. 0. 0.]\n",
            "   [0. 0. 0.]\n",
            "   ...\n",
            "   [0. 0. 0.]\n",
            "   [0. 0. 0.]\n",
            "   [0. 0. 0.]]\n",
            "\n",
            "  [[0. 0. 0.]\n",
            "   [0. 0. 0.]\n",
            "   [0. 0. 0.]\n",
            "   ...\n",
            "   [0. 0. 0.]\n",
            "   [0. 0. 0.]\n",
            "   [0. 0. 0.]]\n",
            "\n",
            "  [[0. 0. 0.]\n",
            "   [0. 0. 0.]\n",
            "   [0. 0. 0.]\n",
            "   ...\n",
            "   [0. 0. 0.]\n",
            "   [0. 0. 0.]\n",
            "   [0. 0. 0.]]\n",
            "\n",
            "  ...\n",
            "\n",
            "  [[0. 0. 0.]\n",
            "   [0. 0. 0.]\n",
            "   [0. 0. 0.]\n",
            "   ...\n",
            "   [0. 0. 0.]\n",
            "   [0. 0. 0.]\n",
            "   [0. 0. 0.]]\n",
            "\n",
            "  [[0. 0. 0.]\n",
            "   [0. 0. 0.]\n",
            "   [0. 0. 0.]\n",
            "   ...\n",
            "   [0. 0. 0.]\n",
            "   [0. 0. 0.]\n",
            "   [0. 0. 0.]]\n",
            "\n",
            "  [[0. 0. 0.]\n",
            "   [0. 0. 0.]\n",
            "   [0. 0. 0.]\n",
            "   ...\n",
            "   [0. 0. 0.]\n",
            "   [0. 0. 0.]\n",
            "   [0. 0. 0.]]]\n",
            "\n",
            "\n",
            " [[[0. 0. 0.]\n",
            "   [0. 0. 0.]\n",
            "   [0. 0. 0.]\n",
            "   ...\n",
            "   [0. 0. 0.]\n",
            "   [0. 0. 0.]\n",
            "   [0. 0. 0.]]\n",
            "\n",
            "  [[0. 0. 0.]\n",
            "   [0. 0. 0.]\n",
            "   [0. 0. 0.]\n",
            "   ...\n",
            "   [0. 0. 0.]\n",
            "   [0. 0. 0.]\n",
            "   [0. 0. 0.]]\n",
            "\n",
            "  [[0. 0. 0.]\n",
            "   [0. 0. 0.]\n",
            "   [0. 0. 0.]\n",
            "   ...\n",
            "   [0. 0. 0.]\n",
            "   [0. 0. 0.]\n",
            "   [0. 0. 0.]]\n",
            "\n",
            "  ...\n",
            "\n",
            "  [[0. 0. 0.]\n",
            "   [0. 0. 0.]\n",
            "   [0. 0. 0.]\n",
            "   ...\n",
            "   [0. 0. 0.]\n",
            "   [0. 0. 0.]\n",
            "   [0. 0. 0.]]\n",
            "\n",
            "  [[0. 0. 0.]\n",
            "   [0. 0. 0.]\n",
            "   [0. 0. 0.]\n",
            "   ...\n",
            "   [0. 0. 0.]\n",
            "   [0. 0. 0.]\n",
            "   [0. 0. 0.]]\n",
            "\n",
            "  [[0. 0. 0.]\n",
            "   [0. 0. 0.]\n",
            "   [0. 0. 0.]\n",
            "   ...\n",
            "   [0. 0. 0.]\n",
            "   [0. 0. 0.]\n",
            "   [0. 0. 0.]]]\n",
            "\n",
            "\n",
            " [[[0. 0. 0.]\n",
            "   [0. 0. 0.]\n",
            "   [0. 0. 0.]\n",
            "   ...\n",
            "   [0. 0. 0.]\n",
            "   [0. 0. 0.]\n",
            "   [0. 0. 0.]]\n",
            "\n",
            "  [[0. 0. 0.]\n",
            "   [0. 0. 0.]\n",
            "   [0. 0. 0.]\n",
            "   ...\n",
            "   [0. 0. 0.]\n",
            "   [0. 0. 0.]\n",
            "   [0. 0. 0.]]\n",
            "\n",
            "  [[0. 0. 0.]\n",
            "   [0. 0. 0.]\n",
            "   [0. 0. 0.]\n",
            "   ...\n",
            "   [0. 0. 0.]\n",
            "   [0. 0. 0.]\n",
            "   [0. 0. 0.]]\n",
            "\n",
            "  ...\n",
            "\n",
            "  [[0. 0. 0.]\n",
            "   [0. 0. 0.]\n",
            "   [0. 0. 0.]\n",
            "   ...\n",
            "   [0. 0. 0.]\n",
            "   [0. 0. 0.]\n",
            "   [0. 0. 0.]]\n",
            "\n",
            "  [[0. 0. 0.]\n",
            "   [0. 0. 0.]\n",
            "   [0. 0. 0.]\n",
            "   ...\n",
            "   [0. 0. 0.]\n",
            "   [0. 0. 0.]\n",
            "   [0. 0. 0.]]\n",
            "\n",
            "  [[0. 0. 0.]\n",
            "   [0. 0. 0.]\n",
            "   [0. 0. 0.]\n",
            "   ...\n",
            "   [0. 0. 0.]\n",
            "   [0. 0. 0.]\n",
            "   [0. 0. 0.]]]]\n"
          ]
        }
      ]
    },
    {
      "cell_type": "code",
      "source": [],
      "metadata": {
        "id": "uJSdSZped7iy"
      },
      "execution_count": null,
      "outputs": []
    }
  ],
  "metadata": {
    "colab": {
      "provenance": []
    },
    "kernelspec": {
      "display_name": "Python 3",
      "name": "python3"
    },
    "language_info": {
      "name": "python"
    }
  },
  "nbformat": 4,
  "nbformat_minor": 0
}