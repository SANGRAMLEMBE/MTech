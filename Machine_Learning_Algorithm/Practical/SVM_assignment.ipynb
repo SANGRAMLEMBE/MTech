{
  "nbformat": 4,
  "nbformat_minor": 0,
  "metadata": {
    "colab": {
      "provenance": [],
      "authorship_tag": "ABX9TyMIJAp4WUAVPC7OLVUYo9Cr",
      "include_colab_link": true
    },
    "kernelspec": {
      "name": "python3",
      "display_name": "Python 3"
    },
    "language_info": {
      "name": "python"
    }
  },
  "cells": [
    {
      "cell_type": "markdown",
      "metadata": {
        "id": "view-in-github",
        "colab_type": "text"
      },
      "source": [
        "<a href=\"https://colab.research.google.com/github/SANGRAMLEMBE/MTech/blob/main/Machine_Learning_Algorithm/Practical/SVM_assignment.ipynb\" target=\"_parent\"><img src=\"https://colab.research.google.com/assets/colab-badge.svg\" alt=\"Open In Colab\"/></a>"
      ]
    },
    {
      "cell_type": "markdown",
      "source": [
        "# SVM_assignment\n"
      ],
      "metadata": {
        "id": "ftKkDJuiO23X"
      }
    },
    {
      "cell_type": "code",
      "execution_count": 1,
      "metadata": {
        "id": "R9LMNYolEtgR"
      },
      "outputs": [],
      "source": [
        "import pandas as pd\n",
        "from sklearn.model_selection import train_test_split\n",
        "from sklearn.preprocessing import StandardScaler\n",
        "from sklearn.linear_model import LogisticRegression\n",
        "from sklearn.neighbors import KNeighborsClassifier\n",
        "from sklearn.svm import SVC\n",
        "from sklearn.metrics import accuracy_score, precision_score, recall_score"
      ]
    },
    {
      "cell_type": "markdown",
      "source": [
        "## Step 1: Load the dataset"
      ],
      "metadata": {
        "id": "IeUB6IIsOys9"
      }
    },
    {
      "cell_type": "code",
      "source": [
        "df = pd.read_csv('/content/Diabates_dirty.csv')\n",
        "print(df)"
      ],
      "metadata": {
        "colab": {
          "base_uri": "https://localhost:8080/"
        },
        "id": "czTZQ9dYOhyn",
        "outputId": "ca531db4-2f0e-4f71-f59f-24f6812213b7"
      },
      "execution_count": 2,
      "outputs": [
        {
          "output_type": "stream",
          "name": "stdout",
          "text": [
            "     Age        BMI  Blood_Pressure Cholesterol  Diabetes\n",
            "0   44.0  19.478891              95         250         0\n",
            "1   54.0  28.807859              87         155         0\n",
            "2   60.0  22.253709              83         175         1\n",
            "3   49.0  12.704033              83         213         1\n",
            "4   36.0  25.287065             135         208         1\n",
            "..   ...        ...             ...         ...       ...\n",
            "95  47.0  29.573028             113         163         0\n",
            "96  27.0  14.125587              87         209         0\n",
            "97  60.0  35.160713             119         179         0\n",
            "98  58.0  16.179365             162         184         1\n",
            "99  20.0  32.499443             121         154         1\n",
            "\n",
            "[100 rows x 5 columns]\n"
          ]
        }
      ]
    },
    {
      "cell_type": "markdown",
      "source": [
        "## Step 2: Data Inspection and Preprocessing"
      ],
      "metadata": {
        "id": "vCX1VxHZPORL"
      }
    },
    {
      "cell_type": "code",
      "source": [
        "print(\"Initial Dataset Info:\")\n",
        "df.info()"
      ],
      "metadata": {
        "colab": {
          "base_uri": "https://localhost:8080/"
        },
        "id": "HHT72K1lPKRX",
        "outputId": "fc6a85a2-657a-4d42-b718-c350c0c024e0"
      },
      "execution_count": 3,
      "outputs": [
        {
          "output_type": "stream",
          "name": "stdout",
          "text": [
            "Initial Dataset Info:\n",
            "<class 'pandas.core.frame.DataFrame'>\n",
            "RangeIndex: 100 entries, 0 to 99\n",
            "Data columns (total 5 columns):\n",
            " #   Column          Non-Null Count  Dtype  \n",
            "---  ------          --------------  -----  \n",
            " 0   Age             99 non-null     float64\n",
            " 1   BMI             99 non-null     float64\n",
            " 2   Blood_Pressure  100 non-null    int64  \n",
            " 3   Cholesterol     100 non-null    object \n",
            " 4   Diabetes        100 non-null    int64  \n",
            "dtypes: float64(2), int64(2), object(1)\n",
            "memory usage: 4.0+ KB\n"
          ]
        }
      ]
    },
    {
      "cell_type": "markdown",
      "source": [
        "## Check for missing values"
      ],
      "metadata": {
        "id": "cVLdj_NWPWMs"
      }
    },
    {
      "cell_type": "code",
      "source": [
        "print(\"\\nMissing values before cleaning:\")\n",
        "print(df.isnull().sum())"
      ],
      "metadata": {
        "colab": {
          "base_uri": "https://localhost:8080/"
        },
        "id": "BYYJtFXXPRJZ",
        "outputId": "4032456e-6d98-4051-9c28-7549576a5dec"
      },
      "execution_count": 4,
      "outputs": [
        {
          "output_type": "stream",
          "name": "stdout",
          "text": [
            "\n",
            "Missing values before cleaning:\n",
            "Age               1\n",
            "BMI               1\n",
            "Blood_Pressure    0\n",
            "Cholesterol       0\n",
            "Diabetes          0\n",
            "dtype: int64\n"
          ]
        }
      ]
    },
    {
      "cell_type": "code",
      "source": [
        "print(\"\\n--- Converting non-numeric strings to numbers ---\")\n",
        "\n",
        "for col in df.drop('Diabetes', axis=1).columns:\n",
        "    # Use pd.to_numeric with errors='coerce'.\n",
        "    # This will turn any string that can't be converted into a number into NaN.\n",
        "    df[col] = pd.to_numeric(df[col], errors='coerce')"
      ],
      "metadata": {
        "colab": {
          "base_uri": "https://localhost:8080/"
        },
        "id": "GTcOUbmoPaWw",
        "outputId": "bdee035b-dffb-4bf8-cb7b-6e0cee312a3c"
      },
      "execution_count": 5,
      "outputs": [
        {
          "output_type": "stream",
          "name": "stdout",
          "text": [
            "\n",
            "--- Converting non-numeric strings to numbers ---\n"
          ]
        }
      ]
    },
    {
      "cell_type": "code",
      "source": [
        "# Now, we handle the NaNs that were created and any that were there before\n",
        "print(\"Handling missing values created from string conversion...\")\n",
        "for col in df.columns:\n",
        "    if df[col].isnull().any():\n",
        "        # Fill NaN values with the mean of the column\n",
        "        mean_val = df[col].mean()\n",
        "        df[col] = df[col].fillna(mean_val)\n",
        "        print(f\"Filled missing values in '{col}'.\")"
      ],
      "metadata": {
        "colab": {
          "base_uri": "https://localhost:8080/"
        },
        "id": "eLtbYAvIRnMX",
        "outputId": "907f4219-3e03-4348-9cbc-f3f62a949987"
      },
      "execution_count": 6,
      "outputs": [
        {
          "output_type": "stream",
          "name": "stdout",
          "text": [
            "Handling missing values created from string conversion...\n",
            "Filled missing values in 'Age'.\n",
            "Filled missing values in 'BMI'.\n",
            "Filled missing values in 'Cholesterol'.\n"
          ]
        }
      ]
    },
    {
      "cell_type": "markdown",
      "source": [
        "## Step 2: Define Features (X) and Target (y)"
      ],
      "metadata": {
        "id": "KLLk3o-nUk71"
      }
    },
    {
      "cell_type": "code",
      "source": [
        "\n",
        "X = df.drop('Diabetes', axis=1)\n",
        "y = df['Diabetes']"
      ],
      "metadata": {
        "id": "x1FA2SzqUVRU"
      },
      "execution_count": 7,
      "outputs": []
    },
    {
      "cell_type": "markdown",
      "source": [
        "## Step 3: Split the data into training and testing sets"
      ],
      "metadata": {
        "id": "d1bDmCivUpTh"
      }
    },
    {
      "cell_type": "code",
      "source": [
        "X_train, X_test, y_train, y_test = train_test_split(X, y, test_size=0.2, random_state=42)"
      ],
      "metadata": {
        "id": "q8TOK7BJUwY-"
      },
      "execution_count": 8,
      "outputs": []
    },
    {
      "cell_type": "markdown",
      "source": [
        "## Step 4: Scale the features"
      ],
      "metadata": {
        "id": "arm0orH8U4lH"
      }
    },
    {
      "cell_type": "code",
      "source": [
        "scaler = StandardScaler()\n",
        "X_train_scaled = scaler.fit_transform(X_train)\n",
        "X_test_scaled = scaler.transform(X_test)"
      ],
      "metadata": {
        "id": "R7cLFLwFUyZG"
      },
      "execution_count": 9,
      "outputs": []
    },
    {
      "cell_type": "markdown",
      "source": [
        "## Step 5: Initialize and train the models"
      ],
      "metadata": {
        "id": "AnkTGbOYU9bN"
      }
    },
    {
      "cell_type": "code",
      "source": [
        "# Logistic Regression\n",
        "log_reg = LogisticRegression(random_state=42)\n",
        "log_reg.fit(X_train_scaled, y_train)\n",
        "y_pred_log_reg = log_reg.predict(X_test_scaled)\n"
      ],
      "metadata": {
        "id": "54Pn8muQU7I2"
      },
      "execution_count": 10,
      "outputs": []
    },
    {
      "cell_type": "code",
      "source": [
        "# K-Nearest Neighbors (KNN)\n",
        "knn = KNeighborsClassifier(n_neighbors=5)\n",
        "knn.fit(X_train_scaled, y_train)\n",
        "y_pred_knn = knn.predict(X_test_scaled)"
      ],
      "metadata": {
        "id": "g4bUlzgsVGdk"
      },
      "execution_count": 11,
      "outputs": []
    },
    {
      "cell_type": "code",
      "source": [
        "# Support Vector Machine (SVM)\n",
        "svm = SVC(kernel='linear', random_state=42)\n",
        "svm.fit(X_train_scaled, y_train)\n",
        "y_pred_svm = svm.predict(X_test_scaled)\n"
      ],
      "metadata": {
        "id": "Hap7eqL4VV7t"
      },
      "execution_count": 12,
      "outputs": []
    },
    {
      "cell_type": "markdown",
      "source": [
        "## Step 6: Evaluate the models\n"
      ],
      "metadata": {
        "id": "B68fwX5lVkRZ"
      }
    },
    {
      "cell_type": "code",
      "source": [
        "# Logistic Regression Metrics\n",
        "acc_log_reg = accuracy_score(y_test, y_pred_log_reg)\n",
        "prec_log_reg = precision_score(y_test, y_pred_log_reg)\n",
        "rec_log_reg = recall_score(y_test, y_pred_log_reg)"
      ],
      "metadata": {
        "id": "bkjnaJqeVX_P"
      },
      "execution_count": 13,
      "outputs": []
    },
    {
      "cell_type": "code",
      "source": [
        "# KNN Metrics\n",
        "acc_knn = accuracy_score(y_test, y_pred_knn)\n",
        "prec_knn = precision_score(y_test, y_pred_knn)\n",
        "rec_knn = recall_score(y_test, y_pred_knn)"
      ],
      "metadata": {
        "id": "JYBFayZrVrbY"
      },
      "execution_count": 14,
      "outputs": []
    },
    {
      "cell_type": "code",
      "source": [
        "# SVM Metrics\n",
        "acc_svm = accuracy_score(y_test, y_pred_svm)\n",
        "prec_svm = precision_score(y_test, y_pred_svm)\n",
        "rec_svm = recall_score(y_test, y_pred_svm)"
      ],
      "metadata": {
        "id": "RqRV_uJLVv2P"
      },
      "execution_count": 15,
      "outputs": []
    },
    {
      "cell_type": "markdown",
      "source": [
        "## Step 7: Compare the results"
      ],
      "metadata": {
        "id": "231saTHQV74Q"
      }
    },
    {
      "cell_type": "code",
      "source": [
        "\n",
        "results_df = pd.DataFrame({\n",
        "    'Model': ['Logistic Regression', 'K-Nearest Neighbors (KNN)', 'Support Vector Machine (SVM)'],\n",
        "    'Accuracy': [acc_log_reg, acc_knn, acc_svm],\n",
        "    'Precision': [prec_log_reg, prec_knn, prec_svm],\n",
        "    'Recall': [rec_log_reg, rec_knn, rec_svm]\n",
        "})"
      ],
      "metadata": {
        "id": "tUbn6DNQVyC1"
      },
      "execution_count": 16,
      "outputs": []
    },
    {
      "cell_type": "code",
      "source": [
        "print(results_df)\n"
      ],
      "metadata": {
        "colab": {
          "base_uri": "https://localhost:8080/"
        },
        "id": "H8Z7dOCjWA3k",
        "outputId": "89273e20-18fe-45e9-f6ac-1f50da9b86d1"
      },
      "execution_count": 17,
      "outputs": [
        {
          "output_type": "stream",
          "name": "stdout",
          "text": [
            "                          Model  Accuracy  Precision    Recall\n",
            "0           Logistic Regression      0.45      0.500  0.272727\n",
            "1     K-Nearest Neighbors (KNN)      0.55      0.625  0.454545\n",
            "2  Support Vector Machine (SVM)      0.45      0.500  0.272727\n"
          ]
        }
      ]
    },
    {
      "cell_type": "code",
      "source": [],
      "metadata": {
        "id": "u26I46NpWEEY"
      },
      "execution_count": 17,
      "outputs": []
    }
  ]
}