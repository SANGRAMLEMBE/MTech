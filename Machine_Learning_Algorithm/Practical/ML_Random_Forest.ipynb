{
  "nbformat": 4,
  "nbformat_minor": 0,
  "metadata": {
    "colab": {
      "provenance": [],
      "gpuType": "T4"
    },
    "kernelspec": {
      "name": "python3",
      "display_name": "Python 3"
    },
    "language_info": {
      "name": "python"
    },
    "accelerator": "GPU"
  },
  "cells": [
    {
      "cell_type": "code",
      "execution_count": 15,
      "metadata": {
        "id": "e0luIF5xW8S0"
      },
      "outputs": [],
      "source": [
        "import os\n",
        "import pandas as pd\n",
        "import numpy as np\n",
        "\n",
        "# Visualization\n",
        "import matplotlib.pyplot as plt\n",
        "from sklearn.metrics import (\n",
        "    accuracy_score, precision_recall_fscore_support,\n",
        "    classification_report, confusion_matrix, roc_curve, auc, RocCurveDisplay\n",
        ")\n",
        "\n",
        "# Modeling\n",
        "from sklearn.model_selection import train_test_split, cross_val_score, StratifiedKFold\n",
        "from sklearn.ensemble import RandomForestClassifier\n",
        "from sklearn.compose import ColumnTransformer\n",
        "from sklearn.pipeline import Pipeline\n",
        "from sklearn.impute import SimpleImputer\n",
        "from sklearn.preprocessing import OneHotEncoder, StandardScaler\n",
        "from sklearn.utils.multiclass import type_of_target\n",
        "from joblib import dump"
      ]
    },
    {
      "cell_type": "code",
      "source": [
        "# -----------------------------\n",
        "# 1) CONFIG\n",
        "# -----------------------------\n",
        "csv_path   = \"/content/RandomForest_dataset.xlsx\"     # your file\n",
        "target_col = \"Approved\"                     # change if your target differs\n",
        "model_out  = \"rf_model.joblib\""
      ],
      "metadata": {
        "id": "rsuaavymYcQt"
      },
      "execution_count": 16,
      "outputs": []
    },
    {
      "cell_type": "code",
      "source": [
        "# -----------------------------\n",
        "# 2) LOAD DATA\n",
        "# -----------------------------\n",
        "df = pd.read_excel(csv_path)\n",
        "\n",
        "print(\"Shape:\", df.shape)\n",
        "print(\"\\nColumns:\", list(df.columns))\n",
        "print(\"\\nHead:\\n\", df.head())\n",
        "\n",
        "if target_col not in df.columns:\n",
        "    raise ValueError(f\"Target column '{target_col}' not found. Please set target_col correctly.\")\n"
      ],
      "metadata": {
        "colab": {
          "base_uri": "https://localhost:8080/"
        },
        "id": "8EXhHD8WYsb8",
        "outputId": "a35a69b2-87f5-4c85-9632-7639f12ce682"
      },
      "execution_count": 17,
      "outputs": [
        {
          "output_type": "stream",
          "name": "stdout",
          "text": [
            "Shape: (20, 7)\n",
            "\n",
            "Columns: ['Income', 'CreditScore', 'Age', 'EmploymentYears', 'DebtToIncome', 'HasDefault', 'Approved']\n",
            "\n",
            "Head:\n",
            "    Income  CreditScore  Age  EmploymentYears  DebtToIncome  HasDefault  \\\n",
            "0   32000          580   24                1          0.45           0   \n",
            "1   45000          610   27                2          0.38           0   \n",
            "2   52000          640   29                3          0.33           0   \n",
            "3   61000          680   31                4          0.30           0   \n",
            "4   72000          720   35                6          0.28           0   \n",
            "\n",
            "   Approved  \n",
            "0         0  \n",
            "1         0  \n",
            "2         1  \n",
            "3         1  \n",
            "4         1  \n"
          ]
        }
      ]
    },
    {
      "cell_type": "code",
      "source": [
        "# -----------------------------\n",
        "# 3) BASIC CLEANING\n",
        "# -----------------------------\n",
        "# Drop fully duplicate rows (optional)\n",
        "df = df.drop_duplicates().reset_index(drop=True)\n",
        "\n",
        "# Split features/target\n",
        "y = df[target_col]\n",
        "X = df.drop(columns=[target_col])\n",
        "\n",
        "# Detect problem type\n",
        "t_type = type_of_target(y)\n",
        "print(\"\\nDetected target type:\", t_type)\n",
        "if t_type not in [\"binary\", \"multiclass\"]:\n",
        "    raise ValueError(\"This script is for classification (binary/multiclass). Target must be categorical (0/1, etc.).\")\n",
        "\n",
        "# Identify numeric vs categorical columns\n",
        "numeric_cols = X.select_dtypes(include=[np.number]).columns.tolist()\n",
        "categorical_cols = [c for c in X.columns if c not in numeric_cols]\n",
        "\n",
        "print(\"\\nNumeric columns:\", numeric_cols)\n",
        "print(\"Categorical columns:\", categorical_cols if categorical_cols else \"(none)\")"
      ],
      "metadata": {
        "colab": {
          "base_uri": "https://localhost:8080/"
        },
        "id": "INSPXvHXZE0H",
        "outputId": "bc84f8da-4053-4f44-80e3-93e57157f75c"
      },
      "execution_count": 18,
      "outputs": [
        {
          "output_type": "stream",
          "name": "stdout",
          "text": [
            "\n",
            "Detected target type: binary\n",
            "\n",
            "Numeric columns: ['Income', 'CreditScore', 'Age', 'EmploymentYears', 'DebtToIncome', 'HasDefault']\n",
            "Categorical columns: (none)\n"
          ]
        }
      ]
    },
    {
      "cell_type": "code",
      "source": [
        "# -----------------------------\n",
        "# 4) PREPROCESSORS\n",
        "# -----------------------------\n",
        "numeric_preprocessor = Pipeline(steps=[\n",
        "    (\"imputer\", SimpleImputer(strategy=\"median\")),\n",
        "    # RF doesn't require scaling, but if ranges vary a lot, scaling is ok:\n",
        "    # (\"scaler\", StandardScaler())\n",
        "])\n",
        "\n",
        "categorical_preprocessor = Pipeline(steps=[\n",
        "    (\"imputer\", SimpleImputer(strategy=\"most_frequent\")),\n",
        "    (\"onehot\", OneHotEncoder(handle_unknown=\"ignore\", sparse_output=False))\n",
        "])\n",
        "\n",
        "preprocessor = ColumnTransformer(\n",
        "    transformers=[\n",
        "        (\"num\", numeric_preprocessor, numeric_cols),\n",
        "        (\"cat\", categorical_preprocessor, categorical_cols)\n",
        "    ],\n",
        "    remainder=\"drop\"\n",
        ")\n"
      ],
      "metadata": {
        "id": "uFxDRqB8ZMd9"
      },
      "execution_count": 19,
      "outputs": []
    },
    {
      "cell_type": "code",
      "source": [
        "# -----------------------------\n",
        "# 5) SPLIT\n",
        "# -----------------------------\n",
        "X_train, X_test, y_train, y_test = train_test_split(\n",
        "    X, y,\n",
        "    test_size=0.25,\n",
        "    random_state=42,\n",
        "    stratify=y\n",
        ")\n",
        "\n"
      ],
      "metadata": {
        "id": "nqCBsMgeZUB9"
      },
      "execution_count": 20,
      "outputs": []
    },
    {
      "cell_type": "code",
      "source": [
        "# -----------------------------\n",
        "# 6) PIPELINE: PREPROCESS + RF\n",
        "# -----------------------------\n",
        "rf = RandomForestClassifier(\n",
        "    n_estimators=400,\n",
        "    max_depth=None,\n",
        "    min_samples_leaf=2,\n",
        "    max_features=\"sqrt\",\n",
        "    class_weight=None,     # set to \"balanced\" if your dataset is imbalanced\n",
        "    random_state=42,\n",
        "    n_jobs=-1,\n",
        "    oob_score=False        # OOB needs bootstrap=True and no CV; we do test split + optional CV\n",
        ")\n",
        "\n",
        "model = Pipeline(steps=[\n",
        "    (\"preprocess\", preprocessor),\n",
        "    (\"rf\", rf)\n",
        "])"
      ],
      "metadata": {
        "id": "Dj2Y7P4yZbS9"
      },
      "execution_count": 21,
      "outputs": []
    },
    {
      "cell_type": "code",
      "source": [
        "\n",
        "# -----------------------------\n",
        "# 7) TRAIN\n",
        "# -----------------------------\n",
        "model.fit(X_train, y_train)\n",
        "\n",
        "# -----------------------------\n",
        "# 8) EVALUATE\n",
        "# -----------------------------\n",
        "pred = model.predict(X_test)\n",
        "print(\"\\n=== Classification Report (Test) ===\")\n",
        "print(classification_report(y_test, pred, digits=3))\n",
        "\n",
        "acc = accuracy_score(y_test, pred)\n",
        "prec, rec, f1, _ = precision_recall_fscore_support(y_test, pred, average=\"binary\" if t_type==\"binary\" else \"weighted\")\n",
        "\n",
        "print(f\"Accuracy:  {acc:.3f}\")\n",
        "print(f\"Precision: {prec:.3f}\")\n",
        "print(f\"Recall:    {rec:.3f}\")\n",
        "print(f\"F1-score:  {f1:.3f}\")\n",
        "\n",
        "# Confusion matrix\n",
        "cm = confusion_matrix(y_test, pred)\n",
        "print(\"\\nConfusion Matrix:\\n\", cm)\n",
        "\n",
        "fig, ax = plt.subplots()\n",
        "im = ax.imshow(cm, cmap=\"Blues\")\n",
        "ax.set_title(\"Confusion Matrix\")\n",
        "ax.set_xlabel(\"Predicted\")\n",
        "ax.set_ylabel(\"True\")\n",
        "for (i, j), v in np.ndenumerate(cm):\n",
        "    ax.text(j, i, str(v), ha=\"center\", va=\"center\")\n",
        "plt.show()\n",
        "\n",
        "# ROC curve (binary only)\n",
        "if t_type == \"binary\":\n",
        "    # get positive class probability (after pipeline)\n",
        "    if hasattr(model.named_steps[\"rf\"], \"predict_proba\"):\n",
        "        proba = model.predict_proba(X_test)[:, 1]\n",
        "        fpr, tpr, _ = roc_curve(y_test, proba)\n",
        "        roc_auc = auc(fpr, tpr)\n",
        "        print(f\"\\nROC-AUC: {roc_auc:.3f}\")\n",
        "\n",
        "        RocCurveDisplay(fpr=fpr, tpr=tpr, roc_auc=roc_auc).plot()\n",
        "        plt.show()"
      ],
      "metadata": {
        "colab": {
          "base_uri": "https://localhost:8080/",
          "height": 1000
        },
        "id": "EckVmgvkZhsV",
        "outputId": "621ac4c3-028b-4ee3-e8c6-b58113a008bf"
      },
      "execution_count": 22,
      "outputs": [
        {
          "output_type": "stream",
          "name": "stdout",
          "text": [
            "\n",
            "=== Classification Report (Test) ===\n",
            "              precision    recall  f1-score   support\n",
            "\n",
            "           0      1.000     1.000     1.000         2\n",
            "           1      1.000     1.000     1.000         3\n",
            "\n",
            "    accuracy                          1.000         5\n",
            "   macro avg      1.000     1.000     1.000         5\n",
            "weighted avg      1.000     1.000     1.000         5\n",
            "\n",
            "Accuracy:  1.000\n",
            "Precision: 1.000\n",
            "Recall:    1.000\n",
            "F1-score:  1.000\n",
            "\n",
            "Confusion Matrix:\n",
            " [[2 0]\n",
            " [0 3]]\n"
          ]
        },
        {
          "output_type": "display_data",
          "data": {
            "text/plain": [
              "<Figure size 640x480 with 1 Axes>"
            ],
            "image/png": "[encoded data removed]"
          },
          "metadata": {}
        },
        {
          "output_type": "stream",
          "name": "stdout",
          "text": [
            "\n",
            "ROC-AUC: 1.000\n"
          ]
        },
        {
          "output_type": "display_data",
          "data": {
            "text/plain": [
              "<Figure size 640x480 with 1 Axes>"
            ],
            "image/png": "[encoded data removed]"
          },
          "metadata": {}
        }
      ]
    },
    {
      "cell_type": "code",
      "source": [
        "# -----------------------------\n",
        "# 9) FEATURE IMPORTANCE\n",
        "# -----------------------------\n",
        "# Get feature names after preprocessing to map importances\n",
        "def get_feature_names(preprocessor, numeric_cols, categorical_cols):\n",
        "    names = []\n",
        "    # numeric\n",
        "    names.extend(numeric_cols)\n",
        "    # categorical (after one-hot)\n",
        "    if categorical_cols:\n",
        "        ohe = preprocessor.named_transformers_[\"cat\"].named_steps[\"onehot\"]\n",
        "        cat_names = ohe.get_feature_names_out(categorical_cols).tolist()\n",
        "        names.extend(cat_names)\n",
        "    return names\n",
        "\n",
        "# Extract trained RF and feature importances\n",
        "rf_model = model.named_steps[\"rf\"]\n",
        "feat_names = get_feature_names(model.named_steps[\"preprocess\"], numeric_cols, categorical_cols)\n",
        "importances = rf_model.feature_importances_\n",
        "\n",
        "# Combine & sort\n",
        "fi = pd.Series(importances, index=feat_names).sort_values(ascending=False)\n",
        "print(\"\\n=== Top Feature Importances ===\")\n",
        "print(fi.head(20))\n",
        "\n",
        "# Plot\n",
        "fi.head(20).plot(kind=\"barh\", figsize=(8,6))\n",
        "plt.gca().invert_yaxis()\n",
        "plt.title(\"Top Feature Importances (Random Forest)\")\n",
        "plt.tight_layout()\n",
        "plt.show()\n"
      ],
      "metadata": {
        "colab": {
          "base_uri": "https://localhost:8080/",
          "height": 771
        },
        "id": "KIX42LN8Z2Bk",
        "outputId": "279b11ad-d3fe-472d-a132-0c477fdee2f5"
      },
      "execution_count": 23,
      "outputs": [
        {
          "output_type": "stream",
          "name": "stdout",
          "text": [
            "\n",
            "=== Top Feature Importances ===\n",
            "DebtToIncome       0.243724\n",
            "CreditScore        0.234589\n",
            "Income             0.215167\n",
            "EmploymentYears    0.152783\n",
            "Age                0.151236\n",
            "HasDefault         0.002500\n",
            "dtype: float64\n"
          ]
        },
        {
          "output_type": "display_data",
          "data": {
            "text/plain": [
              "<Figure size 800x600 with 1 Axes>"
            ],
            "image/png": "[encoded data removed]"
          },
          "metadata": {}
        }
      ]
    },
    {
      "cell_type": "code",
      "source": [
        "# -----------------------------\n",
        "# 10) OPTIONAL: CROSS-VALIDATION SCORE\n",
        "# -----------------------------\n",
        "cv = StratifiedKFold(n_splits=5, shuffle=True, random_state=42)\n",
        "cv_scores = cross_val_score(model, X, y, cv=cv, scoring=\"accuracy\", n_jobs=-1)\n",
        "print(\"\\nCV Accuracy (5-fold): mean = %.3f, std = %.3f, scores = %s\" % (cv_scores.mean(), cv_scores.std(), np.round(cv_scores, 3)))"
      ],
      "metadata": {
        "colab": {
          "base_uri": "https://localhost:8080/"
        },
        "id": "fCcUheHHZ-rk",
        "outputId": "195070e2-79c2-48a3-b67f-de9cec6f71eb"
      },
      "execution_count": 24,
      "outputs": [
        {
          "output_type": "stream",
          "name": "stdout",
          "text": [
            "\n",
            "CV Accuracy (5-fold): mean = 0.950, std = 0.100, scores = [0.75 1.   1.   1.   1.  ]\n"
          ]
        }
      ]
    },
    {
      "cell_type": "code",
      "source": [
        "# -----------------------------\n",
        "# 11) SAVE MODEL\n",
        "# -----------------------------\n",
        "dump(model, model_out)\n",
        "print(f\"\\nSaved trained model to: {model_out}\")\n"
      ],
      "metadata": {
        "colab": {
          "base_uri": "https://localhost:8080/"
        },
        "id": "DWS6nDOkaBjF",
        "outputId": "11c5b0bf-98e6-4c23-f68d-c1d54e7c3678"
      },
      "execution_count": 25,
      "outputs": [
        {
          "output_type": "stream",
          "name": "stdout",
          "text": [
            "\n",
            "Saved trained model to: rf_model.joblib\n"
          ]
        }
      ]
    },
    {
      "cell_type": "code",
      "source": [
        "!pip jupyter nbconvert --to html\"\""
      ],
      "metadata": {
        "colab": {
          "base_uri": "https://localhost:8080/"
        },
        "id": "cnoVUt8habbU",
        "outputId": "c6158ac6-89d3-41db-fad3-8cfa347e8ea5"
      },
      "execution_count": 26,
      "outputs": [
        {
          "output_type": "stream",
          "name": "stdout",
          "text": [
            "ERROR: unknown command \"jupyter\"\n"
          ]
        }
      ]
    }
  ]
}