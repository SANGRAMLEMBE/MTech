{
  "nbformat": 4,
  "nbformat_minor": 0,
  "metadata": {
    "colab": {
      "provenance": [],
      "authorship_tag": "ABX9TyOkxaosYApwzE741mB7iHI4",
      "include_colab_link": true
    },
    "kernelspec": {
      "name": "python3",
      "display_name": "Python 3"
    },
    "language_info": {
      "name": "python"
    }
  },
  "cells": [
    {
      "cell_type": "markdown",
      "metadata": {
        "id": "view-in-github",
        "colab_type": "text"
      },
      "source": [
        "<a href=\"https://colab.research.google.com/github/SANGRAMLEMBE/MTech/blob/main/Applied_Data_Science/Practical/sangram_ADS_Lab_5_and_6_ipynb.ipynb\" target=\"_parent\"><img src=\"https://colab.research.google.com/assets/colab-badge.svg\" alt=\"Open In Colab\"/></a>"
      ]
    },
    {
      "cell_type": "markdown",
      "source": [
        "### **Question 1: Text Files - Read, Transform, Write**\n",
        "\n",
        "This program reads names from `names.txt`, reformats them from \"First Last\" to \"Last, First\", sorts them, and saves the result to `names_sorted.txt`."
      ],
      "metadata": {
        "id": "wkTXFKBCbzBg"
      }
    },
    {
      "cell_type": "code",
      "execution_count": 2,
      "metadata": {
        "colab": {
          "base_uri": "https://localhost:8080/"
        },
        "id": "AJqSyrYGWBlK",
        "outputId": "08461621-25df-4b4b-a653-5045b64cfcec"
      },
      "outputs": [
        {
          "output_type": "stream",
          "name": "stdout",
          "text": [
            " Sample input file 'names.txt' created.\n",
            " Output file 'names_sorted.txt' created.\n",
            "\n",
            " Sample Input (names.txt):\n",
            "Bob Smith\n",
            "Charlie Brown\n",
            "Diana Prince\n",
            "Eve Holt\n",
            "Alice Johnson\n",
            "\n",
            " Sample Output (names_sorted.txt):\n",
            "Brown, Charlie\n",
            "Holt, Eve\n",
            "Johnson, Alice\n",
            "Prince, Diana\n",
            "Smith, Bob\n",
            "\n"
          ]
        }
      ],
      "source": [
        "# Let's create a file with sample names\n",
        "with open(\"names.txt\", \"w\") as file:\n",
        "    file.write(\"Bob Smith\\n\")\n",
        "    file.write(\"Charlie Brown\\n\")\n",
        "    file.write(\"Diana Prince\\n\")\n",
        "    file.write(\"Eve Holt\\n\")\n",
        "    file.write(\"Alice Johnson\\n\")\n",
        "print(\" Sample input file 'names.txt' created.\")\n",
        "# Step 1: Read names from file\n",
        "with open(\"names.txt\", \"r\") as file:\n",
        "    names = file.readlines()\n",
        "# Step 2: Convert to \"Last, First\"\n",
        "converted_names = []\n",
        "for name in names:\n",
        "    parts = name.strip().split()\n",
        "    if len(parts) >= 2:\n",
        "        first = \" \".join(parts[:-1])  # first and middle names\n",
        "        last = parts[-1]              # last name\n",
        "        converted_names.append(f\"{last}, {first}\")\n",
        "# Step 3: Sort alphabetically by last name\n",
        "sorted_names = sorted(converted_names, key=lambda x: x.split(\",\")[0])\n",
        "# Step 4: Write result to output file\n",
        "with open(\"names_sorted.txt\", \"w\") as file:\n",
        "    for name in sorted_names:\n",
        "        file.write(name + \"\\n\")\n",
        "print(\" Output file 'names_sorted.txt' created.\")\n",
        "print(\"\\n Sample Input (names.txt):\")\n",
        "with open(\"names.txt\", \"r\") as file:\n",
        "    print(file.read())\n",
        "print(\" Sample Output (names_sorted.txt):\")\n",
        "with open(\"names_sorted.txt\", \"r\") as file:\n",
        "    print(file.read())"
      ]
    },
    {
      "cell_type": "markdown",
      "source": [
        "### **Question 2: JSON - Read, Modify, Write**\n",
        "\n",
        "This program reads a list of employees from a JSON file, gives each a 10% salary raise, adds a new employee, and saves the changes to a new JSON file."
      ],
      "metadata": {
        "id": "c5TjAA2ZcBRY"
      }
    },
    {
      "cell_type": "code",
      "source": [
        "import json\n",
        "\n",
        "# Function: Create sample input file\n",
        "def create_sample_input(filename):\n",
        "    employees = [\n",
        "        {\"id\": 1, \"name\": \"Alice Johnson\", \"salary\": 50000},\n",
        "        {\"id\": 2, \"name\": \"Bob Smith\", \"salary\": 60000},\n",
        "        {\"id\": 3, \"name\": \"Charlie Brown\", \"salary\": 55000}\n",
        "    ]\n",
        "    with open(filename, \"w\") as file:\n",
        "        json.dump(employees, file, indent=4)\n",
        "    print(f\" Sample input file '{filename}' created.\")\n",
        "\n",
        "# Function: Apply salary raise\n",
        "def apply_raise(data, percent):\n",
        "    for emp in data:\n",
        "        emp[\"salary\"] = round(emp[\"salary\"] * (1 + percent / 100), 2)\n",
        "\n",
        "# Function: Add new employee\n",
        "def add_employee(data, new_emp):\n",
        "    data.append(new_emp)\n",
        "\n",
        "# Function: Write updated data to file\n",
        "def write_output(filename, data):\n",
        "    with open(filename, \"w\") as file:\n",
        "        json.dump(data, file, indent=4)\n",
        "    print(f\" Output file '{filename}' created.\")\n",
        "\n",
        "# Function: Display file contents\n",
        "def display_file(title, filename):\n",
        "    print(f\"\\n {title} ({filename}):\")\n",
        "    with open(filename, \"r\") as file:\n",
        "        print(file.read())\n",
        "\n",
        "# Main Execution\n",
        "input_file = \"employees.json\"\n",
        "output_file = \"employees_updated.json\"\n",
        "\n",
        "create_sample_input(input_file)\n",
        "\n",
        "# Step 1: Read input\n",
        "with open(input_file, \"r\") as file:\n",
        "    employees_data = json.load(file)\n",
        "\n",
        "# Step 2: Modify data\n",
        "apply_raise(employees_data, 10)\n",
        "\n",
        "# Step 3: Add new employee\n",
        "new_employee = {\"id\": 4, \"name\": \"Diana Prince\", \"salary\": 70000}\n",
        "add_employee(employees_data, new_employee)\n",
        "\n",
        "# Step 4: Write output\n",
        "write_output(output_file, employees_data)\n",
        "\n",
        "# Step 5: Display results\n",
        "display_file(\"Sample Input\", input_file)\n",
        "display_file(\"Sample Output\", output_file)"
      ],
      "metadata": {
        "colab": {
          "base_uri": "https://localhost:8080/"
        },
        "id": "cGvhsN7gWCIo",
        "outputId": "faec252d-f20a-4a98-eb85-bbea8bb56d27"
      },
      "execution_count": 4,
      "outputs": [
        {
          "output_type": "stream",
          "name": "stdout",
          "text": [
            " Sample input file 'employees.json' created.\n",
            " Output file 'employees_updated.json' created.\n",
            "\n",
            " Sample Input (employees.json):\n",
            "[\n",
            "    {\n",
            "        \"id\": 1,\n",
            "        \"name\": \"Alice Johnson\",\n",
            "        \"salary\": 50000\n",
            "    },\n",
            "    {\n",
            "        \"id\": 2,\n",
            "        \"name\": \"Bob Smith\",\n",
            "        \"salary\": 60000\n",
            "    },\n",
            "    {\n",
            "        \"id\": 3,\n",
            "        \"name\": \"Charlie Brown\",\n",
            "        \"salary\": 55000\n",
            "    }\n",
            "]\n",
            "\n",
            " Sample Output (employees_updated.json):\n",
            "[\n",
            "    {\n",
            "        \"id\": 1,\n",
            "        \"name\": \"Alice Johnson\",\n",
            "        \"salary\": 55000.0\n",
            "    },\n",
            "    {\n",
            "        \"id\": 2,\n",
            "        \"name\": \"Bob Smith\",\n",
            "        \"salary\": 66000.0\n",
            "    },\n",
            "    {\n",
            "        \"id\": 3,\n",
            "        \"name\": \"Charlie Brown\",\n",
            "        \"salary\": 60500.0\n",
            "    },\n",
            "    {\n",
            "        \"id\": 4,\n",
            "        \"name\": \"Diana Prince\",\n",
            "        \"salary\": 70000\n",
            "    }\n",
            "]\n"
          ]
        }
      ]
    },
    {
      "cell_type": "markdown",
      "source": [
        "### **Question 3: HTML Parsing with BeautifulSoup**\n",
        "\n",
        "This program uses the BeautifulSoup library to parse a local HTML file. It extracts all hyperlink `href` values and the text from paragraph tags located inside a specific `div` element."
      ],
      "metadata": {
        "id": "uc_Djz8Hcuty"
      }
    },
    {
      "cell_type": "code",
      "source": [
        "html_content = \"\"\"<!doctype html>\n",
        "<html>\n",
        "<head><title>Demo Page</title></head>\n",
        "<body>\n",
        "<header><h1>Site Header</h1></header>\n",
        "<div id=\"main\">\n",
        "<p>Welcome to the demo page. Find resources below.</p>\n",
        "<p>We hope you learn web parsing!</p>\n",
        "<a href=\"/about\">About</a>\n",
        "<a href=\"https://example.com/docs\">Docs</a>\n",
        "<a>no-href-anchor</a>\n",
        "</div>\n",
        "<footer>Contact us</footer>\n",
        "</body>\n",
        "</html>\"\"\"\n",
        "with open(\"sample.html\", \"w\", encoding=\"utf-8\") as file:\n",
        "    file.write(html_content)\n",
        "print(\" sample.html created.\")"
      ],
      "metadata": {
        "colab": {
          "base_uri": "https://localhost:8080/"
        },
        "id": "XuF37_LEcEW8",
        "outputId": "496d3989-86bd-4e40-ff98-68878c8e3689"
      },
      "execution_count": 6,
      "outputs": [
        {
          "output_type": "stream",
          "name": "stdout",
          "text": [
            " sample.html created.\n"
          ]
        }
      ]
    },
    {
      "cell_type": "code",
      "source": [],
      "metadata": {
        "id": "C0cAHpOPctKL"
      },
      "execution_count": null,
      "outputs": []
    }
  ]
}