{
  "nbformat": 4,
  "nbformat_minor": 0,
  "metadata": {
    "colab": {
      "provenance": [],
      "collapsed_sections": [
        "GOmIvQh1nC-9",
        "bFzHBt8Srr5r",
        "YJo1GqJr2aRm",
        "bNP93dKtMKEz",
        "qL0KNb5fMb_j"
      ],
      "authorship_tag": "ABX9TyMvN1k6ib4KGndOz4fhi3rD",
      "include_colab_link": true
    },
    "kernelspec": {
      "name": "python3",
      "display_name": "Python 3"
    },
    "language_info": {
      "name": "python"
    }
  },
  "cells": [
    {
      "cell_type": "markdown",
      "metadata": {
        "id": "view-in-github",
        "colab_type": "text"
      },
      "source": [
        "<a href=\"https://colab.research.google.com/github/SANGRAMLEMBE/MTech/blob/main/Applied_Data_Science/Practical/ADS_Lab2_Numpy_Array_and_pandas.ipynb\" target=\"_parent\"><img src=\"https://colab.research.google.com/assets/colab-badge.svg\" alt=\"Open In Colab\"/></a>"
      ]
    },
    {
      "cell_type": "markdown",
      "source": [
        "# ADS_Lab_2_Numpy_array"
      ],
      "metadata": {
        "id": "Cw9WRWs6mjvf"
      }
    },
    {
      "cell_type": "code",
      "source": [
        "import numpy as np\n"
      ],
      "metadata": {
        "id": "S5A3cP8QnHjI"
      },
      "execution_count": null,
      "outputs": []
    },
    {
      "cell_type": "markdown",
      "source": [
        "## 1.Creating Arrays\n",
        "\n",
        "Create the following arrays:\n",
        "- A 1D array: [2, 4, 6, 8, 10]\n",
        "- A 2D array:\n",
        "[[1, 2, 3],\n",
        "[4, 5, 6]]\n",
        "- A 3D array:\n",
        "[[[1,2], [3,4]],\n",
        "[[5,6], [7,8]]]"
      ],
      "metadata": {
        "id": "GOmIvQh1nC-9"
      }
    },
    {
      "cell_type": "code",
      "source": [
        "array_1D = np.array([2,4,6,8,10])    # 1D array\n",
        "array_1D"
      ],
      "metadata": {
        "colab": {
          "base_uri": "https://localhost:8080/"
        },
        "id": "jUPzrEHYnCa9",
        "outputId": "1b121aad-e4bc-44b2-f8b7-62f63fe68f6f"
      },
      "execution_count": null,
      "outputs": [
        {
          "output_type": "execute_result",
          "data": {
            "text/plain": [
              "array([ 2,  4,  6,  8, 10])"
            ]
          },
          "metadata": {},
          "execution_count": 3
        }
      ]
    },
    {
      "cell_type": "code",
      "source": [
        "array_2D = np.array([[1,2,3],[4,5,6]])  # 2D array\n",
        "array_2D\n"
      ],
      "metadata": {
        "colab": {
          "base_uri": "https://localhost:8080/"
        },
        "id": "QnvsJptqnACD",
        "outputId": "80f2ca6c-8389-4e06-9235-126011b7629d"
      },
      "execution_count": null,
      "outputs": [
        {
          "output_type": "execute_result",
          "data": {
            "text/plain": [
              "array([[1, 2, 3],\n",
              "       [4, 5, 6]])"
            ]
          },
          "metadata": {},
          "execution_count": 4
        }
      ]
    },
    {
      "cell_type": "code",
      "source": [
        "array_2D.shape  # shape of 2D array"
      ],
      "metadata": {
        "colab": {
          "base_uri": "https://localhost:8080/"
        },
        "id": "d15_aGT6oiXm",
        "outputId": "761ccab9-367b-40ae-9ab0-83c40abcc8f1"
      },
      "execution_count": null,
      "outputs": [
        {
          "output_type": "execute_result",
          "data": {
            "text/plain": [
              "(2, 3)"
            ]
          },
          "metadata": {},
          "execution_count": 5
        }
      ]
    },
    {
      "cell_type": "code",
      "execution_count": null,
      "metadata": {
        "colab": {
          "base_uri": "https://localhost:8080/"
        },
        "id": "FTtjSCDGkEx5",
        "outputId": "4f0ea992-50b6-4d91-cf51-25f922dd6198"
      },
      "outputs": [
        {
          "output_type": "execute_result",
          "data": {
            "text/plain": [
              "array([[[1, 2],\n",
              "        [3, 4]],\n",
              "\n",
              "       [[5, 6],\n",
              "        [7, 8]]])"
            ]
          },
          "metadata": {},
          "execution_count": 6
        }
      ],
      "source": [
        "array_3D = np.array([[[1,2],[3,4]],[[5,6],[7,8]]])   # 3D array\n",
        "array_3D"
      ]
    },
    {
      "cell_type": "code",
      "source": [
        "array_3D.shape  # shape of 3D array"
      ],
      "metadata": {
        "colab": {
          "base_uri": "https://localhost:8080/"
        },
        "id": "kp6W0P2VoUdT",
        "outputId": "f8e296be-5b91-4564-bb7b-520ac12fd29a"
      },
      "execution_count": null,
      "outputs": [
        {
          "output_type": "execute_result",
          "data": {
            "text/plain": [
              "(2, 2, 2)"
            ]
          },
          "metadata": {},
          "execution_count": 7
        }
      ]
    },
    {
      "cell_type": "markdown",
      "source": [
        "### Generate:\n",
        "- An array of 10 zeros\n",
        "- An array of 5 ones\n",
        "- Numbers from 5 to 25 with a step of 5\n",
        "- 6 equally spaced values between 0 and 1"
      ],
      "metadata": {
        "id": "mdNJ7O3qoxAE"
      }
    },
    {
      "cell_type": "code",
      "source": [
        "array_zeros = np.zeros(10)    #array of 10 zeros\n",
        "array_zeros"
      ],
      "metadata": {
        "colab": {
          "base_uri": "https://localhost:8080/"
        },
        "id": "zs4UnNIHowtM",
        "outputId": "d469b541-48ae-41ff-b14a-d3f873b61340"
      },
      "execution_count": null,
      "outputs": [
        {
          "output_type": "execute_result",
          "data": {
            "text/plain": [
              "array([0., 0., 0., 0., 0., 0., 0., 0., 0., 0.])"
            ]
          },
          "metadata": {},
          "execution_count": 8
        }
      ]
    },
    {
      "cell_type": "code",
      "source": [
        "array_ones = np.ones(5)    # array of 5 ones\n",
        "array_ones"
      ],
      "metadata": {
        "colab": {
          "base_uri": "https://localhost:8080/"
        },
        "id": "8LL9Evz3od6v",
        "outputId": "1e6668ee-80a4-4b3e-ce61-5767ac70b604"
      },
      "execution_count": null,
      "outputs": [
        {
          "output_type": "execute_result",
          "data": {
            "text/plain": [
              "array([1., 1., 1., 1., 1.])"
            ]
          },
          "metadata": {},
          "execution_count": 9
        }
      ]
    },
    {
      "cell_type": "code",
      "source": [
        "number = np.arange(5,26,5)  #Numbers from 5 to 25 with a step of 5\n",
        "number"
      ],
      "metadata": {
        "colab": {
          "base_uri": "https://localhost:8080/"
        },
        "id": "DoI9pKYgp-tp",
        "outputId": "4d21f9d8-c004-4120-90ea-eb9905ec38c6"
      },
      "execution_count": null,
      "outputs": [
        {
          "output_type": "execute_result",
          "data": {
            "text/plain": [
              "array([ 5, 10, 15, 20, 25])"
            ]
          },
          "metadata": {},
          "execution_count": 10
        }
      ]
    },
    {
      "cell_type": "code",
      "source": [
        "equallyPaces = np.linspace(0,1,6)  # 6 equally spaced values between 0 and 1\n",
        "equallyPaces"
      ],
      "metadata": {
        "colab": {
          "base_uri": "https://localhost:8080/"
        },
        "id": "trnwc3AcqtTV",
        "outputId": "c19ec2a1-6f94-4f3e-e5d2-fe55d2a42a14"
      },
      "execution_count": null,
      "outputs": [
        {
          "output_type": "execute_result",
          "data": {
            "text/plain": [
              "array([0. , 0.2, 0.4, 0.6, 0.8, 1. ])"
            ]
          },
          "metadata": {},
          "execution_count": 11
        }
      ]
    },
    {
      "cell_type": "markdown",
      "source": [
        "## 2.Array Join, Split, Search, Sort\n",
        "\n",
        "- Given a = [10, 20, 30] and b = [40, 50, 60]:\n",
        "\n",
        "1. Join them into a single array.\n",
        "\n",
        "2. Split the resulting array into 3 equal parts.\n",
        "\n"
      ],
      "metadata": {
        "id": "bFzHBt8Srr5r"
      }
    },
    {
      "cell_type": "code",
      "source": [
        "a = np.array([10,20,30])\n",
        "b= np.array([40,50,60])\n",
        "\n"
      ],
      "metadata": {
        "id": "8kxS_rvCqtqT"
      },
      "execution_count": null,
      "outputs": []
    },
    {
      "cell_type": "code",
      "source": [
        "#  Join them into a single array.\n",
        "join = np.concatenate((a,b))    # concatenate function is used\n",
        "join"
      ],
      "metadata": {
        "colab": {
          "base_uri": "https://localhost:8080/"
        },
        "id": "kmpcl5Sx0GZo",
        "outputId": "a2d734f8-79d2-4d0a-b5de-c6826f899b89"
      },
      "execution_count": null,
      "outputs": [
        {
          "output_type": "execute_result",
          "data": {
            "text/plain": [
              "array([10, 20, 30, 40, 50, 60])"
            ]
          },
          "metadata": {},
          "execution_count": 13
        }
      ]
    },
    {
      "cell_type": "code",
      "source": [
        " # Split the joined array into 3 equal parts\n",
        "split_arrays = np.split(join, 3)\n",
        "split_arrays"
      ],
      "metadata": {
        "colab": {
          "base_uri": "https://localhost:8080/"
        },
        "id": "IX9779Ir0NRv",
        "outputId": "ab48a1a5-4a09-47e2-9177-4c6b7cae2ffa"
      },
      "execution_count": null,
      "outputs": [
        {
          "output_type": "execute_result",
          "data": {
            "text/plain": [
              "[array([10, 20]), array([30, 40]), array([50, 60])]"
            ]
          },
          "metadata": {},
          "execution_count": 14
        }
      ]
    },
    {
      "cell_type": "markdown",
      "source": [
        "\n",
        "- For arr = [15, 25, 35, 25, 45]:\n",
        "\n",
        "1. Find all indices where the element is 25.\n",
        "\n"
      ],
      "metadata": {
        "id": "_1uOVW6J2AvS"
      }
    },
    {
      "cell_type": "code",
      "source": [
        "arr1 = np.array([15, 25, 35, 25, 45])\n",
        "indices_25 = np.where(arr1 == 25)[0]\n",
        "indices_25\n"
      ],
      "metadata": {
        "colab": {
          "base_uri": "https://localhost:8080/"
        },
        "id": "OX3yCF1l0Yi9",
        "outputId": "83b750da-c760-4134-a95f-d72497a39846"
      },
      "execution_count": null,
      "outputs": [
        {
          "output_type": "execute_result",
          "data": {
            "text/plain": [
              "array([1, 3])"
            ]
          },
          "metadata": {},
          "execution_count": 15
        }
      ]
    },
    {
      "cell_type": "markdown",
      "source": [
        "\n",
        "- For arr = [12, 5, 18, 7, 3]:\n",
        "\n",
        "1. Sort the array in ascending order."
      ],
      "metadata": {
        "id": "lgYnhIr_2D0T"
      }
    },
    {
      "cell_type": "code",
      "source": [
        "arr2 = np.array([12,5,18,7,3])\n",
        "\n",
        "sorted_arr = np.sort(arr2)\n",
        "sorted_arr\n"
      ],
      "metadata": {
        "colab": {
          "base_uri": "https://localhost:8080/"
        },
        "id": "gCRb-urr0-_w",
        "outputId": "5ef98b62-78cd-4c39-fc0d-edf2a73e90d2"
      },
      "execution_count": null,
      "outputs": [
        {
          "output_type": "execute_result",
          "data": {
            "text/plain": [
              "array([ 3,  5,  7, 12, 18])"
            ]
          },
          "metadata": {},
          "execution_count": 16
        }
      ]
    },
    {
      "cell_type": "markdown",
      "source": [
        "## 3. Indexing, Slicing, Iterating\n",
        "For the matrix:\n",
        "[[11, 12, 13],\n",
        "[21, 22, 23],\n",
        "[31, 32, 33]]\n",
        "\n",
        "\n",
        "- Extract the element 22 using indexing.\n"
      ],
      "metadata": {
        "id": "YJo1GqJr2aRm"
      }
    },
    {
      "cell_type": "code",
      "source": [
        "matrix = np.array([[11,12,13],[21,22,23],[31,32,33]])\n",
        "matrix"
      ],
      "metadata": {
        "colab": {
          "base_uri": "https://localhost:8080/"
        },
        "id": "2Sz69LR71ctx",
        "outputId": "3bb5c0fc-81f1-4b7f-b3a4-4e4e2bed3f93"
      },
      "execution_count": null,
      "outputs": [
        {
          "output_type": "execute_result",
          "data": {
            "text/plain": [
              "array([[11, 12, 13],\n",
              "       [21, 22, 23],\n",
              "       [31, 32, 33]])"
            ]
          },
          "metadata": {},
          "execution_count": 17
        }
      ]
    },
    {
      "cell_type": "markdown",
      "source": [
        "- Slice the first two rows"
      ],
      "metadata": {
        "id": "YhWRKyCBLy8B"
      }
    },
    {
      "cell_type": "code",
      "source": [
        "first_two_rows = matrix[:2, :]\n",
        "print(\"First two rows:\\n\", first_two_rows)"
      ],
      "metadata": {
        "id": "2jukcElZ3GLH",
        "colab": {
          "base_uri": "https://localhost:8080/"
        },
        "outputId": "f3fad541-4439-498b-cd4d-f79d28b0f76e"
      },
      "execution_count": null,
      "outputs": [
        {
          "output_type": "stream",
          "name": "stdout",
          "text": [
            "First two rows:\n",
            " [[11 12 13]\n",
            " [21 22 23]]\n"
          ]
        }
      ]
    },
    {
      "cell_type": "code",
      "source": [
        "# Slice the last column\n",
        "\n",
        "last_column = matrix[:, -1]\n",
        "print(\"Last column:\", last_column)\n"
      ],
      "metadata": {
        "colab": {
          "base_uri": "https://localhost:8080/"
        },
        "id": "1JJmwy10L97b",
        "outputId": "479f6340-a310-4cc0-bb9f-11d4684d1764"
      },
      "execution_count": null,
      "outputs": [
        {
          "output_type": "stream",
          "name": "stdout",
          "text": [
            "Last column: [13 23 33]\n"
          ]
        }
      ]
    },
    {
      "cell_type": "code",
      "source": [
        "# Iterate through all elements and print them\n",
        "print(\"All elements in matrix:\")\n",
        "for element in matrix.flat:\n",
        "    print(element, end=' ')\n",
        "print()"
      ],
      "metadata": {
        "colab": {
          "base_uri": "https://localhost:8080/"
        },
        "id": "uExCaV9VMGBN",
        "outputId": "99a997fa-dbf1-46fe-e0b3-41480655ee85"
      },
      "execution_count": null,
      "outputs": [
        {
          "output_type": "stream",
          "name": "stdout",
          "text": [
            "All elements in matrix:\n",
            "11 12 13 21 22 23 31 32 33 \n"
          ]
        }
      ]
    },
    {
      "cell_type": "markdown",
      "source": [
        "## 4. Copying Arrays\n"
      ],
      "metadata": {
        "id": "bNP93dKtMKEz"
      }
    },
    {
      "cell_type": "code",
      "source": [
        "arr_copy = np.array([1, 2, 3, 4, 5])\n",
        "\n",
        "# Create a view and change the first element to 99\n",
        "view_arr = arr_copy.view()\n",
        "view_arr[0] = 99\n",
        "print(\"View changed first element to 99:\", view_arr)\n",
        "print(\"Original array after view change:\", arr_copy)  # also affected\n"
      ],
      "metadata": {
        "colab": {
          "base_uri": "https://localhost:8080/"
        },
        "id": "eHkad2DPMH3f",
        "outputId": "2febd44c-34ba-4fa8-d22a-7ba30ea98ecc"
      },
      "execution_count": null,
      "outputs": [
        {
          "output_type": "stream",
          "name": "stdout",
          "text": [
            "View changed first element to 99: [99  2  3  4  5]\n",
            "Original array after view change: [99  2  3  4  5]\n"
          ]
        }
      ]
    },
    {
      "cell_type": "code",
      "source": [
        "# Create a deep copy and change second element to 77\n",
        "deep_copy_arr = arr_copy.copy()\n",
        "deep_copy_arr[1] = 77\n",
        "print(\"Deep copy changed second element to 77:\", deep_copy_arr)\n",
        "print(\"Original array after deep copy change:\", arr_copy)  # unchanged"
      ],
      "metadata": {
        "colab": {
          "base_uri": "https://localhost:8080/"
        },
        "id": "1lA62Jb1MWbR",
        "outputId": "ddd4d3b2-1a1b-4f7c-f3af-e09b93a55f4e"
      },
      "execution_count": null,
      "outputs": [
        {
          "output_type": "stream",
          "name": "stdout",
          "text": [
            "Deep copy changed second element to 77: [99 77  3  4  5]\n",
            "Original array after deep copy change: [99  2  3  4  5]\n"
          ]
        }
      ]
    },
    {
      "cell_type": "markdown",
      "source": [
        "## 5. Array Shape Manipulation"
      ],
      "metadata": {
        "id": "qL0KNb5fMb_j"
      }
    },
    {
      "cell_type": "code",
      "source": [
        "arr_reshape = np.arange(1, 13)\n"
      ],
      "metadata": {
        "id": "D9RK-mqlMZKF"
      },
      "execution_count": null,
      "outputs": []
    },
    {
      "cell_type": "code",
      "source": [
        "\n",
        "# Reshape into 3x4 matrix\n",
        "reshaped_matrix = arr_reshape.reshape(3, 4)\n",
        "print(\"Reshaped 3x4 matrix:\\n\", reshaped_matrix)"
      ],
      "metadata": {
        "colab": {
          "base_uri": "https://localhost:8080/"
        },
        "id": "ubLnrzdnMidI",
        "outputId": "747691e9-555a-4cf7-c8e4-8aa37f4b5c65"
      },
      "execution_count": null,
      "outputs": [
        {
          "output_type": "stream",
          "name": "stdout",
          "text": [
            "Reshaped 3x4 matrix:\n",
            " [[ 1  2  3  4]\n",
            " [ 5  6  7  8]\n",
            " [ 9 10 11 12]]\n"
          ]
        }
      ]
    },
    {
      "cell_type": "code",
      "source": [
        "\n",
        "# Flatten the reshaped matrix into 1D\n",
        "flattened_array = reshaped_matrix.flatten()\n",
        "print(\"Flattened array:\", flattened_array)"
      ],
      "metadata": {
        "colab": {
          "base_uri": "https://localhost:8080/"
        },
        "id": "I3YlgcB5MjwU",
        "outputId": "22ec3535-ed21-4b94-a7ba-8cd2aeea9f14"
      },
      "execution_count": null,
      "outputs": [
        {
          "output_type": "stream",
          "name": "stdout",
          "text": [
            "Flattened array: [ 1  2  3  4  5  6  7  8  9 10 11 12]\n"
          ]
        }
      ]
    },
    {
      "cell_type": "code",
      "source": [
        "# Resize into 2x8 matrix\n",
        "arr_resized = np.resize(arr_reshape, (2, 8))\n",
        "print(\"Resized 2x8 matrix:\\n\", arr_resized)"
      ],
      "metadata": {
        "colab": {
          "base_uri": "https://localhost:8080/"
        },
        "id": "1o6NeWhIMmK-",
        "outputId": "9ab5c3a0-2e8b-4d6d-987f-5c8f5caeb4f9"
      },
      "execution_count": null,
      "outputs": [
        {
          "output_type": "stream",
          "name": "stdout",
          "text": [
            "Resized 2x8 matrix:\n",
            " [[ 1  2  3  4  5  6  7  8]\n",
            " [ 9 10 11 12  1  2  3  4]]\n"
          ]
        }
      ]
    },
    {
      "cell_type": "markdown",
      "source": [
        "## 6. Identity Array and Eye Function\n",
        "\n",
        "- Generate a 5x5 identity matrix"
      ],
      "metadata": {
        "id": "e9_MFxr0Mp2_"
      }
    },
    {
      "cell_type": "code",
      "source": [
        "identity_matrix = np.identity(5)\n",
        "print(\"5x5 identity matrix:\\n\", identity_matrix)"
      ],
      "metadata": {
        "colab": {
          "base_uri": "https://localhost:8080/"
        },
        "id": "KTrjIx9tMoCS",
        "outputId": "e3a1d137-99f8-40a5-beab-1fe1ffafb53c"
      },
      "execution_count": null,
      "outputs": [
        {
          "output_type": "stream",
          "name": "stdout",
          "text": [
            "5x5 identity matrix:\n",
            " [[1. 0. 0. 0. 0.]\n",
            " [0. 1. 0. 0. 0.]\n",
            " [0. 0. 1. 0. 0.]\n",
            " [0. 0. 0. 1. 0.]\n",
            " [0. 0. 0. 0. 1.]]\n"
          ]
        }
      ]
    },
    {
      "cell_type": "code",
      "source": [
        "\n",
        "# Generate a 4x6 matrix using eye() with diagonal offset k=2\n",
        "eye_matrix = np.eye(4, 6, k=2)\n",
        "print(\"4x6 identity with diagonal offset 2:\\n\", eye_matrix)\n",
        "\n"
      ],
      "metadata": {
        "colab": {
          "base_uri": "https://localhost:8080/"
        },
        "id": "Qt94fAraMxQu",
        "outputId": "0ab1ace9-70c9-4daf-e1d2-76338094f594"
      },
      "execution_count": null,
      "outputs": [
        {
          "output_type": "stream",
          "name": "stdout",
          "text": [
            "4x6 identity with diagonal offset 2:\n",
            " [[0. 0. 1. 0. 0. 0.]\n",
            " [0. 0. 0. 1. 0. 0.]\n",
            " [0. 0. 0. 0. 1. 0.]\n",
            " [0. 0. 0. 0. 0. 1.]]\n"
          ]
        }
      ]
    },
    {
      "cell_type": "code",
      "source": [],
      "metadata": {
        "id": "A3N2zVbwMzmr"
      },
      "execution_count": null,
      "outputs": []
    },
    {
      "cell_type": "markdown",
      "source": [
        "# Lab 2b - Pandas – Series and DataFrames\n",
        "\n",
        "\n",
        "1. Accessing and Slicing of Series"
      ],
      "metadata": {
        "id": "vfYmxjCEM7JZ"
      }
    },
    {
      "cell_type": "code",
      "source": [
        "import pandas as pd\n",
        "series = pd.Series([10, 20, 30, 40, 50], index=['a', 'b', 'c', 'd', 'e'])"
      ],
      "metadata": {
        "id": "ZjEmn1k4M-VX"
      },
      "execution_count": null,
      "outputs": []
    },
    {
      "cell_type": "code",
      "source": [
        "\n",
        "# Access element with label 'c'\n",
        "elem_c = series['c']\n",
        "print(\"Element with label 'c':\", elem_c)\n"
      ],
      "metadata": {
        "colab": {
          "base_uri": "https://localhost:8080/"
        },
        "id": "hL_JMrSBNGLW",
        "outputId": "514e9b06-1dc9-48c2-e201-32a09c4c821e"
      },
      "execution_count": null,
      "outputs": [
        {
          "output_type": "stream",
          "name": "stdout",
          "text": [
            "Element with label 'c': 30\n"
          ]
        }
      ]
    },
    {
      "cell_type": "code",
      "source": [
        "# Slice from index 'b' to 'd'\n",
        "slice_bd = series['b':'d']\n",
        "print(\"Slice from 'b' to 'd':\\n\", slice_bd)"
      ],
      "metadata": {
        "colab": {
          "base_uri": "https://localhost:8080/"
        },
        "id": "p3EWheZFNUIF",
        "outputId": "a9759719-5121-4f11-eb3a-d3fa9b7ae140"
      },
      "execution_count": null,
      "outputs": [
        {
          "output_type": "stream",
          "name": "stdout",
          "text": [
            "Slice from 'b' to 'd':\n",
            " b    20\n",
            "c    30\n",
            "d    40\n",
            "dtype: int64\n"
          ]
        }
      ]
    },
    {
      "cell_type": "code",
      "source": [
        "# Retrieve first three elements\n",
        "first_three = series.head(3)\n",
        "print(\"First three elements:\\n\", first_three)"
      ],
      "metadata": {
        "colab": {
          "base_uri": "https://localhost:8080/"
        },
        "id": "eSkqduB9NWcO",
        "outputId": "22fbd4f4-be56-4cde-d659-4d2bc65c0950"
      },
      "execution_count": null,
      "outputs": [
        {
          "output_type": "stream",
          "name": "stdout",
          "text": [
            "First three elements:\n",
            " a    10\n",
            "b    20\n",
            "c    30\n",
            "dtype: int64\n"
          ]
        }
      ]
    },
    {
      "cell_type": "markdown",
      "source": [
        "## 2. Accessing and Slicing of DataFrames"
      ],
      "metadata": {
        "id": "GdGp5QYvNae5"
      }
    },
    {
      "cell_type": "code",
      "source": [
        "df = pd.DataFrame({\n",
        "    'ID': [1, 2, 3, 4],\n",
        "    'Name': ['Alex', 'Bella', 'Chris', 'Diana'],\n",
        "    'Age': [22, 20, 23, 21],\n",
        "    'Marks': [85, 90, 78, 92]\n",
        "})"
      ],
      "metadata": {
        "id": "NCYzlqD3NYdb"
      },
      "execution_count": null,
      "outputs": []
    },
    {
      "cell_type": "code",
      "source": [
        "# Select the column Name\n",
        "name_column = df['Name']\n",
        "print(\"Name column:\\n\", name_column)"
      ],
      "metadata": {
        "colab": {
          "base_uri": "https://localhost:8080/"
        },
        "id": "XffrTOxXNhbg",
        "outputId": "cc3da477-db1d-4fca-df75-70b454b23287"
      },
      "execution_count": null,
      "outputs": [
        {
          "output_type": "stream",
          "name": "stdout",
          "text": [
            "Name column:\n",
            " 0     Alex\n",
            "1    Bella\n",
            "2    Chris\n",
            "3    Diana\n",
            "Name: Name, dtype: object\n"
          ]
        }
      ]
    },
    {
      "cell_type": "code",
      "source": [
        "# Select rows with indices 1 and 2\n",
        "selected_rows = df.loc[[1, 2]]\n",
        "print(\"Rows with indices 1 and 2:\\n\", selected_rows)\n"
      ],
      "metadata": {
        "colab": {
          "base_uri": "https://localhost:8080/"
        },
        "id": "e-DDGY3eNjhR",
        "outputId": "d5e2f488-9582-4b45-be56-dd39d99722f5"
      },
      "execution_count": null,
      "outputs": [
        {
          "output_type": "stream",
          "name": "stdout",
          "text": [
            "Rows with indices 1 and 2:\n",
            "    ID   Name  Age  Marks\n",
            "1   2  Bella   20     90\n",
            "2   3  Chris   23     78\n"
          ]
        }
      ]
    },
    {
      "cell_type": "code",
      "source": [
        "# Slice to display first two rows and two columns\n",
        "slice_rows_cols = df.iloc[:2, :2]\n",
        "print(\"First two rows and two columns:\\n\", slice_rows_cols)"
      ],
      "metadata": {
        "colab": {
          "base_uri": "https://localhost:8080/"
        },
        "id": "kNJvu0BrNlSo",
        "outputId": "0ab9bf80-c342-4c5d-d005-24521a0a0f8c"
      },
      "execution_count": null,
      "outputs": [
        {
          "output_type": "stream",
          "name": "stdout",
          "text": [
            "First two rows and two columns:\n",
            "    ID   Name\n",
            "0   1   Alex\n",
            "1   2  Bella\n"
          ]
        }
      ]
    },
    {
      "cell_type": "code",
      "source": [
        "# Access element at row index 2 and column Marks\n",
        "elem_marks = df.at[2, 'Marks']\n",
        "print(\"Element at row 2, column 'Marks':\", elem_marks)"
      ],
      "metadata": {
        "colab": {
          "base_uri": "https://localhost:8080/"
        },
        "id": "7-pYpQlsNnoR",
        "outputId": "b0e1e4c4-02ce-488a-9a0d-30464b09d44e"
      },
      "execution_count": null,
      "outputs": [
        {
          "output_type": "stream",
          "name": "stdout",
          "text": [
            "Element at row 2, column 'Marks': 78\n"
          ]
        }
      ]
    },
    {
      "cell_type": "markdown",
      "source": [
        "## 3. Arithmetic and Logical Operations on DataFrame"
      ],
      "metadata": {
        "id": "JLP7KLEYNsuy"
      }
    },
    {
      "cell_type": "code",
      "source": [
        "df_ab = pd.DataFrame({\n",
        "    'A': [5, 15, 25],\n",
        "    'B': [10, 20, 30]\n",
        "})"
      ],
      "metadata": {
        "id": "r84GUtSDNqKE"
      },
      "execution_count": null,
      "outputs": []
    },
    {
      "cell_type": "code",
      "source": [
        "# Add 10 to all elements of column A\n",
        "df_ab['A'] = df_ab['A'] + 10\n",
        "print(\"Column A after adding 10:\\n\", df_ab['A'])"
      ],
      "metadata": {
        "colab": {
          "base_uri": "https://localhost:8080/"
        },
        "id": "Wk0o_GvaNwOU",
        "outputId": "cd3e8368-f3a5-4b92-c16b-091d6e565599"
      },
      "execution_count": null,
      "outputs": [
        {
          "output_type": "stream",
          "name": "stdout",
          "text": [
            "Column A after adding 10:\n",
            " 0    15\n",
            "1    25\n",
            "2    35\n",
            "Name: A, dtype: int64\n"
          ]
        }
      ]
    },
    {
      "cell_type": "code",
      "source": [
        "# Multiply column B by 2\n",
        "df_ab['B'] = df_ab['B'] * 2\n",
        "print(\"Column B after multiplying by 2:\\n\", df_ab['B'])"
      ],
      "metadata": {
        "colab": {
          "base_uri": "https://localhost:8080/"
        },
        "id": "xokgQ2x3NyVm",
        "outputId": "d894dc47-39fb-410a-8103-9a2cc5b530e1"
      },
      "execution_count": null,
      "outputs": [
        {
          "output_type": "stream",
          "name": "stdout",
          "text": [
            "Column B after multiplying by 2:\n",
            " 0    20\n",
            "1    40\n",
            "2    60\n",
            "Name: B, dtype: int64\n"
          ]
        }
      ]
    },
    {
      "cell_type": "code",
      "source": [
        "# Create boolean mask where column A > 10\n",
        "mask = df_ab['A'] > 10\n",
        "print(\"Boolean mask for A > 10:\\n\", mask)"
      ],
      "metadata": {
        "colab": {
          "base_uri": "https://localhost:8080/"
        },
        "id": "Ysjj5LZXN0BE",
        "outputId": "1e05b96f-c191-4ce2-8b77-26326c206f0b"
      },
      "execution_count": null,
      "outputs": [
        {
          "output_type": "stream",
          "name": "stdout",
          "text": [
            "Boolean mask for A > 10:\n",
            " 0    True\n",
            "1    True\n",
            "2    True\n",
            "Name: A, dtype: bool\n"
          ]
        }
      ]
    },
    {
      "cell_type": "code",
      "source": [
        "\n",
        "# Filter rows where column B < 25\n",
        "filtered_rows = df_ab[df_ab['B'] < 25]\n",
        "print(\"Rows where B < 25:\\n\", filtered_rows)"
      ],
      "metadata": {
        "colab": {
          "base_uri": "https://localhost:8080/"
        },
        "id": "-KIPNmqwN17u",
        "outputId": "66466f08-257b-4b9e-a430-3a864172642d"
      },
      "execution_count": null,
      "outputs": [
        {
          "output_type": "stream",
          "name": "stdout",
          "text": [
            "Rows where B < 25:\n",
            "     A   B\n",
            "0  15  20\n"
          ]
        }
      ]
    },
    {
      "cell_type": "markdown",
      "source": [
        "## 4. Index Objects"
      ],
      "metadata": {
        "id": "RXMxI8HMN5yy"
      }
    },
    {
      "cell_type": "code",
      "source": [
        "df_index = pd.DataFrame({\n",
        "    'X': [5, 7, 9],\n",
        "    'Y': [6, 8, 10]\n",
        "}, index=['one', 'two', 'three'])"
      ],
      "metadata": {
        "id": "rCzJ9z1aN376"
      },
      "execution_count": null,
      "outputs": []
    },
    {
      "cell_type": "code",
      "source": [
        "index_obj = df_index.index  # Print index object\n",
        "row_two = df_index.loc['two']  # Access row 'two'\n",
        "has_four = 'four' in df_index.index  # Check if 'four' in index\n"
      ],
      "metadata": {
        "id": "wK7R10odN84I"
      },
      "execution_count": null,
      "outputs": []
    },
    {
      "cell_type": "markdown",
      "source": [
        "# 5. Re-indexing"
      ],
      "metadata": {
        "id": "FuxyaqB2OIPn"
      }
    },
    {
      "cell_type": "code",
      "source": [
        "\n",
        "df_score = pd.DataFrame({'Score': [85, 90, 78]}, index=['a', 'b', 'c'])\n",
        "\n",
        "reindexed = df_score.reindex(['a', 'b', 'c', 'd', 'e'])  # Re-index\n",
        "filled = reindexed.fillna(0)  # Fill missing with 0\n",
        "reordered = df_score.reindex(['c', 'a', 'b'])  # Reorder index"
      ],
      "metadata": {
        "id": "y9TdjuOROEnH"
      },
      "execution_count": null,
      "outputs": []
    },
    {
      "cell_type": "markdown",
      "source": [
        "# 6. Drop Entry"
      ],
      "metadata": {
        "id": "XD6icA-JOK8d"
      }
    },
    {
      "cell_type": "code",
      "source": [
        "\n",
        "df_drop_row = df.drop(index=2)  # Drop row index 2\n",
        "df_drop_col = df.drop(columns=['Marks'])  # Drop column Marks"
      ],
      "metadata": {
        "id": "Qkg4uoxBOLW_"
      },
      "execution_count": null,
      "outputs": []
    },
    {
      "cell_type": "markdown",
      "source": [
        "# 7. Selecting Entries"
      ],
      "metadata": {
        "id": "g0pIm3OJORHD"
      }
    },
    {
      "cell_type": "code",
      "source": [
        "\n",
        "marks_above_80 = df[df['Marks'] > 80]  # Marks > 80\n",
        "name_marks = df[['Name', 'Marks']]  # Name and Marks columns\n",
        "age_between = df[(df['Age'] >= 20) & (df['Age'] <= 22)]  # Age between 20 and 22"
      ],
      "metadata": {
        "id": "R14Yu1ApON0i"
      },
      "execution_count": null,
      "outputs": []
    },
    {
      "cell_type": "code",
      "source": [],
      "metadata": {
        "id": "8JbBm8fZOSOY"
      },
      "execution_count": null,
      "outputs": []
    }
  ]
}