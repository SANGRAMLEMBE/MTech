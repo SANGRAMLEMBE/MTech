{
  "nbformat": 4,
  "nbformat_minor": 0,
  "metadata": {
    "colab": {
      "provenance": [],
      "authorship_tag": "ABX9TyNGCXsDJ/+C90Ao0lEqSyho",
      "include_colab_link": true
    },
    "kernelspec": {
      "name": "python3",
      "display_name": "Python 3"
    },
    "language_info": {
      "name": "python"
    }
  },
  "cells": [
    {
      "cell_type": "markdown",
      "metadata": {
        "id": "view-in-github",
        "colab_type": "text"
      },
      "source": [
        "<a href=\"https://colab.research.google.com/github/SANGRAMLEMBE/MTech/blob/main/Applied_Data_Science/Practical/ADS_Lab_3_Indexing_and_Reindexing_in_pandas_dataframes.ipynb\" target=\"_parent\"><img src=\"https://colab.research.google.com/assets/colab-badge.svg\" alt=\"Open In Colab\"/></a>"
      ]
    },
    {
      "cell_type": "markdown",
      "source": [
        "# Lab 3 – Indexing and Reindexing in pandas dataframes"
      ],
      "metadata": {
        "id": "5d9elMVu8dtW"
      }
    },
    {
      "cell_type": "code",
      "execution_count": 1,
      "metadata": {
        "id": "Y8nyKGI86R4P"
      },
      "outputs": [],
      "source": [
        "import numpy as np\n",
        "import pandas as pd"
      ]
    },
    {
      "cell_type": "markdown",
      "source": [
        "## Question 1 — label vs position selection\n",
        "1) Load nba.csv with Name as index"
      ],
      "metadata": {
        "id": "odcSGGfNAnqI"
      }
    },
    {
      "cell_type": "code",
      "source": [
        "df = pd.read_csv('/content/nba - nba.csv', index_col='Name')"
      ],
      "metadata": {
        "id": "qQ39kR7i_odA"
      },
      "execution_count": 4,
      "outputs": []
    },
    {
      "cell_type": "markdown",
      "source": [
        "2. Print the row for player \"Avery Bradley\" using .loc, then print the 4th row in the DataFrame\n",
        "using .iloc.\n",
        "\n",
        "- df.loc['Avery Bradley'] retrieves the row by the label (player's name), returning a Series."
      ],
      "metadata": {
        "id": "T4Wl2cSaA6Hi"
      }
    },
    {
      "cell_type": "code",
      "source": [
        "# Print the row for \"Avery Bradley\" using loc (label-based)\n",
        "print(\"Row for Avery Bradley using loc:\")\n",
        "print(df.loc['Avery Bradley'])"
      ],
      "metadata": {
        "colab": {
          "base_uri": "https://localhost:8080/"
        },
        "id": "J0jeIv7zASV8",
        "outputId": "a301f0e5-32b9-461c-cca0-2e2bb8aa5bd7"
      },
      "execution_count": 5,
      "outputs": [
        {
          "output_type": "stream",
          "name": "stdout",
          "text": [
            "Row for Avery Bradley using loc:\n",
            "Team        Boston Celtics\n",
            "Number                   0\n",
            "Position                PG\n",
            "Age                     25\n",
            "Height                 6-2\n",
            "Weight                 180\n",
            "College              Texas\n",
            "Salary           7730337.0\n",
            "Name: Avery Bradley, dtype: object\n"
          ]
        }
      ]
    },
    {
      "cell_type": "markdown",
      "source": [
        "3. Print the 4th row using iloc"
      ],
      "metadata": {
        "id": "7s72WH2DDHAB"
      }
    },
    {
      "cell_type": "code",
      "source": [
        "# Print the 4th row using iloc (position-based, 0-indexed so 3 is the 4th row)\n",
        "print(\"\\n4th row using iloc:\")\n",
        "print(df.iloc[3])"
      ],
      "metadata": {
        "colab": {
          "base_uri": "https://localhost:8080/"
        },
        "id": "YujbZMiBCRYh",
        "outputId": "e76cf566-a92a-4ee1-9ed0-503db44e5051"
      },
      "execution_count": 6,
      "outputs": [
        {
          "output_type": "stream",
          "name": "stdout",
          "text": [
            "\n",
            "4th row using iloc:\n",
            "Team        Boston Celtics\n",
            "Number                  28\n",
            "Position                SG\n",
            "Age                     22\n",
            "Height                 6-5\n",
            "Weight                 185\n",
            "College      Georgia State\n",
            "Salary           1148640.0\n",
            "Name: R.J. Hunter, dtype: object\n"
          ]
        }
      ]
    },
    {
      "cell_type": "markdown",
      "source": [
        "4. Extract \"Team\" and \"Position\" for \"R.J. Hunter\" using loc\n",
        "\n",
        "- selects specific columns for that row, returning a Series or small DataFrame."
      ],
      "metadata": {
        "id": "1ICxZnQeDM_s"
      }
    },
    {
      "cell_type": "code",
      "source": [
        "# Extract \"Team\" and \"Position\" for \"R.J. Hunter\" using loc\n",
        "print(\"\\nTeam and Position for R.J. Hunter:\")\n",
        "print(df.loc['R.J. Hunter', ['Team', 'Position']])"
      ],
      "metadata": {
        "colab": {
          "base_uri": "https://localhost:8080/"
        },
        "id": "zw0VX6x4CuU-",
        "outputId": "0a5a8fc6-ed67-4089-e1e4-2e6c64b47092"
      },
      "execution_count": 7,
      "outputs": [
        {
          "output_type": "stream",
          "name": "stdout",
          "text": [
            "\n",
            "Team and Position for R.J. Hunter:\n",
            "Team        Boston Celtics\n",
            "Position                SG\n",
            "Name: R.J. Hunter, dtype: object\n"
          ]
        }
      ]
    },
    {
      "cell_type": "markdown",
      "source": [
        "## Question 2 — set_index / reset_index and at/iat"
      ],
      "metadata": {
        "id": "tyiYaKfrDgbW"
      }
    },
    {
      "cell_type": "code",
      "source": [
        "df.set"
      ],
      "metadata": {
        "id": "oovSHCkuDP-s"
      },
      "execution_count": null,
      "outputs": []
    }
  ]
}