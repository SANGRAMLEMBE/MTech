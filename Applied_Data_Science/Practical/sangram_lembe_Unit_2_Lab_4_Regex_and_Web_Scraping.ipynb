{
  "nbformat": 4,
  "nbformat_minor": 0,
  "metadata": {
    "colab": {
      "provenance": [],
      "gpuType": "T4",
      "include_colab_link": true
    },
    "kernelspec": {
      "name": "python3",
      "display_name": "Python 3"
    },
    "language_info": {
      "name": "python"
    },
    "accelerator": "GPU"
  },
  "cells": [
    {
      "cell_type": "markdown",
      "metadata": {
        "id": "view-in-github",
        "colab_type": "text"
      },
      "source": [
        "<a href=\"https://colab.research.google.com/github/SANGRAMLEMBE/MTech/blob/main/Applied_Data_Science/Practical/sangram_lembe_Unit_2_Lab_4_Regex_and_Web_Scraping.ipynb\" target=\"_parent\"><img src=\"https://colab.research.google.com/assets/colab-badge.svg\" alt=\"Open In Colab\"/></a>"
      ]
    },
    {
      "cell_type": "markdown",
      "source": [
        "1. **Regex Practice** – Basic and advanced regex problems.  "
      ],
      "metadata": {
        "id": "OK06SUKgUe8m"
      }
    },
    {
      "cell_type": "code",
      "execution_count": 1,
      "metadata": {
        "id": "xpImuu0-UUaa"
      },
      "outputs": [],
      "source": [
        "# Import re module\n",
        "import re"
      ]
    },
    {
      "cell_type": "markdown",
      "source": [
        "### Example 1: Extract email addresses\n"
      ],
      "metadata": {
        "id": "XXJITzO7UmRB"
      }
    },
    {
      "cell_type": "code",
      "source": [
        "text = \"Email: alice@mail.com, bob@company.org\"\n",
        "\n",
        "# Regex for emails\n",
        "pattern = r\"\\b[\\w.%+-]+@[A-Za-z0-9.-]+\\.[A-Z|a-z]{2,}\\b\"\n",
        "\n",
        "emails = re.findall(pattern, text)\n",
        "print(\"Extracted emails:\", emails)"
      ],
      "metadata": {
        "colab": {
          "base_uri": "https://localhost:8080/"
        },
        "id": "Gjuk1byjUkwl",
        "outputId": "4b210570-8f9b-480d-a884-9c09767d6332"
      },
      "execution_count": 2,
      "outputs": [
        {
          "output_type": "stream",
          "name": "stdout",
          "text": [
            "Extracted emails: ['alice@mail.com', 'bob@company.org']\n"
          ]
        }
      ]
    },
    {
      "cell_type": "markdown",
      "source": [
        "### Example 2: Find numbers in text\n"
      ],
      "metadata": {
        "id": "N-Zkr3eLUtsC"
      }
    },
    {
      "cell_type": "code",
      "source": [
        "text = \"Order number: 12345\"\n",
        "\n",
        "match = re.search(r\"\\d+\", text)\n",
        "if match:\n",
        "    print(\"Matched:\", match.group())\n",
        "    print(\"Start index:\", match.start())\n",
        "    print(\"End index:\", match.end())"
      ],
      "metadata": {
        "colab": {
          "base_uri": "https://localhost:8080/"
        },
        "id": "sfDrcsYGUrBt",
        "outputId": "36d58a98-fcca-4e23-aa12-2cb64ba62657"
      },
      "execution_count": 3,
      "outputs": [
        {
          "output_type": "stream",
          "name": "stdout",
          "text": [
            "Matched: 12345\n",
            "Start index: 14\n",
            "End index: 19\n"
          ]
        }
      ]
    },
    {
      "cell_type": "markdown",
      "source": [
        "### Example 3: Split text using multiple delimiters\n"
      ],
      "metadata": {
        "id": "hqdHubVAUyzG"
      }
    },
    {
      "cell_type": "code",
      "source": [
        "text = \"one,two;three four|five\"\n",
        "\n",
        "parts = re.split(r\"[,;| ]\", text)\n",
        "print(\"Splitted parts:\", parts)"
      ],
      "metadata": {
        "colab": {
          "base_uri": "https://localhost:8080/"
        },
        "id": "l9rHbeplU06z",
        "outputId": "73808417-4c1d-4b30-acf3-4c2d9b9fb7f3"
      },
      "execution_count": 4,
      "outputs": [
        {
          "output_type": "stream",
          "name": "stdout",
          "text": [
            "Splitted parts: ['one', 'two', 'three', 'four', 'five']\n"
          ]
        }
      ]
    },
    {
      "cell_type": "markdown",
      "source": [
        "### Example 4: Mask phone numbers\n"
      ],
      "metadata": {
        "id": "b7IPmwpKU5l8"
      }
    },
    {
      "cell_type": "code",
      "source": [
        "text = \"My phone number is 9876543210\"\n",
        "\n",
        "# Replace all digits with '*'\n",
        "masked = re.sub(r\"\\d\", \"*\", text)\n",
        "print(\"Masked:\", masked)"
      ],
      "metadata": {
        "colab": {
          "base_uri": "https://localhost:8080/"
        },
        "id": "x9NTTbrdU3fF",
        "outputId": "c5a22f30-e645-4b24-9bb5-039884162472"
      },
      "execution_count": 5,
      "outputs": [
        {
          "output_type": "stream",
          "name": "stdout",
          "text": [
            "Masked: My phone number is **********\n"
          ]
        }
      ]
    },
    {
      "cell_type": "markdown",
      "source": [
        "### Example 5: Match and find positions\n"
      ],
      "metadata": {
        "id": "fcfw3GPSU-nF"
      }
    },
    {
      "cell_type": "code",
      "source": [
        "text = \"Python is fun\"\n",
        "\n",
        "match = re.search(r\"Python\", text)\n",
        "if match:\n",
        "    print(\"Match:\", match.group())\n",
        "    print(\"Span:\", match.span())\n",
        "    print(\"Start:\", match.start())\n",
        "    print(\"End:\", match.end())"
      ],
      "metadata": {
        "colab": {
          "base_uri": "https://localhost:8080/"
        },
        "id": "kEtXexv5U872",
        "outputId": "4034e947-a20f-4e59-92e6-3969eee3aba6"
      },
      "execution_count": 6,
      "outputs": [
        {
          "output_type": "stream",
          "name": "stdout",
          "text": [
            "Match: Python\n",
            "Span: (0, 6)\n",
            "Start: 0\n",
            "End: 6\n"
          ]
        }
      ]
    },
    {
      "cell_type": "markdown",
      "source": [
        "## 🔹 Customer Log Regex Problems\n",
        "Now we solve tasks based on a given customer log.\n"
      ],
      "metadata": {
        "id": "4QHkd-eYVDo4"
      }
    },
    {
      "cell_type": "code",
      "source": [
        "customer_log = \"\"\"OrderID: 45892 | Name: Alice | Email: alice.wonder@mail.com | Phone: 9876543210\n",
        "OrderID: 45893 | Name: Bob | Email: bob@company.org | Phone: 8765432109\n",
        "OrderID: 45894 | Name: Charlie | Email: charlie_99@mail.net | Phone: 7654321098\"\"\""
      ],
      "metadata": {
        "id": "EoCLBPktVEzH"
      },
      "execution_count": 7,
      "outputs": []
    },
    {
      "cell_type": "markdown",
      "source": [
        "### Task 1: Extract all Order IDs\n"
      ],
      "metadata": {
        "id": "zUbQj5SzVHs8"
      }
    },
    {
      "cell_type": "code",
      "source": [
        "order_ids = re.findall(r\"OrderID: (\\d+)\", customer_log)\n",
        "print(\"Order IDs:\", order_ids)"
      ],
      "metadata": {
        "colab": {
          "base_uri": "https://localhost:8080/"
        },
        "id": "5zgZkOArVIxH",
        "outputId": "0cc84a82-db2f-40a9-b40a-010a8596fd38"
      },
      "execution_count": 8,
      "outputs": [
        {
          "output_type": "stream",
          "name": "stdout",
          "text": [
            "Order IDs: ['45892', '45893', '45894']\n"
          ]
        }
      ]
    },
    {
      "cell_type": "markdown",
      "source": [
        "### Task 2: Extract all email addresses\n"
      ],
      "metadata": {
        "id": "LN9imwDlVLvg"
      }
    },
    {
      "cell_type": "code",
      "source": [
        "emails = re.findall(r\"[\\w.%+-]+@[A-Za-z0-9.-]+\\.[A-Z|a-z]{2,}\", customer_log)\n",
        "print(\"Emails:\", emails)\n",
        "emails = re.findall(r\"[\\w.%+-]+@[A-Za-z0-9.-]+\\.[A-Z|a-z]{2,}\", customer_log)\n",
        "print(\"Emails:\", emails)"
      ],
      "metadata": {
        "colab": {
          "base_uri": "https://localhost:8080/"
        },
        "id": "ToCq3YaiVMjW",
        "outputId": "c977fb93-3e3f-4a69-fd85-55969d35db27"
      },
      "execution_count": 9,
      "outputs": [
        {
          "output_type": "stream",
          "name": "stdout",
          "text": [
            "Emails: ['alice.wonder@mail.com', 'bob@company.org', 'charlie_99@mail.net']\n",
            "Emails: ['alice.wonder@mail.com', 'bob@company.org', 'charlie_99@mail.net']\n"
          ]
        }
      ]
    },
    {
      "cell_type": "markdown",
      "source": [
        "### Task 3: Find all phone numbers\n"
      ],
      "metadata": {
        "id": "j4GWTRCCVQTP"
      }
    },
    {
      "cell_type": "code",
      "source": [
        "phones = re.findall(r\"\\d{10}\", customer_log)\n",
        "print(\"Phone Numbers:\", phones)"
      ],
      "metadata": {
        "colab": {
          "base_uri": "https://localhost:8080/"
        },
        "id": "kC3JqldKVOpW",
        "outputId": "543332d2-bb09-4257-95a9-35a704385d7a"
      },
      "execution_count": 10,
      "outputs": [
        {
          "output_type": "stream",
          "name": "stdout",
          "text": [
            "Phone Numbers: ['9876543210', '8765432109', '7654321098']\n"
          ]
        }
      ]
    },
    {
      "cell_type": "markdown",
      "source": [
        "### Task 4: Search for first OrderID\n"
      ],
      "metadata": {
        "id": "8fn-4JQKVTUl"
      }
    },
    {
      "cell_type": "code",
      "source": [
        "match = re.search(r\"OrderID: \\d+\", customer_log)\n",
        "if match:\n",
        "    print(\"Matched:\", match.group())\n",
        "    print(\"Start:\", match.start())\n",
        "    print(\"End:\", match.end())"
      ],
      "metadata": {
        "colab": {
          "base_uri": "https://localhost:8080/"
        },
        "id": "ZMnf2el9VXWf",
        "outputId": "d9fcaf78-833f-4fe1-a182-047c083be2d7"
      },
      "execution_count": 11,
      "outputs": [
        {
          "output_type": "stream",
          "name": "stdout",
          "text": [
            "Matched: OrderID: 45892\n",
            "Start: 0\n",
            "End: 14\n"
          ]
        }
      ]
    },
    {
      "cell_type": "markdown",
      "source": [
        "### Task 5: Check if text contains the word \"Charlie\"\n"
      ],
      "metadata": {
        "id": "j84j4ViFVbBH"
      }
    },
    {
      "cell_type": "code",
      "source": [
        "if re.search(r\"Charlie\", customer_log):\n",
        "    print(\"Found\")\n",
        "else:\n",
        "    print(\"Not Found\")"
      ],
      "metadata": {
        "colab": {
          "base_uri": "https://localhost:8080/"
        },
        "id": "vvOzvQZEVZp9",
        "outputId": "09233bb5-55fe-4a66-8df5-d0afc6077f8f"
      },
      "execution_count": 12,
      "outputs": [
        {
          "output_type": "stream",
          "name": "stdout",
          "text": [
            "Found\n"
          ]
        }
      ]
    },
    {
      "cell_type": "markdown",
      "source": [
        "### Task 6: Split wherever `|`\n"
      ],
      "metadata": {
        "id": "CJlUaIMtVfZ_"
      }
    },
    {
      "cell_type": "code",
      "source": [
        "parts = re.split(r\"\\|\", customer_log)\n",
        "print(parts[:5])  # printing first few for readability"
      ],
      "metadata": {
        "colab": {
          "base_uri": "https://localhost:8080/"
        },
        "id": "XqVNLVwHVd7C",
        "outputId": "784988d3-b02d-4821-93a3-e4aec6202604"
      },
      "execution_count": 13,
      "outputs": [
        {
          "output_type": "stream",
          "name": "stdout",
          "text": [
            "['OrderID: 45892 ', ' Name: Alice ', ' Email: alice.wonder@mail.com ', ' Phone: 9876543210\\nOrderID: 45893 ', ' Name: Bob ']\n"
          ]
        }
      ]
    },
    {
      "cell_type": "markdown",
      "source": [
        "### Task 7: Split text into lines"
      ],
      "metadata": {
        "id": "OjDG8n-pVrA-"
      }
    },
    {
      "cell_type": "code",
      "source": [
        "lines = re.split(r\"\\n\", customer_log)\n",
        "print(\"Orders:\", lines)"
      ],
      "metadata": {
        "colab": {
          "base_uri": "https://localhost:8080/"
        },
        "id": "3yhH-z_VVsix",
        "outputId": "1e78190e-5773-4fcd-e8cd-d2b9121c5a4c"
      },
      "execution_count": 14,
      "outputs": [
        {
          "output_type": "stream",
          "name": "stdout",
          "text": [
            "Orders: ['OrderID: 45892 | Name: Alice | Email: alice.wonder@mail.com | Phone: 9876543210', 'OrderID: 45893 | Name: Bob | Email: bob@company.org | Phone: 8765432109', 'OrderID: 45894 | Name: Charlie | Email: charlie_99@mail.net | Phone: 7654321098']\n"
          ]
        }
      ]
    },
    {
      "cell_type": "markdown",
      "source": [
        "### Task 8: Mask all digits in phone numbers"
      ],
      "metadata": {
        "id": "8QHthEx6VwFS"
      }
    },
    {
      "cell_type": "code",
      "source": [
        "masked_log = re.sub(r\"\\d\", \"*\", customer_log)\n",
        "print(masked_log)"
      ],
      "metadata": {
        "colab": {
          "base_uri": "https://localhost:8080/"
        },
        "id": "XOWjeyUcVxOa",
        "outputId": "2f74772a-9a6e-461b-d8df-2b756eb80edc"
      },
      "execution_count": 15,
      "outputs": [
        {
          "output_type": "stream",
          "name": "stdout",
          "text": [
            "OrderID: ***** | Name: Alice | Email: alice.wonder@mail.com | Phone: **********\n",
            "OrderID: ***** | Name: Bob | Email: bob@company.org | Phone: **********\n",
            "OrderID: ***** | Name: Charlie | Email: charlie_**@mail.net | Phone: **********\n"
          ]
        }
      ]
    },
    {
      "cell_type": "markdown",
      "source": [
        "### Task 9: Replace \"OrderID:\" with \"ID-\""
      ],
      "metadata": {
        "id": "TIaTH-tAV1Tf"
      }
    },
    {
      "cell_type": "code",
      "source": [
        "updated_log = re.sub(r\"OrderID:\", \"ID-\", customer_log)\n",
        "print(updated_log)"
      ],
      "metadata": {
        "colab": {
          "base_uri": "https://localhost:8080/"
        },
        "id": "Vkzgzsf5V2of",
        "outputId": "3666e2b1-4df8-4d34-c576-60d966459217"
      },
      "execution_count": 16,
      "outputs": [
        {
          "output_type": "stream",
          "name": "stdout",
          "text": [
            "ID- 45892 | Name: Alice | Email: alice.wonder@mail.com | Phone: 9876543210\n",
            "ID- 45893 | Name: Bob | Email: bob@company.org | Phone: 8765432109\n",
            "ID- 45894 | Name: Charlie | Email: charlie_99@mail.net | Phone: 7654321098\n"
          ]
        }
      ]
    },
    {
      "cell_type": "markdown",
      "source": [
        "### Task 10: Search for first email with positions"
      ],
      "metadata": {
        "id": "_EgzHpuWV8CB"
      }
    },
    {
      "cell_type": "code",
      "source": [
        "match = re.search(r\"[\\w.%+-]+@[A-Za-z0-9.-]+\\.[A-Z|a-z]{2,}\", customer_log)\n",
        "if match:\n",
        "    print(\"Matched email:\", match.group())\n",
        "    print(\"Start:\", match.start())\n",
        "    print(\"End:\", match.end())\n",
        "    print(\"Span:\", match.span())"
      ],
      "metadata": {
        "colab": {
          "base_uri": "https://localhost:8080/"
        },
        "id": "oZyefN2iV5MU",
        "outputId": "bf7d11fd-fb62-4d3f-845c-75d7cb27a581"
      },
      "execution_count": 17,
      "outputs": [
        {
          "output_type": "stream",
          "name": "stdout",
          "text": [
            "Matched email: alice.wonder@mail.com\n",
            "Start: 38\n",
            "End: 59\n",
            "Span: (38, 59)\n"
          ]
        }
      ]
    },
    {
      "cell_type": "markdown",
      "source": [
        "# 🔹 Part B: Web Scraping Practice\n",
        "We will use `requests` and `BeautifulSoup` for scraping.\n"
      ],
      "metadata": {
        "id": "lLNt3BJTWBSt"
      }
    },
    {
      "cell_type": "code",
      "source": [
        "# Install required packages (only needed once in Colab)\n",
        "!pip install beautifulsoup4 requests"
      ],
      "metadata": {
        "colab": {
          "base_uri": "https://localhost:8080/"
        },
        "id": "LHuVFcP0V5I5",
        "outputId": "53d2a6fb-832e-4845-eb45-64189c789aa8"
      },
      "execution_count": 18,
      "outputs": [
        {
          "output_type": "stream",
          "name": "stdout",
          "text": [
            "Requirement already satisfied: beautifulsoup4 in /usr/local/lib/python3.12/dist-packages (4.13.5)\n",
            "Requirement already satisfied: requests in /usr/local/lib/python3.12/dist-packages (2.32.4)\n",
            "Requirement already satisfied: soupsieve>1.2 in /usr/local/lib/python3.12/dist-packages (from beautifulsoup4) (2.8)\n",
            "Requirement already satisfied: typing-extensions>=4.0.0 in /usr/local/lib/python3.12/dist-packages (from beautifulsoup4) (4.15.0)\n",
            "Requirement already satisfied: charset_normalizer<4,>=2 in /usr/local/lib/python3.12/dist-packages (from requests) (3.4.3)\n",
            "Requirement already satisfied: idna<4,>=2.5 in /usr/local/lib/python3.12/dist-packages (from requests) (3.10)\n",
            "Requirement already satisfied: urllib3<3,>=1.21.1 in /usr/local/lib/python3.12/dist-packages (from requests) (2.5.0)\n",
            "Requirement already satisfied: certifi>=2017.4.17 in /usr/local/lib/python3.12/dist-packages (from requests) (2025.8.3)\n"
          ]
        }
      ]
    },
    {
      "cell_type": "markdown",
      "source": [
        "### Example: Scraping from quotes.toscrape.com"
      ],
      "metadata": {
        "id": "BG41a93rWLKq"
      }
    },
    {
      "cell_type": "code",
      "source": [
        "import requests\n",
        "from bs4 import BeautifulSoup\n",
        "\n",
        "url = \"https://quotes.toscrape.com/\"\n",
        "response = requests.get(url)\n",
        "\n",
        "soup = BeautifulSoup(response.text, \"html.parser\")\n",
        "\n",
        "# Extract all quotes and authors\n",
        "quotes = soup.find_all(\"span\", class_=\"text\")\n",
        "authors = soup.find_all(\"small\", class_=\"author\")\n",
        "\n",
        "print(\"Quotes and Authors:\\n\")\n",
        "for quote, author in zip(quotes, authors):\n",
        "    print(f\"{quote.text}  — {author.text}\")"
      ],
      "metadata": {
        "colab": {
          "base_uri": "https://localhost:8080/"
        },
        "id": "8h3rOQVmWIxT",
        "outputId": "b9aff141-371b-4e5b-c681-080f4ee6b3dd"
      },
      "execution_count": 19,
      "outputs": [
        {
          "output_type": "stream",
          "name": "stdout",
          "text": [
            "Quotes and Authors:\n",
            "\n",
            "“The world as we have created it is a process of our thinking. It cannot be changed without changing our thinking.”  — Albert Einstein\n",
            "“It is our choices, Harry, that show what we truly are, far more than our abilities.”  — J.K. Rowling\n",
            "“There are only two ways to live your life. One is as though nothing is a miracle. The other is as though everything is a miracle.”  — Albert Einstein\n",
            "“The person, be it gentleman or lady, who has not pleasure in a good novel, must be intolerably stupid.”  — Jane Austen\n",
            "“Imperfection is beauty, madness is genius and it's better to be absolutely ridiculous than absolutely boring.”  — Marilyn Monroe\n",
            "“Try not to become a man of success. Rather become a man of value.”  — Albert Einstein\n",
            "“It is better to be hated for what you are than to be loved for what you are not.”  — André Gide\n",
            "“I have not failed. I've just found 10,000 ways that won't work.”  — Thomas A. Edison\n",
            "“A woman is like a tea bag; you never know how strong it is until it's in hot water.”  — Eleanor Roosevelt\n",
            "“A day without sunshine is like, you know, night.”  — Steve Martin\n"
          ]
        }
      ]
    },
    {
      "cell_type": "markdown",
      "source": [
        "### Example: Extract all links"
      ],
      "metadata": {
        "id": "3zKLQDQEWQE1"
      }
    },
    {
      "cell_type": "code",
      "source": [
        "print(\"\\nLinks on the page:\")\n",
        "for link in soup.find_all(\"a\"):\n",
        "    print(link.get(\"href\"))"
      ],
      "metadata": {
        "colab": {
          "base_uri": "https://localhost:8080/"
        },
        "id": "Q36DP617WTT9",
        "outputId": "a4df014c-e498-4d4e-f203-6429e3aa1682"
      },
      "execution_count": 20,
      "outputs": [
        {
          "output_type": "stream",
          "name": "stdout",
          "text": [
            "\n",
            "Links on the page:\n",
            "/\n",
            "/login\n",
            "/author/Albert-Einstein\n",
            "/tag/change/page/1/\n",
            "/tag/deep-thoughts/page/1/\n",
            "/tag/thinking/page/1/\n",
            "/tag/world/page/1/\n",
            "/author/J-K-Rowling\n",
            "/tag/abilities/page/1/\n",
            "/tag/choices/page/1/\n",
            "/author/Albert-Einstein\n",
            "/tag/inspirational/page/1/\n",
            "/tag/life/page/1/\n",
            "/tag/live/page/1/\n",
            "/tag/miracle/page/1/\n",
            "/tag/miracles/page/1/\n",
            "/author/Jane-Austen\n",
            "/tag/aliteracy/page/1/\n",
            "/tag/books/page/1/\n",
            "/tag/classic/page/1/\n",
            "/tag/humor/page/1/\n",
            "/author/Marilyn-Monroe\n",
            "/tag/be-yourself/page/1/\n",
            "/tag/inspirational/page/1/\n",
            "/author/Albert-Einstein\n",
            "/tag/adulthood/page/1/\n",
            "/tag/success/page/1/\n",
            "/tag/value/page/1/\n",
            "/author/Andre-Gide\n",
            "/tag/life/page/1/\n",
            "/tag/love/page/1/\n",
            "/author/Thomas-A-Edison\n",
            "/tag/edison/page/1/\n",
            "/tag/failure/page/1/\n",
            "/tag/inspirational/page/1/\n",
            "/tag/paraphrased/page/1/\n",
            "/author/Eleanor-Roosevelt\n",
            "/tag/misattributed-eleanor-roosevelt/page/1/\n",
            "/author/Steve-Martin\n",
            "/tag/humor/page/1/\n",
            "/tag/obvious/page/1/\n",
            "/tag/simile/page/1/\n",
            "/page/2/\n",
            "/tag/love/\n",
            "/tag/inspirational/\n",
            "/tag/life/\n",
            "/tag/humor/\n",
            "/tag/books/\n",
            "/tag/reading/\n",
            "/tag/friendship/\n",
            "/tag/friends/\n",
            "/tag/truth/\n",
            "/tag/simile/\n",
            "https://www.goodreads.com/quotes\n",
            "https://www.zyte.com\n"
          ]
        }
      ]
    },
    {
      "cell_type": "markdown",
      "source": [
        "### Example: Extract heading"
      ],
      "metadata": {
        "id": "L4mXXocPWSC2"
      }
    },
    {
      "cell_type": "code",
      "source": [
        "heading = soup.find(\"h1\")\n",
        "print(\"Heading:\", heading.text)"
      ],
      "metadata": {
        "colab": {
          "base_uri": "https://localhost:8080/"
        },
        "id": "51QhZ1L-WY7Z",
        "outputId": "7bf9258d-5095-4f6f-fc8c-3f7d34c162ee"
      },
      "execution_count": 21,
      "outputs": [
        {
          "output_type": "stream",
          "name": "stdout",
          "text": [
            "Heading: \n",
            "Quotes to Scrape\n",
            "\n"
          ]
        }
      ]
    },
    {
      "cell_type": "markdown",
      "source": [
        "### Task: Scraping Laptops Data from WebScraper.io\n",
        "We scrape: Title, Price, Description, Reviews"
      ],
      "metadata": {
        "id": "f8LFpCgBWdBe"
      }
    },
    {
      "cell_type": "markdown",
      "source": [
        "### 🖥️ Task: Scraping Laptops Data from WebScraper.io\n",
        "We will scrape the following details from the laptops category page:\n",
        "\n",
        "- Product Title  \n",
        "- Product Price  \n",
        "- Product Description  \n",
        "- Number of Reviews  \n",
        "\n",
        "Finally, we will store results in a Pandas DataFrame.\n"
      ],
      "metadata": {
        "id": "Gn6pA8utXtcb"
      }
    },
    {
      "cell_type": "code",
      "source": [
        "# Step 1: Import required libraries\n",
        "import requests\n",
        "from bs4 import BeautifulSoup\n",
        "import pandas as pd"
      ],
      "metadata": {
        "id": "NuK_sVgzX1bu"
      },
      "execution_count": 22,
      "outputs": []
    },
    {
      "cell_type": "code",
      "source": [
        "# Step 2: Send request to the laptops category page\n",
        "url = \"https://webscraper.io/test-sites/e-commerce/static/computers/laptops\"\n",
        "response = requests.get(url)\n",
        "\n",
        "# Parse HTML content\n",
        "soup = BeautifulSoup(response.text, \"html.parser\")"
      ],
      "metadata": {
        "id": "0PKxsZfBX6hR"
      },
      "execution_count": 23,
      "outputs": []
    },
    {
      "cell_type": "code",
      "source": [
        "# Step 3: Find all product containers\n",
        "products = soup.find_all(\"div\", class_=\"thumbnail\")\n",
        "print(\"Total products found on this page:\", len(products))"
      ],
      "metadata": {
        "colab": {
          "base_uri": "https://localhost:8080/"
        },
        "id": "sogEtB9PX8zn",
        "outputId": "989fc4a0-472e-4651-a7eb-54339213fe97"
      },
      "execution_count": 24,
      "outputs": [
        {
          "output_type": "stream",
          "name": "stdout",
          "text": [
            "Total products found on this page: 6\n"
          ]
        }
      ]
    },
    {
      "cell_type": "code",
      "source": [
        "# Step 4: Extract data (Title, Price, Description, Reviews) safely\n",
        "data = []\n",
        "\n",
        "for product in products:\n",
        "    # Title\n",
        "    title = product.find(\"a\", class_=\"title\")\n",
        "    title = title.text.strip() if title else \"N/A\"\n",
        "\n",
        "    # Price (using CSS selector so it works even if multiple classes exist)\n",
        "    price = product.select_one(\"h4.price\")\n",
        "    price = price.text.strip() if price else \"N/A\"\n",
        "\n",
        "    # Description\n",
        "    description = product.find(\"p\", class_=\"description\")\n",
        "    description = description.text.strip() if description else \"N/A\"\n",
        "\n",
        "    # Reviews\n",
        "    reviews = product.find(\"p\", class_=\"pull-right\")\n",
        "    reviews = reviews.text.strip() if reviews else \"N/A\"\n",
        "\n",
        "    # Append to list\n",
        "    data.append([title, price, description, reviews])"
      ],
      "metadata": {
        "id": "ElgCDb6GYA1E"
      },
      "execution_count": 25,
      "outputs": []
    },
    {
      "cell_type": "code",
      "source": [
        "# Step 5: Convert to Pandas DataFrame\n",
        "df = pd.DataFrame(data, columns=[\"Title\", \"Price\", \"Description\", \"Reviews\"])"
      ],
      "metadata": {
        "id": "UEHbCCD1YDll"
      },
      "execution_count": 26,
      "outputs": []
    },
    {
      "cell_type": "code",
      "source": [
        "# Step 6: Display the first 10 rows\n",
        "print(\"✅ Scraping completed successfully!\")\n",
        "print(\"Total products scraped:\", len(df))\n",
        "df.head(10)"
      ],
      "metadata": {
        "colab": {
          "base_uri": "https://localhost:8080/",
          "height": 376
        },
        "id": "xmNxEyC-YGRV",
        "outputId": "22b7e718-efc2-4305-ad32-74e0c0bac973"
      },
      "execution_count": 27,
      "outputs": [
        {
          "output_type": "stream",
          "name": "stdout",
          "text": [
            "✅ Scraping completed successfully!\n",
            "Total products scraped: 6\n"
          ]
        },
        {
          "output_type": "execute_result",
          "data": {
            "text/plain": [
              "            Title     Price  \\\n",
              "0  Packard 255 G2   $416.99   \n",
              "1   Aspire E1-510   $306.99   \n",
              "2  ThinkPad T540p  $1178.99   \n",
              "3         ProBook   $739.99   \n",
              "4   ThinkPad X240  $1311.99   \n",
              "5  Aspire E1-572G   $581.99   \n",
              "\n",
              "                                         Description Reviews  \n",
              "0  15.6\", AMD E2-3800 1.3GHz, 4GB, 500GB, Windows...     N/A  \n",
              "1    15.6\", Pentium N3520 2.16GHz, 4GB, 500GB, Linux     N/A  \n",
              "2   15.6\", Core i5-4200M, 4GB, 500GB, Win7 Pro 64bit     N/A  \n",
              "3    14\", Core i5 2.6GHz, 4GB, 500GB, Win7 Pro 64bit     N/A  \n",
              "4  12.5\", Core i5-4300U, 8GB, 240GB SSD, Win7 Pro...     N/A  \n",
              "5  15.6\", Core i5-4200U, 8GB, 1TB, Radeon R7 M265...     N/A  "
            ],
            "text/html": [
              "\n",
              "  <div id=\"df-fff17b29-8a59-490b-849f-c101034db9c2\" class=\"colab-df-container\">\n",
              "    <div>\n",
              "<style scoped>\n",
              "    .dataframe tbody tr th:only-of-type {\n",
              "        vertical-align: middle;\n",
              "    }\n",
              "\n",
              "    .dataframe tbody tr th {\n",
              "        vertical-align: top;\n",
              "    }\n",
              "\n",
              "    .dataframe thead th {\n",
              "        text-align: right;\n",
              "    }\n",
              "</style>\n",
              "<table border=\"1\" class=\"dataframe\">\n",
              "  <thead>\n",
              "    <tr style=\"text-align: right;\">\n",
              "      <th></th>\n",
              "      <th>Title</th>\n",
              "      <th>Price</th>\n",
              "      <th>Description</th>\n",
              "      <th>Reviews</th>\n",
              "    </tr>\n",
              "  </thead>\n",
              "  <tbody>\n",
              "    <tr>\n",
              "      <th>0</th>\n",
              "      <td>Packard 255 G2</td>\n",
              "      <td>$416.99</td>\n",
              "      <td>15.6\", AMD E2-3800 1.3GHz, 4GB, 500GB, Windows...</td>\n",
              "      <td>N/A</td>\n",
              "    </tr>\n",
              "    <tr>\n",
              "      <th>1</th>\n",
              "      <td>Aspire E1-510</td>\n",
              "      <td>$306.99</td>\n",
              "      <td>15.6\", Pentium N3520 2.16GHz, 4GB, 500GB, Linux</td>\n",
              "      <td>N/A</td>\n",
              "    </tr>\n",
              "    <tr>\n",
              "      <th>2</th>\n",
              "      <td>ThinkPad T540p</td>\n",
              "      <td>$1178.99</td>\n",
              "      <td>15.6\", Core i5-4200M, 4GB, 500GB, Win7 Pro 64bit</td>\n",
              "      <td>N/A</td>\n",
              "    </tr>\n",
              "    <tr>\n",
              "      <th>3</th>\n",
              "      <td>ProBook</td>\n",
              "      <td>$739.99</td>\n",
              "      <td>14\", Core i5 2.6GHz, 4GB, 500GB, Win7 Pro 64bit</td>\n",
              "      <td>N/A</td>\n",
              "    </tr>\n",
              "    <tr>\n",
              "      <th>4</th>\n",
              "      <td>ThinkPad X240</td>\n",
              "      <td>$1311.99</td>\n",
              "      <td>12.5\", Core i5-4300U, 8GB, 240GB SSD, Win7 Pro...</td>\n",
              "      <td>N/A</td>\n",
              "    </tr>\n",
              "    <tr>\n",
              "      <th>5</th>\n",
              "      <td>Aspire E1-572G</td>\n",
              "      <td>$581.99</td>\n",
              "      <td>15.6\", Core i5-4200U, 8GB, 1TB, Radeon R7 M265...</td>\n",
              "      <td>N/A</td>\n",
              "    </tr>\n",
              "  </tbody>\n",
              "</table>\n",
              "</div>\n",
              "    <div class=\"colab-df-buttons\">\n",
              "\n",
              "  <div class=\"colab-df-container\">\n",
              "    <button class=\"colab-df-convert\" onclick=\"convertToInteractive('df-fff17b29-8a59-490b-849f-c101034db9c2')\"\n",
              "            title=\"Convert this dataframe to an interactive table.\"\n",
              "            style=\"display:none;\">\n",
              "\n",
              "  <svg xmlns=\"http://www.w3.org/2000/svg\" height=\"24px\" viewBox=\"0 -960 960 960\">\n",
              "    <path d=\"M120-120v-720h720v720H120Zm60-500h600v-160H180v160Zm220 220h160v-160H400v160Zm0 220h160v-160H400v160ZM180-400h160v-160H180v160Zm440 0h160v-160H620v160ZM180-180h160v-160H180v160Zm440 0h160v-160H620v160Z\"/>\n",
              "  </svg>\n",
              "    </button>\n",
              "\n",
              "  <style>\n",
              "    .colab-df-container {\n",
              "      display:flex;\n",
              "      gap: 12px;\n",
              "    }\n",
              "\n",
              "    .colab-df-convert {\n",
              "      background-color: #E8F0FE;\n",
              "      border: none;\n",
              "      border-radius: 50%;\n",
              "      cursor: pointer;\n",
              "      display: none;\n",
              "      fill: #1967D2;\n",
              "      height: 32px;\n",
              "      padding: 0 0 0 0;\n",
              "      width: 32px;\n",
              "    }\n",
              "\n",
              "    .colab-df-convert:hover {\n",
              "      background-color: #E2EBFA;\n",
              "      box-shadow: 0px 1px 2px rgba(60, 64, 67, 0.3), 0px 1px 3px 1px rgba(60, 64, 67, 0.15);\n",
              "      fill: #174EA6;\n",
              "    }\n",
              "\n",
              "    .colab-df-buttons div {\n",
              "      margin-bottom: 4px;\n",
              "    }\n",
              "\n",
              "    [theme=dark] .colab-df-convert {\n",
              "      background-color: #3B4455;\n",
              "      fill: #D2E3FC;\n",
              "    }\n",
              "\n",
              "    [theme=dark] .colab-df-convert:hover {\n",
              "      background-color: #434B5C;\n",
              "      box-shadow: 0px 1px 3px 1px rgba(0, 0, 0, 0.15);\n",
              "      filter: drop-shadow(0px 1px 2px rgba(0, 0, 0, 0.3));\n",
              "      fill: #FFFFFF;\n",
              "    }\n",
              "  </style>\n",
              "\n",
              "    <script>\n",
              "      const buttonEl =\n",
              "        document.querySelector('#df-fff17b29-8a59-490b-849f-c101034db9c2 button.colab-df-convert');\n",
              "      buttonEl.style.display =\n",
              "        google.colab.kernel.accessAllowed ? 'block' : 'none';\n",
              "\n",
              "      async function convertToInteractive(key) {\n",
              "        const element = document.querySelector('#df-fff17b29-8a59-490b-849f-c101034db9c2');\n",
              "        const dataTable =\n",
              "          await google.colab.kernel.invokeFunction('convertToInteractive',\n",
              "                                                    [key], {});\n",
              "        if (!dataTable) return;\n",
              "\n",
              "        const docLinkHtml = 'Like what you see? Visit the ' +\n",
              "          '<a target=\"_blank\" href=https://colab.research.google.com/notebooks/data_table.ipynb>data table notebook</a>'\n",
              "          + ' to learn more about interactive tables.';\n",
              "        element.innerHTML = '';\n",
              "        dataTable['output_type'] = 'display_data';\n",
              "        await google.colab.output.renderOutput(dataTable, element);\n",
              "        const docLink = document.createElement('div');\n",
              "        docLink.innerHTML = docLinkHtml;\n",
              "        element.appendChild(docLink);\n",
              "      }\n",
              "    </script>\n",
              "  </div>\n",
              "\n",
              "\n",
              "    <div id=\"df-1104e679-d23b-485f-b11e-7c2cba56f9a0\">\n",
              "      <button class=\"colab-df-quickchart\" onclick=\"quickchart('df-1104e679-d23b-485f-b11e-7c2cba56f9a0')\"\n",
              "                title=\"Suggest charts\"\n",
              "                style=\"display:none;\">\n",
              "\n",
              "<svg xmlns=\"http://www.w3.org/2000/svg\" height=\"24px\"viewBox=\"0 0 24 24\"\n",
              "     width=\"24px\">\n",
              "    <g>\n",
              "        <path d=\"M19 3H5c-1.1 0-2 .9-2 2v14c0 1.1.9 2 2 2h14c1.1 0 2-.9 2-2V5c0-1.1-.9-2-2-2zM9 17H7v-7h2v7zm4 0h-2V7h2v10zm4 0h-2v-4h2v4z\"/>\n",
              "    </g>\n",
              "</svg>\n",
              "      </button>\n",
              "\n",
              "<style>\n",
              "  .colab-df-quickchart {\n",
              "      --bg-color: #E8F0FE;\n",
              "      --fill-color: #1967D2;\n",
              "      --hover-bg-color: #E2EBFA;\n",
              "      --hover-fill-color: #174EA6;\n",
              "      --disabled-fill-color: #AAA;\n",
              "      --disabled-bg-color: #DDD;\n",
              "  }\n",
              "\n",
              "  [theme=dark] .colab-df-quickchart {\n",
              "      --bg-color: #3B4455;\n",
              "      --fill-color: #D2E3FC;\n",
              "      --hover-bg-color: #434B5C;\n",
              "      --hover-fill-color: #FFFFFF;\n",
              "      --disabled-bg-color: #3B4455;\n",
              "      --disabled-fill-color: #666;\n",
              "  }\n",
              "\n",
              "  .colab-df-quickchart {\n",
              "    background-color: var(--bg-color);\n",
              "    border: none;\n",
              "    border-radius: 50%;\n",
              "    cursor: pointer;\n",
              "    display: none;\n",
              "    fill: var(--fill-color);\n",
              "    height: 32px;\n",
              "    padding: 0;\n",
              "    width: 32px;\n",
              "  }\n",
              "\n",
              "  .colab-df-quickchart:hover {\n",
              "    background-color: var(--hover-bg-color);\n",
              "    box-shadow: 0 1px 2px rgba(60, 64, 67, 0.3), 0 1px 3px 1px rgba(60, 64, 67, 0.15);\n",
              "    fill: var(--button-hover-fill-color);\n",
              "  }\n",
              "\n",
              "  .colab-df-quickchart-complete:disabled,\n",
              "  .colab-df-quickchart-complete:disabled:hover {\n",
              "    background-color: var(--disabled-bg-color);\n",
              "    fill: var(--disabled-fill-color);\n",
              "    box-shadow: none;\n",
              "  }\n",
              "\n",
              "  .colab-df-spinner {\n",
              "    border: 2px solid var(--fill-color);\n",
              "    border-color: transparent;\n",
              "    border-bottom-color: var(--fill-color);\n",
              "    animation:\n",
              "      spin 1s steps(1) infinite;\n",
              "  }\n",
              "\n",
              "  @keyframes spin {\n",
              "    0% {\n",
              "      border-color: transparent;\n",
              "      border-bottom-color: var(--fill-color);\n",
              "      border-left-color: var(--fill-color);\n",
              "    }\n",
              "    20% {\n",
              "      border-color: transparent;\n",
              "      border-left-color: var(--fill-color);\n",
              "      border-top-color: var(--fill-color);\n",
              "    }\n",
              "    30% {\n",
              "      border-color: transparent;\n",
              "      border-left-color: var(--fill-color);\n",
              "      border-top-color: var(--fill-color);\n",
              "      border-right-color: var(--fill-color);\n",
              "    }\n",
              "    40% {\n",
              "      border-color: transparent;\n",
              "      border-right-color: var(--fill-color);\n",
              "      border-top-color: var(--fill-color);\n",
              "    }\n",
              "    60% {\n",
              "      border-color: transparent;\n",
              "      border-right-color: var(--fill-color);\n",
              "    }\n",
              "    80% {\n",
              "      border-color: transparent;\n",
              "      border-right-color: var(--fill-color);\n",
              "      border-bottom-color: var(--fill-color);\n",
              "    }\n",
              "    90% {\n",
              "      border-color: transparent;\n",
              "      border-bottom-color: var(--fill-color);\n",
              "    }\n",
              "  }\n",
              "</style>\n",
              "\n",
              "      <script>\n",
              "        async function quickchart(key) {\n",
              "          const quickchartButtonEl =\n",
              "            document.querySelector('#' + key + ' button');\n",
              "          quickchartButtonEl.disabled = true;  // To prevent multiple clicks.\n",
              "          quickchartButtonEl.classList.add('colab-df-spinner');\n",
              "          try {\n",
              "            const charts = await google.colab.kernel.invokeFunction(\n",
              "                'suggestCharts', [key], {});\n",
              "          } catch (error) {\n",
              "            console.error('Error during call to suggestCharts:', error);\n",
              "          }\n",
              "          quickchartButtonEl.classList.remove('colab-df-spinner');\n",
              "          quickchartButtonEl.classList.add('colab-df-quickchart-complete');\n",
              "        }\n",
              "        (() => {\n",
              "          let quickchartButtonEl =\n",
              "            document.querySelector('#df-1104e679-d23b-485f-b11e-7c2cba56f9a0 button');\n",
              "          quickchartButtonEl.style.display =\n",
              "            google.colab.kernel.accessAllowed ? 'block' : 'none';\n",
              "        })();\n",
              "      </script>\n",
              "    </div>\n",
              "\n",
              "    </div>\n",
              "  </div>\n"
            ],
            "application/vnd.google.colaboratory.intrinsic+json": {
              "type": "dataframe",
              "variable_name": "df",
              "summary": "{\n  \"name\": \"df\",\n  \"rows\": 6,\n  \"fields\": [\n    {\n      \"column\": \"Title\",\n      \"properties\": {\n        \"dtype\": \"string\",\n        \"num_unique_values\": 6,\n        \"samples\": [\n          \"Packard 255 G2\",\n          \"Aspire E1-510\",\n          \"Aspire E1-572G\"\n        ],\n        \"semantic_type\": \"\",\n        \"description\": \"\"\n      }\n    },\n    {\n      \"column\": \"Price\",\n      \"properties\": {\n        \"dtype\": \"string\",\n        \"num_unique_values\": 6,\n        \"samples\": [\n          \"$416.99\",\n          \"$306.99\",\n          \"$581.99\"\n        ],\n        \"semantic_type\": \"\",\n        \"description\": \"\"\n      }\n    },\n    {\n      \"column\": \"Description\",\n      \"properties\": {\n        \"dtype\": \"string\",\n        \"num_unique_values\": 6,\n        \"samples\": [\n          \"15.6\\\", AMD E2-3800 1.3GHz, 4GB, 500GB, Windows 8.1\",\n          \"15.6\\\", Pentium N3520 2.16GHz, 4GB, 500GB, Linux\",\n          \"15.6\\\", Core i5-4200U, 8GB, 1TB, Radeon R7 M265, Windows 8.1\"\n        ],\n        \"semantic_type\": \"\",\n        \"description\": \"\"\n      }\n    },\n    {\n      \"column\": \"Reviews\",\n      \"properties\": {\n        \"dtype\": \"category\",\n        \"num_unique_values\": 1,\n        \"samples\": [\n          \"N/A\"\n        ],\n        \"semantic_type\": \"\",\n        \"description\": \"\"\n      }\n    }\n  ]\n}"
            }
          },
          "metadata": {},
          "execution_count": 27
        }
      ]
    },
    {
      "cell_type": "markdown",
      "source": [
        "### 🖥️ Task: Scraping All Laptops Data with Pagination\n",
        "We will:\n",
        "- Loop through all pages of laptops\n",
        "- Extract Title, Price, Description, Reviews\n",
        "- Stop when no more products are found\n",
        "- Store results in a Pandas DataFrame"
      ],
      "metadata": {
        "id": "Ysr6cmoNYN3L"
      }
    },
    {
      "cell_type": "code",
      "source": [
        "# Step 1: Import required libraries\n",
        "import requests\n",
        "from bs4 import BeautifulSoup\n",
        "import pandas as pd"
      ],
      "metadata": {
        "id": "sDn2APqCYO8S"
      },
      "execution_count": 28,
      "outputs": []
    },
    {
      "cell_type": "code",
      "source": [
        "# Step 2: Initialize variables\n",
        "all_data = []   # to store all laptops data\n",
        "page = 1        # start from page 1"
      ],
      "metadata": {
        "id": "_FRzBn7gYRVG"
      },
      "execution_count": 29,
      "outputs": []
    },
    {
      "cell_type": "code",
      "source": [
        "# Step 3: Loop through all pages until no products are found\n",
        "while True:\n",
        "    url = f\"https://webscraper.io/test-sites/e-commerce/static/computers/laptops?page={page}\"\n",
        "    response = requests.get(url)\n",
        "    soup = BeautifulSoup(response.text, \"html.parser\")\n",
        "\n",
        "    products = soup.find_all(\"div\", class_=\"thumbnail\")\n",
        "    if not products:   # stop if no products on page\n",
        "        break\n",
        "\n",
        "    for product in products:\n",
        "        # Title\n",
        "        title = product.find(\"a\", class_=\"title\")\n",
        "        title = title.text.strip() if title else \"N/A\"\n",
        "\n",
        "        # Price (safe selector)\n",
        "        price = product.select_one(\"h4.price\")\n",
        "        price = price.text.strip() if price else \"N/A\"\n",
        "\n",
        "        # Description\n",
        "        description = product.find(\"p\", class_=\"description\")\n",
        "        description = description.text.strip() if description else \"N/A\"\n",
        "\n",
        "        # Reviews\n",
        "        reviews = product.find(\"p\", class_=\"pull-right\")\n",
        "        reviews = reviews.text.strip() if reviews else \"N/A\"\n",
        "\n",
        "        # Append to data list\n",
        "        all_data.append([title, price, description, reviews])\n",
        "\n",
        "    print(f\"✅ Page {page} scraped successfully with {len(products)} products.\")\n",
        "    page += 1   # move to next page"
      ],
      "metadata": {
        "colab": {
          "base_uri": "https://localhost:8080/"
        },
        "id": "w_V8cBbyYUCD",
        "outputId": "f4f58054-ba94-47b1-c283-8671a2441f75"
      },
      "execution_count": 30,
      "outputs": [
        {
          "output_type": "stream",
          "name": "stdout",
          "text": [
            "✅ Page 1 scraped successfully with 6 products.\n",
            "✅ Page 2 scraped successfully with 6 products.\n",
            "✅ Page 3 scraped successfully with 6 products.\n",
            "✅ Page 4 scraped successfully with 6 products.\n",
            "✅ Page 5 scraped successfully with 6 products.\n",
            "✅ Page 6 scraped successfully with 6 products.\n",
            "✅ Page 7 scraped successfully with 6 products.\n",
            "✅ Page 8 scraped successfully with 6 products.\n",
            "✅ Page 9 scraped successfully with 6 products.\n",
            "✅ Page 10 scraped successfully with 6 products.\n",
            "✅ Page 11 scraped successfully with 6 products.\n",
            "✅ Page 12 scraped successfully with 6 products.\n",
            "✅ Page 13 scraped successfully with 6 products.\n",
            "✅ Page 14 scraped successfully with 6 products.\n",
            "✅ Page 15 scraped successfully with 6 products.\n",
            "✅ Page 16 scraped successfully with 6 products.\n",
            "✅ Page 17 scraped successfully with 6 products.\n",
            "✅ Page 18 scraped successfully with 6 products.\n",
            "✅ Page 19 scraped successfully with 6 products.\n",
            "✅ Page 20 scraped successfully with 3 products.\n"
          ]
        }
      ]
    },
    {
      "cell_type": "code",
      "source": [
        "# Step 4: Convert collected data to Pandas DataFrame\n",
        "df_all = pd.DataFrame(all_data, columns=[\"Title\", \"Price\", \"Description\", \"Reviews\"])"
      ],
      "metadata": {
        "id": "jDVHYQAxYYq5"
      },
      "execution_count": 31,
      "outputs": []
    },
    {
      "cell_type": "code",
      "source": [
        "# Step 5: Display results\n",
        "print(\"Total products scraped across all pages:\", len(df_all))\n",
        "df_all.head(10)"
      ],
      "metadata": {
        "colab": {
          "base_uri": "https://localhost:8080/",
          "height": 554
        },
        "id": "VfsUJX-fWxvh",
        "outputId": "7e92a998-dbe5-44fb-b5ef-a5c15a3fc63c"
      },
      "execution_count": 32,
      "outputs": [
        {
          "output_type": "stream",
          "name": "stdout",
          "text": [
            "Total products scraped across all pages: 117\n"
          ]
        },
        {
          "output_type": "execute_result",
          "data": {
            "text/plain": [
              "            Title     Price  \\\n",
              "0  Packard 255 G2   $416.99   \n",
              "1   Aspire E1-510   $306.99   \n",
              "2  ThinkPad T540p  $1178.99   \n",
              "3         ProBook   $739.99   \n",
              "4   ThinkPad X240  $1311.99   \n",
              "5  Aspire E1-572G   $581.99   \n",
              "6   ThinkPad Yoga  $1033.99   \n",
              "7        Pavilion   $609.99   \n",
              "8     Inspiron 15   $745.99   \n",
              "9     Dell XPS 13  $1281.99   \n",
              "\n",
              "                                         Description Reviews  \n",
              "0  15.6\", AMD E2-3800 1.3GHz, 4GB, 500GB, Windows...     N/A  \n",
              "1    15.6\", Pentium N3520 2.16GHz, 4GB, 500GB, Linux     N/A  \n",
              "2   15.6\", Core i5-4200M, 4GB, 500GB, Win7 Pro 64bit     N/A  \n",
              "3    14\", Core i5 2.6GHz, 4GB, 500GB, Win7 Pro 64bit     N/A  \n",
              "4  12.5\", Core i5-4300U, 8GB, 240GB SSD, Win7 Pro...     N/A  \n",
              "5  15.6\", Core i5-4200U, 8GB, 1TB, Radeon R7 M265...     N/A  \n",
              "6  12.5\" Touch, Core i3-4010U, 4GB, 500GB + 16GB ...     N/A  \n",
              "7      15.6\", Core i5-4200U, 6GB, 750GB, Windows 8.1     N/A  \n",
              "8  Moon Silver, 15.6\", Core i7-4510U, 8GB, 1TB, R...     N/A  \n",
              "9  13.3\" Touch, Core i5-4210U, 8GB, 128GB SSD, Wi...     N/A  "
            ],
            "text/html": [
              "\n",
              "  <div id=\"df-14519036-3a78-42c7-a398-54b7d9295053\" class=\"colab-df-container\">\n",
              "    <div>\n",
              "<style scoped>\n",
              "    .dataframe tbody tr th:only-of-type {\n",
              "        vertical-align: middle;\n",
              "    }\n",
              "\n",
              "    .dataframe tbody tr th {\n",
              "        vertical-align: top;\n",
              "    }\n",
              "\n",
              "    .dataframe thead th {\n",
              "        text-align: right;\n",
              "    }\n",
              "</style>\n",
              "<table border=\"1\" class=\"dataframe\">\n",
              "  <thead>\n",
              "    <tr style=\"text-align: right;\">\n",
              "      <th></th>\n",
              "      <th>Title</th>\n",
              "      <th>Price</th>\n",
              "      <th>Description</th>\n",
              "      <th>Reviews</th>\n",
              "    </tr>\n",
              "  </thead>\n",
              "  <tbody>\n",
              "    <tr>\n",
              "      <th>0</th>\n",
              "      <td>Packard 255 G2</td>\n",
              "      <td>$416.99</td>\n",
              "      <td>15.6\", AMD E2-3800 1.3GHz, 4GB, 500GB, Windows...</td>\n",
              "      <td>N/A</td>\n",
              "    </tr>\n",
              "    <tr>\n",
              "      <th>1</th>\n",
              "      <td>Aspire E1-510</td>\n",
              "      <td>$306.99</td>\n",
              "      <td>15.6\", Pentium N3520 2.16GHz, 4GB, 500GB, Linux</td>\n",
              "      <td>N/A</td>\n",
              "    </tr>\n",
              "    <tr>\n",
              "      <th>2</th>\n",
              "      <td>ThinkPad T540p</td>\n",
              "      <td>$1178.99</td>\n",
              "      <td>15.6\", Core i5-4200M, 4GB, 500GB, Win7 Pro 64bit</td>\n",
              "      <td>N/A</td>\n",
              "    </tr>\n",
              "    <tr>\n",
              "      <th>3</th>\n",
              "      <td>ProBook</td>\n",
              "      <td>$739.99</td>\n",
              "      <td>14\", Core i5 2.6GHz, 4GB, 500GB, Win7 Pro 64bit</td>\n",
              "      <td>N/A</td>\n",
              "    </tr>\n",
              "    <tr>\n",
              "      <th>4</th>\n",
              "      <td>ThinkPad X240</td>\n",
              "      <td>$1311.99</td>\n",
              "      <td>12.5\", Core i5-4300U, 8GB, 240GB SSD, Win7 Pro...</td>\n",
              "      <td>N/A</td>\n",
              "    </tr>\n",
              "    <tr>\n",
              "      <th>5</th>\n",
              "      <td>Aspire E1-572G</td>\n",
              "      <td>$581.99</td>\n",
              "      <td>15.6\", Core i5-4200U, 8GB, 1TB, Radeon R7 M265...</td>\n",
              "      <td>N/A</td>\n",
              "    </tr>\n",
              "    <tr>\n",
              "      <th>6</th>\n",
              "      <td>ThinkPad Yoga</td>\n",
              "      <td>$1033.99</td>\n",
              "      <td>12.5\" Touch, Core i3-4010U, 4GB, 500GB + 16GB ...</td>\n",
              "      <td>N/A</td>\n",
              "    </tr>\n",
              "    <tr>\n",
              "      <th>7</th>\n",
              "      <td>Pavilion</td>\n",
              "      <td>$609.99</td>\n",
              "      <td>15.6\", Core i5-4200U, 6GB, 750GB, Windows 8.1</td>\n",
              "      <td>N/A</td>\n",
              "    </tr>\n",
              "    <tr>\n",
              "      <th>8</th>\n",
              "      <td>Inspiron 15</td>\n",
              "      <td>$745.99</td>\n",
              "      <td>Moon Silver, 15.6\", Core i7-4510U, 8GB, 1TB, R...</td>\n",
              "      <td>N/A</td>\n",
              "    </tr>\n",
              "    <tr>\n",
              "      <th>9</th>\n",
              "      <td>Dell XPS 13</td>\n",
              "      <td>$1281.99</td>\n",
              "      <td>13.3\" Touch, Core i5-4210U, 8GB, 128GB SSD, Wi...</td>\n",
              "      <td>N/A</td>\n",
              "    </tr>\n",
              "  </tbody>\n",
              "</table>\n",
              "</div>\n",
              "    <div class=\"colab-df-buttons\">\n",
              "\n",
              "  <div class=\"colab-df-container\">\n",
              "    <button class=\"colab-df-convert\" onclick=\"convertToInteractive('df-14519036-3a78-42c7-a398-54b7d9295053')\"\n",
              "            title=\"Convert this dataframe to an interactive table.\"\n",
              "            style=\"display:none;\">\n",
              "\n",
              "  <svg xmlns=\"http://www.w3.org/2000/svg\" height=\"24px\" viewBox=\"0 -960 960 960\">\n",
              "    <path d=\"M120-120v-720h720v720H120Zm60-500h600v-160H180v160Zm220 220h160v-160H400v160Zm0 220h160v-160H400v160ZM180-400h160v-160H180v160Zm440 0h160v-160H620v160ZM180-180h160v-160H180v160Zm440 0h160v-160H620v160Z\"/>\n",
              "  </svg>\n",
              "    </button>\n",
              "\n",
              "  <style>\n",
              "    .colab-df-container {\n",
              "      display:flex;\n",
              "      gap: 12px;\n",
              "    }\n",
              "\n",
              "    .colab-df-convert {\n",
              "      background-color: #E8F0FE;\n",
              "      border: none;\n",
              "      border-radius: 50%;\n",
              "      cursor: pointer;\n",
              "      display: none;\n",
              "      fill: #1967D2;\n",
              "      height: 32px;\n",
              "      padding: 0 0 0 0;\n",
              "      width: 32px;\n",
              "    }\n",
              "\n",
              "    .colab-df-convert:hover {\n",
              "      background-color: #E2EBFA;\n",
              "      box-shadow: 0px 1px 2px rgba(60, 64, 67, 0.3), 0px 1px 3px 1px rgba(60, 64, 67, 0.15);\n",
              "      fill: #174EA6;\n",
              "    }\n",
              "\n",
              "    .colab-df-buttons div {\n",
              "      margin-bottom: 4px;\n",
              "    }\n",
              "\n",
              "    [theme=dark] .colab-df-convert {\n",
              "      background-color: #3B4455;\n",
              "      fill: #D2E3FC;\n",
              "    }\n",
              "\n",
              "    [theme=dark] .colab-df-convert:hover {\n",
              "      background-color: #434B5C;\n",
              "      box-shadow: 0px 1px 3px 1px rgba(0, 0, 0, 0.15);\n",
              "      filter: drop-shadow(0px 1px 2px rgba(0, 0, 0, 0.3));\n",
              "      fill: #FFFFFF;\n",
              "    }\n",
              "  </style>\n",
              "\n",
              "    <script>\n",
              "      const buttonEl =\n",
              "        document.querySelector('#df-14519036-3a78-42c7-a398-54b7d9295053 button.colab-df-convert');\n",
              "      buttonEl.style.display =\n",
              "        google.colab.kernel.accessAllowed ? 'block' : 'none';\n",
              "\n",
              "      async function convertToInteractive(key) {\n",
              "        const element = document.querySelector('#df-14519036-3a78-42c7-a398-54b7d9295053');\n",
              "        const dataTable =\n",
              "          await google.colab.kernel.invokeFunction('convertToInteractive',\n",
              "                                                    [key], {});\n",
              "        if (!dataTable) return;\n",
              "\n",
              "        const docLinkHtml = 'Like what you see? Visit the ' +\n",
              "          '<a target=\"_blank\" href=https://colab.research.google.com/notebooks/data_table.ipynb>data table notebook</a>'\n",
              "          + ' to learn more about interactive tables.';\n",
              "        element.innerHTML = '';\n",
              "        dataTable['output_type'] = 'display_data';\n",
              "        await google.colab.output.renderOutput(dataTable, element);\n",
              "        const docLink = document.createElement('div');\n",
              "        docLink.innerHTML = docLinkHtml;\n",
              "        element.appendChild(docLink);\n",
              "      }\n",
              "    </script>\n",
              "  </div>\n",
              "\n",
              "\n",
              "    <div id=\"df-e8a64149-42e5-4075-8877-bc4752141510\">\n",
              "      <button class=\"colab-df-quickchart\" onclick=\"quickchart('df-e8a64149-42e5-4075-8877-bc4752141510')\"\n",
              "                title=\"Suggest charts\"\n",
              "                style=\"display:none;\">\n",
              "\n",
              "<svg xmlns=\"http://www.w3.org/2000/svg\" height=\"24px\"viewBox=\"0 0 24 24\"\n",
              "     width=\"24px\">\n",
              "    <g>\n",
              "        <path d=\"M19 3H5c-1.1 0-2 .9-2 2v14c0 1.1.9 2 2 2h14c1.1 0 2-.9 2-2V5c0-1.1-.9-2-2-2zM9 17H7v-7h2v7zm4 0h-2V7h2v10zm4 0h-2v-4h2v4z\"/>\n",
              "    </g>\n",
              "</svg>\n",
              "      </button>\n",
              "\n",
              "<style>\n",
              "  .colab-df-quickchart {\n",
              "      --bg-color: #E8F0FE;\n",
              "      --fill-color: #1967D2;\n",
              "      --hover-bg-color: #E2EBFA;\n",
              "      --hover-fill-color: #174EA6;\n",
              "      --disabled-fill-color: #AAA;\n",
              "      --disabled-bg-color: #DDD;\n",
              "  }\n",
              "\n",
              "  [theme=dark] .colab-df-quickchart {\n",
              "      --bg-color: #3B4455;\n",
              "      --fill-color: #D2E3FC;\n",
              "      --hover-bg-color: #434B5C;\n",
              "      --hover-fill-color: #FFFFFF;\n",
              "      --disabled-bg-color: #3B4455;\n",
              "      --disabled-fill-color: #666;\n",
              "  }\n",
              "\n",
              "  .colab-df-quickchart {\n",
              "    background-color: var(--bg-color);\n",
              "    border: none;\n",
              "    border-radius: 50%;\n",
              "    cursor: pointer;\n",
              "    display: none;\n",
              "    fill: var(--fill-color);\n",
              "    height: 32px;\n",
              "    padding: 0;\n",
              "    width: 32px;\n",
              "  }\n",
              "\n",
              "  .colab-df-quickchart:hover {\n",
              "    background-color: var(--hover-bg-color);\n",
              "    box-shadow: 0 1px 2px rgba(60, 64, 67, 0.3), 0 1px 3px 1px rgba(60, 64, 67, 0.15);\n",
              "    fill: var(--button-hover-fill-color);\n",
              "  }\n",
              "\n",
              "  .colab-df-quickchart-complete:disabled,\n",
              "  .colab-df-quickchart-complete:disabled:hover {\n",
              "    background-color: var(--disabled-bg-color);\n",
              "    fill: var(--disabled-fill-color);\n",
              "    box-shadow: none;\n",
              "  }\n",
              "\n",
              "  .colab-df-spinner {\n",
              "    border: 2px solid var(--fill-color);\n",
              "    border-color: transparent;\n",
              "    border-bottom-color: var(--fill-color);\n",
              "    animation:\n",
              "      spin 1s steps(1) infinite;\n",
              "  }\n",
              "\n",
              "  @keyframes spin {\n",
              "    0% {\n",
              "      border-color: transparent;\n",
              "      border-bottom-color: var(--fill-color);\n",
              "      border-left-color: var(--fill-color);\n",
              "    }\n",
              "    20% {\n",
              "      border-color: transparent;\n",
              "      border-left-color: var(--fill-color);\n",
              "      border-top-color: var(--fill-color);\n",
              "    }\n",
              "    30% {\n",
              "      border-color: transparent;\n",
              "      border-left-color: var(--fill-color);\n",
              "      border-top-color: var(--fill-color);\n",
              "      border-right-color: var(--fill-color);\n",
              "    }\n",
              "    40% {\n",
              "      border-color: transparent;\n",
              "      border-right-color: var(--fill-color);\n",
              "      border-top-color: var(--fill-color);\n",
              "    }\n",
              "    60% {\n",
              "      border-color: transparent;\n",
              "      border-right-color: var(--fill-color);\n",
              "    }\n",
              "    80% {\n",
              "      border-color: transparent;\n",
              "      border-right-color: var(--fill-color);\n",
              "      border-bottom-color: var(--fill-color);\n",
              "    }\n",
              "    90% {\n",
              "      border-color: transparent;\n",
              "      border-bottom-color: var(--fill-color);\n",
              "    }\n",
              "  }\n",
              "</style>\n",
              "\n",
              "      <script>\n",
              "        async function quickchart(key) {\n",
              "          const quickchartButtonEl =\n",
              "            document.querySelector('#' + key + ' button');\n",
              "          quickchartButtonEl.disabled = true;  // To prevent multiple clicks.\n",
              "          quickchartButtonEl.classList.add('colab-df-spinner');\n",
              "          try {\n",
              "            const charts = await google.colab.kernel.invokeFunction(\n",
              "                'suggestCharts', [key], {});\n",
              "          } catch (error) {\n",
              "            console.error('Error during call to suggestCharts:', error);\n",
              "          }\n",
              "          quickchartButtonEl.classList.remove('colab-df-spinner');\n",
              "          quickchartButtonEl.classList.add('colab-df-quickchart-complete');\n",
              "        }\n",
              "        (() => {\n",
              "          let quickchartButtonEl =\n",
              "            document.querySelector('#df-e8a64149-42e5-4075-8877-bc4752141510 button');\n",
              "          quickchartButtonEl.style.display =\n",
              "            google.colab.kernel.accessAllowed ? 'block' : 'none';\n",
              "        })();\n",
              "      </script>\n",
              "    </div>\n",
              "\n",
              "    </div>\n",
              "  </div>\n"
            ],
            "application/vnd.google.colaboratory.intrinsic+json": {
              "type": "dataframe",
              "variable_name": "df_all",
              "summary": "{\n  \"name\": \"df_all\",\n  \"rows\": 117,\n  \"fields\": [\n    {\n      \"column\": \"Title\",\n      \"properties\": {\n        \"dtype\": \"category\",\n        \"num_unique_values\": 52,\n        \"samples\": [\n          \"Acer Nitro 5 A...\",\n          \"Lenovo Yoga 72...\",\n          \"Lenovo IdeaPad...\"\n        ],\n        \"semantic_type\": \"\",\n        \"description\": \"\"\n      }\n    },\n    {\n      \"column\": \"Price\",\n      \"properties\": {\n        \"dtype\": \"string\",\n        \"num_unique_values\": 108,\n        \"samples\": [\n          \"$1154.04\",\n          \"$1244.99\",\n          \"$1311.99\"\n        ],\n        \"semantic_type\": \"\",\n        \"description\": \"\"\n      }\n    },\n    {\n      \"column\": \"Description\",\n      \"properties\": {\n        \"dtype\": \"string\",\n        \"num_unique_values\": 116,\n        \"samples\": [\n          \"Toshiba Portege Z30-C-16L Grey, 13.3\\\" FHD, Core i7-6500U, 8GB, 256GB SSD, Windows 10 Pro\",\n          \"12.5\\\", Core i5-4300U, 8GB, 240GB SSD, Win7 Pro 64bit\",\n          \"Lenovo V110-15ISK, 15.6\\\" HD, Core i3-6006U, 8GB, 128GB SSD, Windows 10 Home\"\n        ],\n        \"semantic_type\": \"\",\n        \"description\": \"\"\n      }\n    },\n    {\n      \"column\": \"Reviews\",\n      \"properties\": {\n        \"dtype\": \"category\",\n        \"num_unique_values\": 1,\n        \"samples\": [\n          \"N/A\"\n        ],\n        \"semantic_type\": \"\",\n        \"description\": \"\"\n      }\n    }\n  ]\n}"
            }
          },
          "metadata": {},
          "execution_count": 32
        }
      ]
    },
    {
      "cell_type": "code",
      "source": [],
      "metadata": {
        "id": "prM4zt9BWyQ9"
      },
      "execution_count": 32,
      "outputs": []
    }
  ]
}