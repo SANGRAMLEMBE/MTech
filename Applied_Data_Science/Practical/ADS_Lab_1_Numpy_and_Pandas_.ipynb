{
  "nbformat": 4,
  "nbformat_minor": 0,
  "metadata": {
    "colab": {
      "provenance": [],
      "collapsed_sections": [
        "rSYsLygHwiUL",
        "xhsPSPZr3EXs",
        "ebcTI7rPBbCj",
        "Br9uEn8GG69S"
      ]
    },
    "kernelspec": {
      "name": "python3",
      "display_name": "Python 3"
    },
    "language_info": {
      "name": "python"
    }
  },
  "cells": [
    {
      "cell_type": "markdown",
      "source": [
        "### 1. Create two numpy arrays and find the cosine similarity between the arrays. Do not use any packages\n",
        "\n"
      ],
      "metadata": {
        "id": "rSYsLygHwiUL"
      }
    },
    {
      "cell_type": "markdown",
      "source": [
        "#### What is Cosine Similarity?\n",
        "Cosine similarity measures the angle between two vectors in a multi-dimensional space.![Screenshot 2025-08-26 104145.png](data:image/png;base64,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)"
      ],
      "metadata": {
        "id": "3kiJJrzLyOhk"
      }
    },
    {
      "cell_type": "code",
      "execution_count": null,
      "metadata": {
        "id": "yAomsrwcwRLP"
      },
      "outputs": [],
      "source": [
        "A = [1,2,3]       #create Two Arrays\n",
        "B = [2,4,6]\n"
      ]
    },
    {
      "cell_type": "markdown",
      "source": [
        "#### Dot Product\n",
        "\n",
        "![Screenshot 2025-08-26 104729.png](data:image/png;base64,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)"
      ],
      "metadata": {
        "id": "KRCVp3ODzJE8"
      }
    },
    {
      "cell_type": "code",
      "source": [
        "def dot_product(vec1,vec2):                  # create a function for dot product\n",
        "  return sum(a*b for a,b in zip(vec1,vec2))"
      ],
      "metadata": {
        "id": "qBlVPi66zERf"
      },
      "execution_count": null,
      "outputs": []
    },
    {
      "cell_type": "markdown",
      "source": [
        "#### Vector Mangnitude (Norm)\n",
        "\n",
        "![image.png](data:image/png;base64,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)"
      ],
      "metadata": {
        "id": "5kK0gqh-0JAD"
      }
    },
    {
      "cell_type": "code",
      "source": [
        "def norm(vec):                               # create a function for norm\n",
        "  return sum(x*x for x in vec)**0.5"
      ],
      "metadata": {
        "id": "5zLhnM3_zxzc"
      },
      "execution_count": null,
      "outputs": []
    },
    {
      "cell_type": "markdown",
      "source": [
        "#### Cosine Similarity"
      ],
      "metadata": {
        "id": "2j5XWSrE4DHq"
      }
    },
    {
      "cell_type": "code",
      "source": [
        "def cosine_similarity (vec1,vec2):           # Define cosine function where we taking numerator and denominator\n",
        "  numerator = dot_product(vec1 , vec2)\n",
        "  denominator = norm(vec1) * norm(vec2)\n",
        "  return numerator / denominator"
      ],
      "metadata": {
        "id": "lXqxbOf50ulY"
      },
      "execution_count": null,
      "outputs": []
    },
    {
      "cell_type": "code",
      "source": [
        "result = cosine_similarity(A,B)\n",
        "print(\"Cosine Similarity :\", result)"
      ],
      "metadata": {
        "colab": {
          "base_uri": "https://localhost:8080/"
        },
        "id": "Ct71Z20O12KA",
        "outputId": "3b1f7f11-642d-4478-e7d5-e9affe709900"
      },
      "execution_count": null,
      "outputs": [
        {
          "output_type": "stream",
          "name": "stdout",
          "text": [
            "Cosine Similarity : 1.0\n"
          ]
        }
      ]
    },
    {
      "cell_type": "code",
      "source": [
        "x = [1,5,3]\n",
        "y = [7,2,8]\n",
        "result = cosine_similarity(x,y)\n",
        "print(\"Cosine Simalarity between X and y :\",result)"
      ],
      "metadata": {
        "colab": {
          "base_uri": "https://localhost:8080/"
        },
        "id": "1kHT1akn2ED6",
        "outputId": "53c52403-7a40-4344-bbb2-4119f6e5b3ae"
      },
      "execution_count": null,
      "outputs": [
        {
          "output_type": "stream",
          "name": "stdout",
          "text": [
            "Cosine Simalarity between X and y : 0.6407032156159437\n"
          ]
        }
      ]
    },
    {
      "cell_type": "markdown",
      "source": [
        "### 2. Numpy basic data structures and operations\n",
        "\n"
      ],
      "metadata": {
        "id": "xhsPSPZr3EXs"
      }
    },
    {
      "cell_type": "code",
      "source": [
        "import numpy as np"
      ],
      "metadata": {
        "id": "_jb-lDzx2mRK"
      },
      "execution_count": null,
      "outputs": []
    },
    {
      "cell_type": "markdown",
      "source": [
        "- Create two numpy arrays 'numbers1' and 'numbers2'"
      ],
      "metadata": {
        "id": "GsMI1gyK4tKK"
      }
    },
    {
      "cell_type": "code",
      "source": [
        "numbers1 = np.array([1,2,3,4,5])   # creating Numpy array\n",
        "numbers2 = np.array([6,7,8,9,10])"
      ],
      "metadata": {
        "id": "AEe5bI2J4kG0"
      },
      "execution_count": null,
      "outputs": []
    },
    {
      "cell_type": "markdown",
      "source": [
        "- Find the sum of the two arrays"
      ],
      "metadata": {
        "id": "3C5g1dFk4uxV"
      }
    },
    {
      "cell_type": "code",
      "source": [
        "sum = numbers1 + numbers2            # both are numpy array so we can add it directly\n",
        "print(\"Sum of two arrays :\",sum)"
      ],
      "metadata": {
        "colab": {
          "base_uri": "https://localhost:8080/"
        },
        "id": "VrmIY5Rl4o37",
        "outputId": "7656a36e-578e-416e-f3b8-d7200d64cff5"
      },
      "execution_count": null,
      "outputs": [
        {
          "output_type": "stream",
          "name": "stdout",
          "text": [
            "Sum of two arrays : [ 7  9 11 13 15]\n"
          ]
        }
      ]
    },
    {
      "cell_type": "markdown",
      "source": [
        "- Find the dot product of the two arrays"
      ],
      "metadata": {
        "id": "sHQY9-5-5QoR"
      }
    },
    {
      "cell_type": "code",
      "source": [
        "dot_product = np.dot(numbers1,numbers2)              # finding dot product\n",
        "print(\"Dot product of two arrays :\",dot_product)"
      ],
      "metadata": {
        "colab": {
          "base_uri": "https://localhost:8080/"
        },
        "id": "2SMHJCXp449L",
        "outputId": "aa4f00e9-8dbc-4c2c-cb3e-a93fb029af32"
      },
      "execution_count": null,
      "outputs": [
        {
          "output_type": "stream",
          "name": "stdout",
          "text": [
            "Dot product of two arrays : 130\n"
          ]
        }
      ]
    },
    {
      "cell_type": "markdown",
      "source": [
        "- Find the mean of the array\n"
      ],
      "metadata": {
        "id": "L3ohttdU6FXe"
      }
    },
    {
      "cell_type": "code",
      "source": [
        "mean1 = np.mean(numbers1)              # Finding a mean Value\n",
        "print(\"Mean of array :\",mean1)"
      ],
      "metadata": {
        "colab": {
          "base_uri": "https://localhost:8080/"
        },
        "id": "CYzYLqHV58l3",
        "outputId": "d6089eee-08ee-4cb6-d0e1-8d5171168d0e"
      },
      "execution_count": null,
      "outputs": [
        {
          "output_type": "stream",
          "name": "stdout",
          "text": [
            "Mean of array : 3.0\n"
          ]
        }
      ]
    },
    {
      "cell_type": "code",
      "source": [
        "mean2 = np.mean(numbers2)\n",
        "print(\"Mean of array :\",mean2)"
      ],
      "metadata": {
        "colab": {
          "base_uri": "https://localhost:8080/"
        },
        "id": "KM6Om0426LT8",
        "outputId": "65433fb2-be52-402b-83d4-a5dffa6b0b7a"
      },
      "execution_count": null,
      "outputs": [
        {
          "output_type": "stream",
          "name": "stdout",
          "text": [
            "Mean of array : 8.0\n"
          ]
        }
      ]
    },
    {
      "cell_type": "markdown",
      "source": [
        "- Create another 2D array 'new_numbers' from numbers1 and numbers2 using np.stack. What is the shape of the new array? How does np.stack work?"
      ],
      "metadata": {
        "id": "8m0IdtZH6YJN"
      }
    },
    {
      "cell_type": "code",
      "source": [
        "new_numbers = np.stack((numbers1,numbers2))     # creating a stack\n",
        "print(\"Stack of two arrays : \\n\",new_numbers)\n",
        "\n",
        "\n",
        "# it combines them into a single 2-D array.\n",
        "# By default, axis=0, so it adds a new dimension at the beginning."
      ],
      "metadata": {
        "colab": {
          "base_uri": "https://localhost:8080/"
        },
        "id": "vV1tsgfq6Tby",
        "outputId": "b691f365-8de3-493f-8f42-1552577b00af"
      },
      "execution_count": null,
      "outputs": [
        {
          "output_type": "stream",
          "name": "stdout",
          "text": [
            "Stack of two arrays : \n",
            " [[ 1  2  3  4  5]\n",
            " [ 6  7  8  9 10]]\n"
          ]
        }
      ]
    },
    {
      "cell_type": "code",
      "source": [
        "shape = new_numbers.shape\n",
        "print(\"Shape of new_numbers :\",shape)"
      ],
      "metadata": {
        "colab": {
          "base_uri": "https://localhost:8080/"
        },
        "id": "9AlT5xWM66Yy",
        "outputId": "99616478-3059-4990-84ce-af6aabb5375e"
      },
      "execution_count": null,
      "outputs": [
        {
          "output_type": "stream",
          "name": "stdout",
          "text": [
            "Shape of new_numbers : (2, 5)\n"
          ]
        }
      ]
    },
    {
      "cell_type": "markdown",
      "source": [
        "- Transpose the new 2D. What is the result?"
      ],
      "metadata": {
        "id": "v_SxNn3j7WjL"
      }
    },
    {
      "cell_type": "code",
      "source": [
        "transposed = np.transpose(new_numbers)              # form a Transpose of stacks / 2D array\n",
        "print(\" Transposed new_numbers: \\n\",transposed)\n",
        "print(\"Shape of Transpose : \\n\",transposed.shape)"
      ],
      "metadata": {
        "colab": {
          "base_uri": "https://localhost:8080/"
        },
        "id": "xk6tRACs7G08",
        "outputId": "89cd098d-b55f-4d59-876b-fac8c9599de3"
      },
      "execution_count": null,
      "outputs": [
        {
          "output_type": "stream",
          "name": "stdout",
          "text": [
            " Transposed new_numbers: \n",
            " [[ 1  6]\n",
            " [ 2  7]\n",
            " [ 3  8]\n",
            " [ 4  9]\n",
            " [ 5 10]]\n",
            "Shape of Transpose : \n",
            " (5, 2)\n"
          ]
        }
      ]
    },
    {
      "cell_type": "markdown",
      "source": [
        "### 3.Pandas dataframes and basic operations using a open dataset\n"
      ],
      "metadata": {
        "id": "RJNWqT17_KlT"
      }
    },
    {
      "cell_type": "code",
      "source": [
        "import pandas as pd"
      ],
      "metadata": {
        "id": "WVjh1k378Al5"
      },
      "execution_count": null,
      "outputs": []
    },
    {
      "cell_type": "markdown",
      "source": [
        "#### 3.1 Operations on User Created Custom Data Frame\n",
        "\n",
        "\n",
        "- Create a dataframe using the below command:\n",
        "data = pd.DataFrame({'Qu1': [1, None, 4, 3, 4],\n",
        " 'Qu2': [2, None, 1, 2, 3],\n",
        " 'Qu3': [1, 5, np.NaN, 4, 4]})"
      ],
      "metadata": {
        "id": "ebcTI7rPBbCj"
      }
    },
    {
      "cell_type": "code",
      "source": [
        "# creating Data Frame\n",
        "data =  pd.DataFrame({\n",
        "    'Qu1':[1,None,4,3,4],\n",
        "    'Qu2':[2,None,1,2,3],\n",
        "    'Qu3':[1,5,np.nan,4,4]\n",
        "})\n",
        "print(data)"
      ],
      "metadata": {
        "colab": {
          "base_uri": "https://localhost:8080/"
        },
        "id": "r3Ls05En_YwS",
        "outputId": "1124bcee-7180-45d1-d9f0-914a73994f6b"
      },
      "execution_count": null,
      "outputs": [
        {
          "output_type": "stream",
          "name": "stdout",
          "text": [
            "   Qu1  Qu2  Qu3\n",
            "0  1.0  2.0  1.0\n",
            "1  NaN  NaN  5.0\n",
            "2  4.0  1.0  NaN\n",
            "3  3.0  2.0  4.0\n",
            "4  4.0  3.0  4.0\n"
          ]
        }
      ]
    },
    {
      "cell_type": "markdown",
      "source": [
        "- Check for missing values"
      ],
      "metadata": {
        "id": "sr6CHpauCUZf"
      }
    },
    {
      "cell_type": "code",
      "source": [
        "print(data.isnull())     # Finding where are the missing values"
      ],
      "metadata": {
        "colab": {
          "base_uri": "https://localhost:8080/"
        },
        "id": "R01C5KNVCESW",
        "outputId": "bd374e38-6a85-4e80-f643-53b7dd98b2cc"
      },
      "execution_count": null,
      "outputs": [
        {
          "output_type": "stream",
          "name": "stdout",
          "text": [
            "     Qu1    Qu2    Qu3\n",
            "0  False  False  False\n",
            "1   True   True  False\n",
            "2  False  False   True\n",
            "3  False  False  False\n",
            "4  False  False  False\n"
          ]
        }
      ]
    },
    {
      "cell_type": "markdown",
      "source": [
        "- Delete the rows with missing value in any one column/attribute\n"
      ],
      "metadata": {
        "id": "OHIe7pldDQyz"
      }
    },
    {
      "cell_type": "code",
      "source": [
        "cleaned_any = data.dropna()   # drop if any columns have nan value\n",
        "print(cleaned_any)"
      ],
      "metadata": {
        "colab": {
          "base_uri": "https://localhost:8080/"
        },
        "id": "RgQEGdqJCdms",
        "outputId": "914bb871-0dc9-4022-fdbb-cdb48e08f3a7"
      },
      "execution_count": null,
      "outputs": [
        {
          "output_type": "stream",
          "name": "stdout",
          "text": [
            "   Qu1  Qu2  Qu3\n",
            "0  1.0  2.0  1.0\n",
            "3  3.0  2.0  4.0\n",
            "4  4.0  3.0  4.0\n"
          ]
        }
      ]
    },
    {
      "cell_type": "markdown",
      "source": [
        "- Delete the row only if all columns have missing values"
      ],
      "metadata": {
        "id": "3tJqcQ19EMjh"
      }
    },
    {
      "cell_type": "code",
      "source": [
        "clean_all = data.dropna(how='all')   # we don't have any row with all values missing so data remains unchanged\n",
        "print(clean_all)"
      ],
      "metadata": {
        "colab": {
          "base_uri": "https://localhost:8080/"
        },
        "id": "OtMlsiV_DpnY",
        "outputId": "cb43eaca-05ac-46bc-edcf-922a817e8fd2"
      },
      "execution_count": null,
      "outputs": [
        {
          "output_type": "stream",
          "name": "stdout",
          "text": [
            "   Qu1  Qu2  Qu3\n",
            "0  1.0  2.0  1.0\n",
            "1  NaN  NaN  5.0\n",
            "2  4.0  1.0  NaN\n",
            "3  3.0  2.0  4.0\n",
            "4  4.0  3.0  4.0\n"
          ]
        }
      ]
    },
    {
      "cell_type": "markdown",
      "source": [
        "- Fill the missing values with zeros"
      ],
      "metadata": {
        "id": "UeU7th4eEt_v"
      }
    },
    {
      "cell_type": "code",
      "source": [
        "fill_zero = data.fillna(0)\n",
        "print(fill_zero)"
      ],
      "metadata": {
        "colab": {
          "base_uri": "https://localhost:8080/"
        },
        "id": "O6sxDXkXEaXz",
        "outputId": "e586ff89-a53d-4dca-a3b9-5ee5e7d9740f"
      },
      "execution_count": null,
      "outputs": [
        {
          "output_type": "stream",
          "name": "stdout",
          "text": [
            "   Qu1  Qu2  Qu3\n",
            "0  1.0  2.0  1.0\n",
            "1  0.0  0.0  5.0\n",
            "2  4.0  1.0  0.0\n",
            "3  3.0  2.0  4.0\n",
            "4  4.0  3.0  4.0\n"
          ]
        }
      ]
    },
    {
      "cell_type": "markdown",
      "source": [
        "- Fill missing values with constant one for each column"
      ],
      "metadata": {
        "id": "O0SVY1_8GFxO"
      }
    },
    {
      "cell_type": "code",
      "source": [
        "fill_constant = data.fillna({'Qu1':10,'Qu2':20,'Qu3':30})\n",
        "print(fill_constant)"
      ],
      "metadata": {
        "colab": {
          "base_uri": "https://localhost:8080/"
        },
        "id": "R_K6O6EYFtzG",
        "outputId": "19d0e89b-79ba-499f-c7b0-9f6355f14094"
      },
      "execution_count": null,
      "outputs": [
        {
          "output_type": "stream",
          "name": "stdout",
          "text": [
            "    Qu1   Qu2   Qu3\n",
            "0   1.0   2.0   1.0\n",
            "1  10.0  20.0   5.0\n",
            "2   4.0   1.0  30.0\n",
            "3   3.0   2.0   4.0\n",
            "4   4.0   3.0   4.0\n"
          ]
        }
      ]
    },
    {
      "cell_type": "markdown",
      "source": [
        "- Fill missing values withe mean value of the column"
      ],
      "metadata": {
        "id": "Qu6jPvQcGmqY"
      }
    },
    {
      "cell_type": "code",
      "source": [
        "fill_mean = data.fillna(data.mean())\n",
        "print(fill_mean)"
      ],
      "metadata": {
        "colab": {
          "base_uri": "https://localhost:8080/"
        },
        "id": "tfpwB2zRGZYB",
        "outputId": "b8edc617-78ae-418f-ebe5-46db99a2d203"
      },
      "execution_count": null,
      "outputs": [
        {
          "output_type": "stream",
          "name": "stdout",
          "text": [
            "   Qu1  Qu2  Qu3\n",
            "0  1.0  2.0  1.0\n",
            "1  3.0  2.0  5.0\n",
            "2  4.0  1.0  3.5\n",
            "3  3.0  2.0  4.0\n",
            "4  4.0  3.0  4.0\n"
          ]
        }
      ]
    },
    {
      "cell_type": "markdown",
      "source": [
        "#### 3.2 Analysis of an Open Dataset using Pandas"
      ],
      "metadata": {
        "id": "Br9uEn8GG69S"
      }
    },
    {
      "cell_type": "markdown",
      "source": [
        "* Load the built in dataset \"Titanic\" using the code below"
      ],
      "metadata": {
        "id": "1BCZ1k5BIhA1"
      }
    },
    {
      "cell_type": "code",
      "source": [
        "import seaborn as sns\n"
      ],
      "metadata": {
        "id": "NxFX2YS-GyCx"
      },
      "execution_count": null,
      "outputs": []
    },
    {
      "cell_type": "code",
      "source": [
        "df = sns.load_dataset('titanic')\n",
        "#upload the data in colab and load the data."
      ],
      "metadata": {
        "id": "MZvNO8OKKRXu"
      },
      "execution_count": null,
      "outputs": []
    },
    {
      "cell_type": "markdown",
      "source": [
        "- Display the head of the dataset\"?"
      ],
      "metadata": {
        "id": "kWP_oIATLPd6"
      }
    },
    {
      "cell_type": "code",
      "source": [
        "print(df.head)       # Head of dataset"
      ],
      "metadata": {
        "colab": {
          "base_uri": "https://localhost:8080/"
        },
        "id": "8hpurJFWKfSy",
        "outputId": "a9024253-2725-42b6-ea38-91d4ea842c03"
      },
      "execution_count": null,
      "outputs": [
        {
          "output_type": "stream",
          "name": "stdout",
          "text": [
            "<bound method NDFrame.head of      survived  pclass     sex   age  sibsp  parch     fare embarked   class  \\\n",
            "0           0       3    male  22.0      1      0   7.2500        S   Third   \n",
            "1           1       1  female  38.0      1      0  71.2833        C   First   \n",
            "2           1       3  female  26.0      0      0   7.9250        S   Third   \n",
            "3           1       1  female  35.0      1      0  53.1000        S   First   \n",
            "4           0       3    male  35.0      0      0   8.0500        S   Third   \n",
            "..        ...     ...     ...   ...    ...    ...      ...      ...     ...   \n",
            "886         0       2    male  27.0      0      0  13.0000        S  Second   \n",
            "887         1       1  female  19.0      0      0  30.0000        S   First   \n",
            "888         0       3  female   NaN      1      2  23.4500        S   Third   \n",
            "889         1       1    male  26.0      0      0  30.0000        C   First   \n",
            "890         0       3    male  32.0      0      0   7.7500        Q   Third   \n",
            "\n",
            "       who  adult_male deck  embark_town alive  alone  \n",
            "0      man        True  NaN  Southampton    no  False  \n",
            "1    woman       False    C    Cherbourg   yes  False  \n",
            "2    woman       False  NaN  Southampton   yes   True  \n",
            "3    woman       False    C  Southampton   yes  False  \n",
            "4      man        True  NaN  Southampton    no   True  \n",
            "..     ...         ...  ...          ...   ...    ...  \n",
            "886    man        True  NaN  Southampton    no   True  \n",
            "887  woman       False    B  Southampton   yes   True  \n",
            "888  woman       False  NaN  Southampton    no  False  \n",
            "889    man        True    C    Cherbourg   yes   True  \n",
            "890    man        True  NaN   Queenstown    no   True  \n",
            "\n",
            "[891 rows x 15 columns]>\n"
          ]
        }
      ]
    },
    {
      "cell_type": "markdown",
      "source": [
        "- Print the shape of the DataFrame?"
      ],
      "metadata": {
        "id": "NyJWSmbfLUGH"
      }
    },
    {
      "cell_type": "code",
      "source": [
        "print(df.shape)  # shape of data"
      ],
      "metadata": {
        "colab": {
          "base_uri": "https://localhost:8080/"
        },
        "id": "PoePP3DmK9d6",
        "outputId": "fdfd5420-0c44-4a60-a13b-94db0bc86f72"
      },
      "execution_count": null,
      "outputs": [
        {
          "output_type": "stream",
          "name": "stdout",
          "text": [
            "(891, 15)\n"
          ]
        }
      ]
    },
    {
      "cell_type": "markdown",
      "source": [
        "- Display columns and their data types?"
      ],
      "metadata": {
        "id": "m9rXQ-TvLbVL"
      }
    },
    {
      "cell_type": "code",
      "source": [
        "print(df.dtypes)  # dtypes shows all data types"
      ],
      "metadata": {
        "colab": {
          "base_uri": "https://localhost:8080/"
        },
        "id": "3sDMRrDCLZBA",
        "outputId": "bdaa47f0-2445-4877-a986-3abc39bcf2f1"
      },
      "execution_count": null,
      "outputs": [
        {
          "output_type": "stream",
          "name": "stdout",
          "text": [
            "survived          int64\n",
            "pclass            int64\n",
            "sex              object\n",
            "age             float64\n",
            "sibsp             int64\n",
            "parch             int64\n",
            "fare            float64\n",
            "embarked         object\n",
            "class          category\n",
            "who              object\n",
            "adult_male         bool\n",
            "deck           category\n",
            "embark_town      object\n",
            "alive            object\n",
            "alone              bool\n",
            "dtype: object\n"
          ]
        }
      ]
    },
    {
      "cell_type": "markdown",
      "source": [
        "- Check for missing values in each column?\n"
      ],
      "metadata": {
        "id": "JCpf2Du4MfIY"
      }
    },
    {
      "cell_type": "code",
      "source": [
        "missing_val = df.isnull()   # If there are missing values then it will True\n",
        "print(missing_val)"
      ],
      "metadata": {
        "colab": {
          "base_uri": "https://localhost:8080/"
        },
        "id": "Bu0-NpDxL6JL",
        "outputId": "fc44c5a8-8c85-42aa-db99-adb846c360f3"
      },
      "execution_count": null,
      "outputs": [
        {
          "output_type": "stream",
          "name": "stdout",
          "text": [
            "     survived  pclass    sex    age  sibsp  parch   fare  embarked  class  \\\n",
            "0       False   False  False  False  False  False  False     False  False   \n",
            "1       False   False  False  False  False  False  False     False  False   \n",
            "2       False   False  False  False  False  False  False     False  False   \n",
            "3       False   False  False  False  False  False  False     False  False   \n",
            "4       False   False  False  False  False  False  False     False  False   \n",
            "..        ...     ...    ...    ...    ...    ...    ...       ...    ...   \n",
            "886     False   False  False  False  False  False  False     False  False   \n",
            "887     False   False  False  False  False  False  False     False  False   \n",
            "888     False   False  False   True  False  False  False     False  False   \n",
            "889     False   False  False  False  False  False  False     False  False   \n",
            "890     False   False  False  False  False  False  False     False  False   \n",
            "\n",
            "       who  adult_male   deck  embark_town  alive  alone  \n",
            "0    False       False   True        False  False  False  \n",
            "1    False       False  False        False  False  False  \n",
            "2    False       False   True        False  False  False  \n",
            "3    False       False  False        False  False  False  \n",
            "4    False       False   True        False  False  False  \n",
            "..     ...         ...    ...          ...    ...    ...  \n",
            "886  False       False   True        False  False  False  \n",
            "887  False       False  False        False  False  False  \n",
            "888  False       False   True        False  False  False  \n",
            "889  False       False  False        False  False  False  \n",
            "890  False       False   True        False  False  False  \n",
            "\n",
            "[891 rows x 15 columns]\n"
          ]
        }
      ]
    },
    {
      "cell_type": "markdown",
      "source": [
        "- Show only the first 10 rows?"
      ],
      "metadata": {
        "id": "sauGsRUPN9Pz"
      }
    },
    {
      "cell_type": "code",
      "source": [
        "print(df.head(10))  # first 10 Rows"
      ],
      "metadata": {
        "colab": {
          "base_uri": "https://localhost:8080/"
        },
        "id": "ljOi3IJqMpic",
        "outputId": "8afee94b-b4a7-4b49-9d95-4f72b5ef5753"
      },
      "execution_count": null,
      "outputs": [
        {
          "output_type": "stream",
          "name": "stdout",
          "text": [
            "   survived  pclass     sex   age  sibsp  parch     fare embarked   class  \\\n",
            "0         0       3    male  22.0      1      0   7.2500        S   Third   \n",
            "1         1       1  female  38.0      1      0  71.2833        C   First   \n",
            "2         1       3  female  26.0      0      0   7.9250        S   Third   \n",
            "3         1       1  female  35.0      1      0  53.1000        S   First   \n",
            "4         0       3    male  35.0      0      0   8.0500        S   Third   \n",
            "5         0       3    male   NaN      0      0   8.4583        Q   Third   \n",
            "6         0       1    male  54.0      0      0  51.8625        S   First   \n",
            "7         0       3    male   2.0      3      1  21.0750        S   Third   \n",
            "8         1       3  female  27.0      0      2  11.1333        S   Third   \n",
            "9         1       2  female  14.0      1      0  30.0708        C  Second   \n",
            "\n",
            "     who  adult_male deck  embark_town alive  alone  \n",
            "0    man        True  NaN  Southampton    no  False  \n",
            "1  woman       False    C    Cherbourg   yes  False  \n",
            "2  woman       False  NaN  Southampton   yes   True  \n",
            "3  woman       False    C  Southampton   yes  False  \n",
            "4    man        True  NaN  Southampton    no   True  \n",
            "5    man        True  NaN   Queenstown    no   True  \n",
            "6    man        True    E  Southampton    no   True  \n",
            "7  child       False  NaN  Southampton    no  False  \n",
            "8  woman       False  NaN  Southampton   yes  False  \n",
            "9  child       False  NaN    Cherbourg   yes  False  \n"
          ]
        }
      ]
    },
    {
      "cell_type": "markdown",
      "source": [
        "- What is the average age of passengers?"
      ],
      "metadata": {
        "id": "1iAH83lcOdQM"
      }
    },
    {
      "cell_type": "code",
      "source": [
        "# Method 1             # TAKING Mean\n",
        "print(\"Average age of Passengers: \",df['age'].mean())\n",
        "\n",
        "# Method 2\n",
        "average_age = df['age'].mean()\n",
        "print(f\"Average age: {average_age:0.2f}\")"
      ],
      "metadata": {
        "colab": {
          "base_uri": "https://localhost:8080/"
        },
        "id": "ohUAfXfDOESp",
        "outputId": "c2c61a76-c318-4e10-9ae9-72fc1bfdbf71"
      },
      "execution_count": null,
      "outputs": [
        {
          "output_type": "stream",
          "name": "stdout",
          "text": [
            "Average age of Passengers:  29.69911764705882\n",
            "Average age: 29.70\n"
          ]
        }
      ]
    },
    {
      "cell_type": "markdown",
      "source": [
        "- What is the total fare paid?"
      ],
      "metadata": {
        "id": "PeGJeD29QLZd"
      }
    },
    {
      "cell_type": "code",
      "source": [
        "print(\"Total Fare Paid = \",df['fare'].sum())     # Total fair"
      ],
      "metadata": {
        "colab": {
          "base_uri": "https://localhost:8080/"
        },
        "id": "6dTWyojPQLLW",
        "outputId": "00e67671-7def-4d15-e384-178761ad1d44"
      },
      "execution_count": null,
      "outputs": [
        {
          "output_type": "stream",
          "name": "stdout",
          "text": [
            "Total Fare Paid =  28693.9493\n"
          ]
        }
      ]
    },
    {
      "cell_type": "markdown",
      "source": [
        "- What is the age range (min and max)?"
      ],
      "metadata": {
        "id": "Fp8qv8GUQ_-z"
      }
    },
    {
      "cell_type": "code",
      "source": [
        "print(\"Age Range (min and max)\\n\")       # Min Max range of Age\n",
        "print(f\"{df['age'].min()} to {df['age'].max()}\")"
      ],
      "metadata": {
        "colab": {
          "base_uri": "https://localhost:8080/"
        },
        "id": "WCA6EoRCO1um",
        "outputId": "fa84a4ce-4120-49ab-da59-9ee40117da90"
      },
      "execution_count": null,
      "outputs": [
        {
          "output_type": "stream",
          "name": "stdout",
          "text": [
            "Age Range (min and max)\n",
            "\n",
            "0.42 to 80.0\n"
          ]
        }
      ]
    },
    {
      "cell_type": "markdown",
      "source": [
        "- Show passengers who survived and were female?"
      ],
      "metadata": {
        "id": "oJrPo7x3SIc_"
      }
    },
    {
      "cell_type": "code",
      "source": [
        "print(\"Female passenger who servived: \\n\")         # Survived Female Passengers\n",
        "print(df[(df['sex']=='female') & (df['survived']==1)])"
      ],
      "metadata": {
        "colab": {
          "base_uri": "https://localhost:8080/"
        },
        "id": "SRh4yjtuRUpW",
        "outputId": "f4c9cf59-f5a3-4eee-add8-7089e7e438fe"
      },
      "execution_count": null,
      "outputs": [
        {
          "output_type": "stream",
          "name": "stdout",
          "text": [
            "Female passenger who servived: \n",
            "\n",
            "     survived  pclass     sex   age  sibsp  parch     fare embarked   class  \\\n",
            "1           1       1  female  38.0      1      0  71.2833        C   First   \n",
            "2           1       3  female  26.0      0      0   7.9250        S   Third   \n",
            "3           1       1  female  35.0      1      0  53.1000        S   First   \n",
            "8           1       3  female  27.0      0      2  11.1333        S   Third   \n",
            "9           1       2  female  14.0      1      0  30.0708        C  Second   \n",
            "..        ...     ...     ...   ...    ...    ...      ...      ...     ...   \n",
            "874         1       2  female  28.0      1      0  24.0000        C  Second   \n",
            "875         1       3  female  15.0      0      0   7.2250        C   Third   \n",
            "879         1       1  female  56.0      0      1  83.1583        C   First   \n",
            "880         1       2  female  25.0      0      1  26.0000        S  Second   \n",
            "887         1       1  female  19.0      0      0  30.0000        S   First   \n",
            "\n",
            "       who  adult_male deck  embark_town alive  alone  \n",
            "1    woman       False    C    Cherbourg   yes  False  \n",
            "2    woman       False  NaN  Southampton   yes   True  \n",
            "3    woman       False    C  Southampton   yes  False  \n",
            "8    woman       False  NaN  Southampton   yes  False  \n",
            "9    child       False  NaN    Cherbourg   yes  False  \n",
            "..     ...         ...  ...          ...   ...    ...  \n",
            "874  woman       False  NaN    Cherbourg   yes  False  \n",
            "875  child       False  NaN    Cherbourg   yes   True  \n",
            "879  woman       False    C    Cherbourg   yes  False  \n",
            "880  woman       False  NaN  Southampton   yes  False  \n",
            "887  woman       False    B  Southampton   yes   True  \n",
            "\n",
            "[233 rows x 15 columns]\n"
          ]
        }
      ]
    },
    {
      "cell_type": "markdown",
      "source": [
        "- How many passengers were children (age < 12)?"
      ],
      "metadata": {
        "id": "wU_v_gkWTRV8"
      }
    },
    {
      "cell_type": "code",
      "source": [
        "# Method 1\n",
        "print(\"Number of Children :\",len(df[df['age']<12]))\n",
        "\n",
        "# Methos 2\n",
        "print(\"Number of Children :\",(df[df['age']<12].shape))"
      ],
      "metadata": {
        "colab": {
          "base_uri": "https://localhost:8080/"
        },
        "id": "-8Rd69bxScmb",
        "outputId": "f2e6445a-158b-4845-adf9-e06e02239300"
      },
      "execution_count": null,
      "outputs": [
        {
          "output_type": "stream",
          "name": "stdout",
          "text": [
            "Number of Children : 68\n",
            "Number of Children : (68, 15)\n"
          ]
        }
      ]
    },
    {
      "cell_type": "markdown",
      "source": [
        "- How many missing values are there?\n",
        "\n"
      ],
      "metadata": {
        "id": "gEBUlaVrUGcV"
      }
    },
    {
      "cell_type": "code",
      "source": [
        "print(df.isnull().sum().sum())   # we adding the Number of Missing Values of all Columns"
      ],
      "metadata": {
        "colab": {
          "base_uri": "https://localhost:8080/"
        },
        "id": "6v6iVkyZTk6N",
        "outputId": "d8c94754-836e-4b5e-8cf4-e868a02d6d06"
      },
      "execution_count": null,
      "outputs": [
        {
          "output_type": "stream",
          "name": "stdout",
          "text": [
            "869\n"
          ]
        }
      ]
    },
    {
      "cell_type": "code",
      "source": [],
      "metadata": {
        "id": "rUa9Du8XUO3Y"
      },
      "execution_count": null,
      "outputs": []
    }
  ]
}