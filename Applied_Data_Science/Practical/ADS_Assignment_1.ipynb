{
  "nbformat": 4,
  "nbformat_minor": 0,
  "metadata": {
    "colab": {
      "provenance": [],
      "authorship_tag": "ABX9TyOJ2LZtYnNQ5smboZBE0mqS",
      "include_colab_link": true
    },
    "kernelspec": {
      "name": "python3",
      "display_name": "Python 3"
    },
    "language_info": {
      "name": "python"
    }
  },
  "cells": [
    {
      "cell_type": "markdown",
      "metadata": {
        "id": "view-in-github",
        "colab_type": "text"
      },
      "source": [
        "<a href=\"https://colab.research.google.com/github/SANGRAMLEMBE/MTech/blob/main/Applied_Data_Science/Practical/ADS_Assignment_1.ipynb\" target=\"_parent\"><img src=\"https://colab.research.google.com/assets/colab-badge.svg\" alt=\"Open In Colab\"/></a>"
      ]
    },
    {
      "cell_type": "code",
      "execution_count": 1,
      "metadata": {
        "id": "1Bcoy5vLQtOB"
      },
      "outputs": [],
      "source": [
        "import pandas as pd\n",
        "from sklearn.preprocessing import MinMaxScaler\n",
        "from sklearn.metrics.pairwise import cosine_similarity"
      ]
    },
    {
      "cell_type": "markdown",
      "source": [
        "# Step 1: Load Datasets"
      ],
      "metadata": {
        "id": "5dsaY6eT7Fea"
      }
    },
    {
      "cell_type": "code",
      "source": [
        "user_info = pd.read_csv(\"user_info.txt\", header = None, names = [\"Movie_ID\",\"Customer_ID\",\"Rating\",\"Date\"])\n",
        "print(user_info)"
      ],
      "metadata": {
        "id": "8hxk4iKWWmiY",
        "colab": {
          "base_uri": "https://localhost:8080/"
        },
        "outputId": "0e791e3d-8b07-46cf-e788-dcfccafd21f8"
      },
      "execution_count": 2,
      "outputs": [
        {
          "output_type": "stream",
          "name": "stdout",
          "text": [
            "      Movie_ID  Customer_ID  Rating        Date\n",
            "0            1      1488844       3  2005-09-06\n",
            "1            2       822109       5  2005-05-13\n",
            "2            3       885013       4  2005-10-19\n",
            "3            4        30878       4  2005-12-26\n",
            "4            5       823519       3  2004-05-03\n",
            "...        ...          ...     ...         ...\n",
            "2574      2575      1123472       3  2004-10-24\n",
            "2575      2576      1651475       5  2004-10-25\n",
            "2576      2577      2630797       5  2004-10-26\n",
            "2577      2578      2096773       3  2004-10-27\n",
            "2578      2579      2428512       5  2004-10-28\n",
            "\n",
            "[2579 rows x 4 columns]\n"
          ]
        }
      ]
    },
    {
      "cell_type": "code",
      "source": [
        "movie_info= pd.read_csv(\"movie_info.csv\",encoding= \"latin1\",on_bad_lines = \"skip\")\n",
        "print(movie_info)"
      ],
      "metadata": {
        "colab": {
          "base_uri": "https://localhost:8080/"
        },
        "id": "FDr7Gx7u71Ss",
        "outputId": "95ff83b1-cba1-4090-aeb0-ed8ef3725b54"
      },
      "execution_count": 3,
      "outputs": [
        {
          "output_type": "stream",
          "name": "stdout",
          "text": [
            "           1    2003                                    Dinosaur Planet\n",
            "0          2  2004.0                         Isle of Man TT 2004 Review\n",
            "1          3  1997.0                                          Character\n",
            "2          4  1994.0                       Paula Abdul's Get Up & Dance\n",
            "3          5  2004.0                           The Rise and Fall of ECW\n",
            "4          6  1997.0                                               Sick\n",
            "...      ...     ...                                                ...\n",
            "17428  17766  2002.0  Where the Wild Things Are and Other Maurice Se...\n",
            "17429  17767  2004.0                  Fidel Castro: American Experience\n",
            "17430  17768  2000.0                                              Epoch\n",
            "17431  17769  2003.0                                        The Company\n",
            "17432  17770  2003.0                                       Alien Hunter\n",
            "\n",
            "[17433 rows x 3 columns]\n"
          ]
        }
      ]
    },
    {
      "cell_type": "code",
      "source": [
        "# Clean movie_info columns\n",
        "\n",
        "movie_info = movie_info.rename(columns={\n",
        "    movie_info.columns[0]: \"Movie_ID\",\n",
        "    movie_info.columns[1]: \"Year\",\n",
        "    movie_info.columns[2]: \"Name\"})\n",
        "[[\"Movie_ID\",\"Year\",\"Name\"]]"
      ],
      "metadata": {
        "colab": {
          "base_uri": "https://localhost:8080/"
        },
        "id": "mZJOp0618klu",
        "outputId": "bc5336bf-3321-478f-9562-2df6a549149e"
      },
      "execution_count": 4,
      "outputs": [
        {
          "output_type": "execute_result",
          "data": {
            "text/plain": [
              "[['Movie_ID', 'Year', 'Name']]"
            ]
          },
          "metadata": {},
          "execution_count": 4
        }
      ]
    },
    {
      "cell_type": "code",
      "source": [
        "# Convert MovieID to Integer for Merging\n",
        "\n",
        "\n",
        "movie_info[\"Movie_ID\"] = movie_info[\"Movie_ID\"].astype(int)"
      ],
      "metadata": {
        "id": "C_daPifo9PsX"
      },
      "execution_count": 5,
      "outputs": []
    },
    {
      "cell_type": "markdown",
      "source": [
        "# Step 2: Merge User ratings with Movie Info"
      ],
      "metadata": {
        "id": "F_5aSIfS-mk5"
      }
    },
    {
      "cell_type": "code",
      "source": [
        "merged_data = pd.merge(user_info, movie_info, on=\"Movie_ID\")\n",
        "print(merged_data)"
      ],
      "metadata": {
        "colab": {
          "base_uri": "https://localhost:8080/"
        },
        "id": "8Fy2DcCC-jCF",
        "outputId": "50b63db7-ca42-4158-9f96-0e1c6e4f5fcb"
      },
      "execution_count": 6,
      "outputs": [
        {
          "output_type": "stream",
          "name": "stdout",
          "text": [
            "      Movie_ID  Customer_ID  Rating        Date    Year  \\\n",
            "0            2       822109       5  2005-05-13  2004.0   \n",
            "1            3       885013       4  2005-10-19  1997.0   \n",
            "2            4        30878       4  2005-12-26  1994.0   \n",
            "3            5       823519       3  2004-05-03  2004.0   \n",
            "4            6       893988       3  2005-11-17  1997.0   \n",
            "...        ...          ...     ...         ...     ...   \n",
            "2531      2575      1123472       3  2004-10-24  2004.0   \n",
            "2532      2576      1651475       5  2004-10-25  2000.0   \n",
            "2533      2577      2630797       5  2004-10-26  1995.0   \n",
            "2534      2578      2096773       3  2004-10-27  2001.0   \n",
            "2535      2579      2428512       5  2004-10-28  1969.0   \n",
            "\n",
            "                              Name  \n",
            "0       Isle of Man TT 2004 Review  \n",
            "1                        Character  \n",
            "2     Paula Abdul's Get Up & Dance  \n",
            "3         The Rise and Fall of ECW  \n",
            "4                             Sick  \n",
            "...                            ...  \n",
            "2531          R.O.D. the TV Series  \n",
            "2532                  X: The Movie  \n",
            "2533          A Walk in the Clouds  \n",
            "2534             Y Tu Mama Tambien  \n",
            "2535  The Young Girls of Rochefort  \n",
            "\n",
            "[2536 rows x 6 columns]\n"
          ]
        }
      ]
    },
    {
      "cell_type": "markdown",
      "source": [
        "# Step 3: Create User-Movie Matrix"
      ],
      "metadata": {
        "id": "B4xTlqwz_Viu"
      }
    },
    {
      "cell_type": "code",
      "source": [
        "user_movie_matrix = merged_data.pivot_table(\n",
        "    index= \"Customer_ID\",\n",
        "    columns = \"Movie_ID\",\n",
        "    values = \"Rating\")"
      ],
      "metadata": {
        "id": "NHLSB0Fz-6dR"
      },
      "execution_count": 7,
      "outputs": []
    },
    {
      "cell_type": "markdown",
      "source": [
        " Fill NaN with 0 (not rated yet)"
      ],
      "metadata": {
        "id": "vKlneBxbDCiQ"
      }
    },
    {
      "cell_type": "code",
      "source": [
        "user_movie_matrix_filled = user_movie_matrix.fillna(0)"
      ],
      "metadata": {
        "id": "nVabxJgqBDio"
      },
      "execution_count": 8,
      "outputs": []
    },
    {
      "cell_type": "markdown",
      "source": [
        "# Step 4: Compute Similarities (Item-based CF)"
      ],
      "metadata": {
        "id": "OMfPHnB-DI2h"
      }
    },
    {
      "cell_type": "code",
      "source": [
        "movie_similarity = cosine_similarity(user_movie_matrix_filled.T)\n",
        "movie_similarity_df = pd.DataFrame(\n",
        "    movie_similarity,\n",
        "    index=user_movie_matrix.columns,\n",
        "    columns=user_movie_matrix.columns\n",
        ")"
      ],
      "metadata": {
        "id": "PygRsPsNDF0u"
      },
      "execution_count": 9,
      "outputs": []
    },
    {
      "cell_type": "markdown",
      "source": [
        "# Step 5: Find Top 15 Recommendations"
      ],
      "metadata": {
        "id": "evpTHo0BDaYp"
      }
    },
    {
      "cell_type": "code",
      "source": [
        "# Compute average rating per movie\n",
        "movie_ratings_mean = merged_data.groupby(\"Movie_ID\")[\"Rating\"].mean()"
      ],
      "metadata": {
        "id": "6B-stcyyDXER"
      },
      "execution_count": 10,
      "outputs": []
    },
    {
      "cell_type": "code",
      "source": [
        "# Sort by highest rating\n",
        "top_15_movies = movie_ratings_mean.sort_values(ascending=False).head(15)\n",
        "top_15_movies"
      ],
      "metadata": {
        "colab": {
          "base_uri": "https://localhost:8080/",
          "height": 585
        },
        "id": "BX7IUaFCDqIH",
        "outputId": "d305f41a-3f12-4637-9e68-647f0891cc4a"
      },
      "execution_count": 11,
      "outputs": [
        {
          "output_type": "execute_result",
          "data": {
            "text/plain": [
              "Movie_ID\n",
              "2572    5.0\n",
              "2573    5.0\n",
              "2576    5.0\n",
              "1865    5.0\n",
              "1866    5.0\n",
              "1868    5.0\n",
              "1871    5.0\n",
              "1878    5.0\n",
              "1879    5.0\n",
              "49      5.0\n",
              "28      5.0\n",
              "30      5.0\n",
              "31      5.0\n",
              "35      5.0\n",
              "2545    5.0\n",
              "Name: Rating, dtype: float64"
            ],
            "text/html": [
              "<div>\n",
              "<style scoped>\n",
              "    .dataframe tbody tr th:only-of-type {\n",
              "        vertical-align: middle;\n",
              "    }\n",
              "\n",
              "    .dataframe tbody tr th {\n",
              "        vertical-align: top;\n",
              "    }\n",
              "\n",
              "    .dataframe thead th {\n",
              "        text-align: right;\n",
              "    }\n",
              "</style>\n",
              "<table border=\"1\" class=\"dataframe\">\n",
              "  <thead>\n",
              "    <tr style=\"text-align: right;\">\n",
              "      <th></th>\n",
              "      <th>Rating</th>\n",
              "    </tr>\n",
              "    <tr>\n",
              "      <th>Movie_ID</th>\n",
              "      <th></th>\n",
              "    </tr>\n",
              "  </thead>\n",
              "  <tbody>\n",
              "    <tr>\n",
              "      <th>2572</th>\n",
              "      <td>5.0</td>\n",
              "    </tr>\n",
              "    <tr>\n",
              "      <th>2573</th>\n",
              "      <td>5.0</td>\n",
              "    </tr>\n",
              "    <tr>\n",
              "      <th>2576</th>\n",
              "      <td>5.0</td>\n",
              "    </tr>\n",
              "    <tr>\n",
              "      <th>1865</th>\n",
              "      <td>5.0</td>\n",
              "    </tr>\n",
              "    <tr>\n",
              "      <th>1866</th>\n",
              "      <td>5.0</td>\n",
              "    </tr>\n",
              "    <tr>\n",
              "      <th>1868</th>\n",
              "      <td>5.0</td>\n",
              "    </tr>\n",
              "    <tr>\n",
              "      <th>1871</th>\n",
              "      <td>5.0</td>\n",
              "    </tr>\n",
              "    <tr>\n",
              "      <th>1878</th>\n",
              "      <td>5.0</td>\n",
              "    </tr>\n",
              "    <tr>\n",
              "      <th>1879</th>\n",
              "      <td>5.0</td>\n",
              "    </tr>\n",
              "    <tr>\n",
              "      <th>49</th>\n",
              "      <td>5.0</td>\n",
              "    </tr>\n",
              "    <tr>\n",
              "      <th>28</th>\n",
              "      <td>5.0</td>\n",
              "    </tr>\n",
              "    <tr>\n",
              "      <th>30</th>\n",
              "      <td>5.0</td>\n",
              "    </tr>\n",
              "    <tr>\n",
              "      <th>31</th>\n",
              "      <td>5.0</td>\n",
              "    </tr>\n",
              "    <tr>\n",
              "      <th>35</th>\n",
              "      <td>5.0</td>\n",
              "    </tr>\n",
              "    <tr>\n",
              "      <th>2545</th>\n",
              "      <td>5.0</td>\n",
              "    </tr>\n",
              "  </tbody>\n",
              "</table>\n",
              "</div><br><label><b>dtype:</b> float64</label>"
            ]
          },
          "metadata": {},
          "execution_count": 11
        }
      ]
    },
    {
      "cell_type": "code",
      "source": [
        "# Map to movie names\n",
        "top_15_recommendations = movie_info[movie_info[\"Movie_ID\"].isin(top_15_movies.index)][\n",
        "    [\"Movie_ID\", \"Name\", \"Year\"]\n",
        "]"
      ],
      "metadata": {
        "id": "ewDopzr0EVml"
      },
      "execution_count": 12,
      "outputs": []
    },
    {
      "cell_type": "code",
      "source": [
        "top_15_recommendations = top_15_recommendations.merge(\n",
        "    top_15_movies, on=\"Movie_ID\"\n",
        ").rename(columns={\"Rating\": \"AvgRating\"})"
      ],
      "metadata": {
        "id": "tFIxKrq_EvLX"
      },
      "execution_count": 13,
      "outputs": []
    },
    {
      "cell_type": "markdown",
      "source": [
        "# Step 6: Show Results"
      ],
      "metadata": {
        "id": "hgIJLfh-FL86"
      }
    },
    {
      "cell_type": "code",
      "source": [
        "print(\"Top 15 Recommended Movies/TV Shows:\\n\")\n",
        "print(top_15_recommendations.to_string(index=False))"
      ],
      "metadata": {
        "colab": {
          "base_uri": "https://localhost:8080/"
        },
        "id": "zzsbfCQOE_hR",
        "outputId": "8f8ec8e3-1455-40e5-e8b4-e42be61c85c3"
      },
      "execution_count": 14,
      "outputs": [
        {
          "output_type": "stream",
          "name": "stdout",
          "text": [
            "Top 15 Recommended Movies/TV Shows:\n",
            "\n",
            " Movie_ID                                                                Name   Year  AvgRating\n",
            "       28                                                     Lilo and Stitch 2002.0        5.0\n",
            "       30                                              Something's Gotta Give 2003.0        5.0\n",
            "       31                          Classic Albums: Meat Loaf: Bat Out of Hell 1999.0        5.0\n",
            "       35                                     Ferngully 2: The Magical Rescue 2000.0        5.0\n",
            "       49                         Devo: The Complete Truth About De-evolution 2003.0        5.0\n",
            "     1865                               Eternal Sunshine of the Spotless Mind 2004.0        5.0\n",
            "     1866                                                              Sirens 1994.0        5.0\n",
            "     1868                                                   Mad Monster Party 1967.0        5.0\n",
            "     1871                                           Fela: Music Is the Weapon 1982.0        5.0\n",
            "     1878 The Ghost and Mr. Chicken / The Reluctant Astronaut: Double Feature 1966.0        5.0\n",
            "     1879                                                      Thomas & Sarah 1979.0        5.0\n",
            "     2545                                                           Avalanche 1978.0        5.0\n",
            "     2572                                                       The Sandlot 2 2005.0        5.0\n",
            "     2573                                               A Tale of Two Kitties 1996.0        5.0\n",
            "     2576                                                        X: The Movie 2000.0        5.0\n"
          ]
        }
      ]
    },
    {
      "cell_type": "markdown",
      "source": [
        "# File content in JSON"
      ],
      "metadata": {
        "id": "D135W69WF42e"
      }
    },
    {
      "cell_type": "code",
      "source": [
        "import json\n",
        "\n",
        "# Convert to dictionary format\n",
        "output_data = {\n",
        "    \"top_15_recommendations\": top_15_recommendations.to_dict('records'),\n",
        "    \"total_movies\": len(movie_info),\n",
        "    \"total_users\": len(user_info['Customer_ID'].unique()),\n",
        "    \"recommendation_method\": \"Collaborative Filtering (Item-based)\"\n",
        "}\n",
        "\n",
        "# Save to JSON file\n",
        "with open('RA2512051010001.json', 'w') as f:\n",
        "    json.dump(output_data, f, indent=2)\n"
      ],
      "metadata": {
        "id": "jgJnPA62FS9h"
      },
      "execution_count": 15,
      "outputs": []
    },
    {
      "cell_type": "code",
      "source": [
        "# View the JSON file content\n",
        "with open('RA2512051010001.json', 'r') as f:\n",
        "    json_content = json.load(f)\n",
        "\n",
        "print(json.dumps(json_content, indent=2))\n"
      ],
      "metadata": {
        "colab": {
          "base_uri": "https://localhost:8080/"
        },
        "id": "S0eRrXHSGD_T",
        "outputId": "525f9f11-0ee7-49db-f98c-bc9a74fbf578"
      },
      "execution_count": 16,
      "outputs": [
        {
          "output_type": "stream",
          "name": "stdout",
          "text": [
            "{\n",
            "  \"top_15_recommendations\": [\n",
            "    {\n",
            "      \"Movie_ID\": 28,\n",
            "      \"Name\": \"Lilo and Stitch\",\n",
            "      \"Year\": 2002.0,\n",
            "      \"AvgRating\": 5.0\n",
            "    },\n",
            "    {\n",
            "      \"Movie_ID\": 30,\n",
            "      \"Name\": \"Something's Gotta Give\",\n",
            "      \"Year\": 2003.0,\n",
            "      \"AvgRating\": 5.0\n",
            "    },\n",
            "    {\n",
            "      \"Movie_ID\": 31,\n",
            "      \"Name\": \"Classic Albums: Meat Loaf: Bat Out of Hell\",\n",
            "      \"Year\": 1999.0,\n",
            "      \"AvgRating\": 5.0\n",
            "    },\n",
            "    {\n",
            "      \"Movie_ID\": 35,\n",
            "      \"Name\": \"Ferngully 2: The Magical Rescue\",\n",
            "      \"Year\": 2000.0,\n",
            "      \"AvgRating\": 5.0\n",
            "    },\n",
            "    {\n",
            "      \"Movie_ID\": 49,\n",
            "      \"Name\": \"Devo: The Complete Truth About De-evolution\",\n",
            "      \"Year\": 2003.0,\n",
            "      \"AvgRating\": 5.0\n",
            "    },\n",
            "    {\n",
            "      \"Movie_ID\": 1865,\n",
            "      \"Name\": \"Eternal Sunshine of the Spotless Mind\",\n",
            "      \"Year\": 2004.0,\n",
            "      \"AvgRating\": 5.0\n",
            "    },\n",
            "    {\n",
            "      \"Movie_ID\": 1866,\n",
            "      \"Name\": \"Sirens\",\n",
            "      \"Year\": 1994.0,\n",
            "      \"AvgRating\": 5.0\n",
            "    },\n",
            "    {\n",
            "      \"Movie_ID\": 1868,\n",
            "      \"Name\": \"Mad Monster Party\",\n",
            "      \"Year\": 1967.0,\n",
            "      \"AvgRating\": 5.0\n",
            "    },\n",
            "    {\n",
            "      \"Movie_ID\": 1871,\n",
            "      \"Name\": \"Fela: Music Is the Weapon\",\n",
            "      \"Year\": 1982.0,\n",
            "      \"AvgRating\": 5.0\n",
            "    },\n",
            "    {\n",
            "      \"Movie_ID\": 1878,\n",
            "      \"Name\": \"The Ghost and Mr. Chicken / The Reluctant Astronaut: Double Feature\",\n",
            "      \"Year\": 1966.0,\n",
            "      \"AvgRating\": 5.0\n",
            "    },\n",
            "    {\n",
            "      \"Movie_ID\": 1879,\n",
            "      \"Name\": \"Thomas & Sarah\",\n",
            "      \"Year\": 1979.0,\n",
            "      \"AvgRating\": 5.0\n",
            "    },\n",
            "    {\n",
            "      \"Movie_ID\": 2545,\n",
            "      \"Name\": \"Avalanche\",\n",
            "      \"Year\": 1978.0,\n",
            "      \"AvgRating\": 5.0\n",
            "    },\n",
            "    {\n",
            "      \"Movie_ID\": 2572,\n",
            "      \"Name\": \"The Sandlot 2\",\n",
            "      \"Year\": 2005.0,\n",
            "      \"AvgRating\": 5.0\n",
            "    },\n",
            "    {\n",
            "      \"Movie_ID\": 2573,\n",
            "      \"Name\": \"A Tale of Two Kitties\",\n",
            "      \"Year\": 1996.0,\n",
            "      \"AvgRating\": 5.0\n",
            "    },\n",
            "    {\n",
            "      \"Movie_ID\": 2576,\n",
            "      \"Name\": \"X: The Movie\",\n",
            "      \"Year\": 2000.0,\n",
            "      \"AvgRating\": 5.0\n",
            "    }\n",
            "  ],\n",
            "  \"total_movies\": 17433,\n",
            "  \"total_users\": 829,\n",
            "  \"recommendation_method\": \"Collaborative Filtering (Item-based)\"\n",
            "}\n"
          ]
        }
      ]
    },
    {
      "cell_type": "code",
      "source": [],
      "metadata": {
        "id": "cg_0FuzCGcBc"
      },
      "execution_count": 16,
      "outputs": []
    },
    {
      "cell_type": "markdown",
      "metadata": {
        "id": "ade759cc"
      },
      "source": [
        "## Identify target user's ratings\n",
        "\n",
        "Get the rating data for the target user ID (372233)\n",
        "- Filter the merged_data DataFrame to get the ratings for the target user ID and store it in a new variable.\n"
      ]
    },
    {
      "cell_type": "code",
      "metadata": {
        "id": "e3ed1959"
      },
      "source": [
        "target_user_id = 372233\n",
        "target_user_ratings = merged_data[merged_data['Customer_ID'] == target_user_id]"
      ],
      "execution_count": 17,
      "outputs": []
    },
    {
      "cell_type": "markdown",
      "metadata": {
        "id": "33b505d4"
      },
      "source": [
        "## Calculate user similarity\n",
        "- Calculate the cosine similarity between the target user and all other users based on their movie ratings.\n",
        "\n"
      ]
    },
    {
      "cell_type": "code",
      "metadata": {
        "id": "2d0ce16a"
      },
      "source": [
        "target_user_row = user_movie_matrix_filled.loc[target_user_id].values.reshape(1, -1)\n",
        "user_similarity = cosine_similarity(target_user_row, user_movie_matrix_filled)\n",
        "user_similarity_df = pd.DataFrame(user_similarity.T, index=user_movie_matrix_filled.index, columns=['similarity'])"
      ],
      "execution_count": 18,
      "outputs": []
    },
    {
      "cell_type": "markdown",
      "metadata": {
        "id": "cfeb112f"
      },
      "source": [
        "## Find top similar users\n",
        "- I need to sort the user similarity scores, exclude the target user, and then select the top 15 to find the most similar users.\n",
        "\n"
      ]
    },
    {
      "cell_type": "code",
      "metadata": {
        "id": "8cc7a648"
      },
      "source": [
        "user_similarity_sorted = user_similarity_df.sort_values(by='similarity', ascending=False)\n",
        "top_similar_users = user_similarity_sorted[user_similarity_sorted.index != target_user_id].head(15)"
      ],
      "execution_count": 19,
      "outputs": []
    },
    {
      "cell_type": "markdown",
      "metadata": {
        "id": "84925e87"
      },
      "source": [
        "## Get movies watched by similar users\n",
        "\n",
        "\n",
        "- Filter the merged_data DataFrame to include only the ratings from the users in the top_similar_users DataFrame.\n",
        "\n"
      ]
    },
    {
      "cell_type": "code",
      "metadata": {
        "id": "02cac5d2"
      },
      "source": [
        "movies_by_similar_users = merged_data[merged_data['Customer_ID'].isin(top_similar_users.index)]"
      ],
      "execution_count": 20,
      "outputs": []
    },
    {
      "cell_type": "markdown",
      "metadata": {
        "id": "2abee983"
      },
      "source": [
        "## Filter already watched movies\n",
        "\n",
        "- Create a list of Movie_IDs watched by the target user and filter the movies watched by similar users to exclude those already watched by the target user.\n",
        "\n",
        "\n"
      ]
    },
    {
      "cell_type": "code",
      "metadata": {
        "id": "8638527d"
      },
      "source": [
        "watched_movie_ids = target_user_ratings['Movie_ID'].tolist()\n",
        "recommended_movies_raw = movies_by_similar_users[~movies_by_similar_users['Movie_ID'].isin(watched_movie_ids)]"
      ],
      "execution_count": 21,
      "outputs": []
    },
    {
      "cell_type": "markdown",
      "metadata": {
        "id": "773e5aad"
      },
      "source": [
        "## Rank and select recommendations\n",
        "\n",
        "Rank the movies watched by similar users based on their ratings and select the top recommendations.\n"
      ]
    },
    {
      "cell_type": "code",
      "metadata": {
        "id": "6626e661"
      },
      "source": [
        "movie_recommendations = recommended_movies_raw.groupby('Movie_ID')['Rating'].mean().sort_values(ascending=False)\n",
        "top_recommendation_ids = movie_recommendations.head(15).index.tolist()"
      ],
      "execution_count": 22,
      "outputs": []
    },
    {
      "cell_type": "markdown",
      "metadata": {
        "id": "a2104d72"
      },
      "source": [
        "\n",
        "Merge the recommended movie IDs with the movie information to get the movie titles.\n"
      ]
    },
    {
      "cell_type": "code",
      "metadata": {
        "id": "19eb46c2"
      },
      "source": [
        "top_recommended_movies_details = movie_info[movie_info['Movie_ID'].isin(top_recommendation_ids)]"
      ],
      "execution_count": 23,
      "outputs": []
    },
    {
      "cell_type": "markdown",
      "metadata": {
        "id": "90a4a987"
      },
      "source": [
        "\n",
        "Display the recommended movies.\n",
        "\n",
        "- Display the recommended movies by printing the DataFrame containing their details.\n",
        "\n"
      ]
    },
    {
      "cell_type": "code",
      "metadata": {
        "colab": {
          "base_uri": "https://localhost:8080/"
        },
        "id": "f328271d",
        "outputId": "659e39ad-b96a-4c7d-d26b-94c50d724b70"
      },
      "source": [
        "print(\"Recommended Movies for User 372233:\\n\")\n",
        "print(top_recommended_movies_details.to_string(index=False))"
      ],
      "execution_count": 24,
      "outputs": [
        {
          "output_type": "stream",
          "name": "stdout",
          "text": [
            "Recommended Movies for User 372233:\n",
            "\n",
            " Movie_ID   Year                                Name\n",
            "       92 2002.0                  ECW: Cyberslam '99\n",
            "      258 1999.0                                Mann\n",
            "      306 2005.0 Sesame Street: Sing Yourself Silly!\n",
            "      340 1998.0           Midnight: 2000 Seen By...\n",
            "      343 2000.0           French and Saunders: Live\n",
            "      404 2001.0                           The Shaft\n",
            "      598 1973.0           Bobby Darin: Mack is Back\n",
            "      629 1984.0                         Firestarter\n",
            "      659 1972.0          The Last House on the Left\n",
            "      660 2000.0                        Saving Grace\n",
            "     1234 1994.0                            Crooklyn\n",
            "     1270 2000.0                    The Great Gatsby\n",
            "     1271 1939.0              Drums Along the Mohawk\n",
            "     1961 1939.0                     Port of Shadows\n",
            "     1963 2000.0                 Beautiful Creatures\n"
          ]
        }
      ]
    },
    {
      "cell_type": "code",
      "source": [],
      "metadata": {
        "id": "3zc3D8uDH2c9"
      },
      "execution_count": 24,
      "outputs": []
    }
  ]
}